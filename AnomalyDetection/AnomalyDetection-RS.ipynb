{
 "cells": [
  {
   "cell_type": "markdown",
   "id": "7c7609e3",
   "metadata": {},
   "source": [
    "## Importing the packages and reading the dataset"
   ]
  },
  {
   "cell_type": "code",
   "execution_count": 1,
   "id": "2c810c6c",
   "metadata": {},
   "outputs": [],
   "source": [
    "import pandas as pd\n",
    "import numpy as np\n",
    "import matplotlib\n",
    "import matplotlib.pyplot as plt\n",
    "import seaborn as sns\n",
    "from sklearn.model_selection import train_test_split\n",
    "from sklearn.neighbors import KNeighborsClassifier\n",
    "from sklearn.metrics import accuracy_score,f1_score\n",
    "from imblearn.over_sampling import SMOTE"
   ]
  },
  {
   "cell_type": "code",
   "execution_count": 2,
   "id": "6a94170c",
   "metadata": {},
   "outputs": [
    {
     "data": {
      "text/html": [
       "<div>\n",
       "<style scoped>\n",
       "    .dataframe tbody tr th:only-of-type {\n",
       "        vertical-align: middle;\n",
       "    }\n",
       "\n",
       "    .dataframe tbody tr th {\n",
       "        vertical-align: top;\n",
       "    }\n",
       "\n",
       "    .dataframe thead th {\n",
       "        text-align: right;\n",
       "    }\n",
       "</style>\n",
       "<table border=\"1\" class=\"dataframe\">\n",
       "  <thead>\n",
       "    <tr style=\"text-align: right;\">\n",
       "      <th></th>\n",
       "      <th>Time</th>\n",
       "      <th>V1</th>\n",
       "      <th>V2</th>\n",
       "      <th>V3</th>\n",
       "      <th>V4</th>\n",
       "      <th>V5</th>\n",
       "      <th>V6</th>\n",
       "      <th>V7</th>\n",
       "      <th>V8</th>\n",
       "      <th>V9</th>\n",
       "      <th>...</th>\n",
       "      <th>V21</th>\n",
       "      <th>V22</th>\n",
       "      <th>V23</th>\n",
       "      <th>V24</th>\n",
       "      <th>V25</th>\n",
       "      <th>V26</th>\n",
       "      <th>V27</th>\n",
       "      <th>V28</th>\n",
       "      <th>Amount</th>\n",
       "      <th>Class</th>\n",
       "    </tr>\n",
       "  </thead>\n",
       "  <tbody>\n",
       "    <tr>\n",
       "      <th>0</th>\n",
       "      <td>0</td>\n",
       "      <td>-1.359807</td>\n",
       "      <td>-0.072781</td>\n",
       "      <td>2.536347</td>\n",
       "      <td>1.378155</td>\n",
       "      <td>-0.338321</td>\n",
       "      <td>0.462388</td>\n",
       "      <td>0.239599</td>\n",
       "      <td>0.098698</td>\n",
       "      <td>0.363787</td>\n",
       "      <td>...</td>\n",
       "      <td>-0.018307</td>\n",
       "      <td>0.277838</td>\n",
       "      <td>-0.110474</td>\n",
       "      <td>0.066928</td>\n",
       "      <td>0.128539</td>\n",
       "      <td>-0.189115</td>\n",
       "      <td>0.133558</td>\n",
       "      <td>-0.021053</td>\n",
       "      <td>149.62</td>\n",
       "      <td>0.0</td>\n",
       "    </tr>\n",
       "    <tr>\n",
       "      <th>1</th>\n",
       "      <td>0</td>\n",
       "      <td>1.191857</td>\n",
       "      <td>0.266151</td>\n",
       "      <td>0.166480</td>\n",
       "      <td>0.448154</td>\n",
       "      <td>0.060018</td>\n",
       "      <td>-0.082361</td>\n",
       "      <td>-0.078803</td>\n",
       "      <td>0.085102</td>\n",
       "      <td>-0.255425</td>\n",
       "      <td>...</td>\n",
       "      <td>-0.225775</td>\n",
       "      <td>-0.638672</td>\n",
       "      <td>0.101288</td>\n",
       "      <td>-0.339846</td>\n",
       "      <td>0.167170</td>\n",
       "      <td>0.125895</td>\n",
       "      <td>-0.008983</td>\n",
       "      <td>0.014724</td>\n",
       "      <td>2.69</td>\n",
       "      <td>0.0</td>\n",
       "    </tr>\n",
       "    <tr>\n",
       "      <th>2</th>\n",
       "      <td>1</td>\n",
       "      <td>-1.358354</td>\n",
       "      <td>-1.340163</td>\n",
       "      <td>1.773209</td>\n",
       "      <td>0.379780</td>\n",
       "      <td>-0.503198</td>\n",
       "      <td>1.800499</td>\n",
       "      <td>0.791461</td>\n",
       "      <td>0.247676</td>\n",
       "      <td>-1.514654</td>\n",
       "      <td>...</td>\n",
       "      <td>0.247998</td>\n",
       "      <td>0.771679</td>\n",
       "      <td>0.909412</td>\n",
       "      <td>-0.689281</td>\n",
       "      <td>-0.327642</td>\n",
       "      <td>-0.139097</td>\n",
       "      <td>-0.055353</td>\n",
       "      <td>-0.059752</td>\n",
       "      <td>378.66</td>\n",
       "      <td>0.0</td>\n",
       "    </tr>\n",
       "    <tr>\n",
       "      <th>3</th>\n",
       "      <td>1</td>\n",
       "      <td>-0.966272</td>\n",
       "      <td>-0.185226</td>\n",
       "      <td>1.792993</td>\n",
       "      <td>-0.863291</td>\n",
       "      <td>-0.010309</td>\n",
       "      <td>1.247203</td>\n",
       "      <td>0.237609</td>\n",
       "      <td>0.377436</td>\n",
       "      <td>-1.387024</td>\n",
       "      <td>...</td>\n",
       "      <td>-0.108300</td>\n",
       "      <td>0.005274</td>\n",
       "      <td>-0.190321</td>\n",
       "      <td>-1.175575</td>\n",
       "      <td>0.647376</td>\n",
       "      <td>-0.221929</td>\n",
       "      <td>0.062723</td>\n",
       "      <td>0.061458</td>\n",
       "      <td>123.50</td>\n",
       "      <td>0.0</td>\n",
       "    </tr>\n",
       "    <tr>\n",
       "      <th>4</th>\n",
       "      <td>2</td>\n",
       "      <td>-1.158233</td>\n",
       "      <td>0.877737</td>\n",
       "      <td>1.548718</td>\n",
       "      <td>0.403034</td>\n",
       "      <td>-0.407193</td>\n",
       "      <td>0.095921</td>\n",
       "      <td>0.592941</td>\n",
       "      <td>-0.270533</td>\n",
       "      <td>0.817739</td>\n",
       "      <td>...</td>\n",
       "      <td>-0.009431</td>\n",
       "      <td>0.798278</td>\n",
       "      <td>-0.137458</td>\n",
       "      <td>0.141267</td>\n",
       "      <td>-0.206010</td>\n",
       "      <td>0.502292</td>\n",
       "      <td>0.219422</td>\n",
       "      <td>0.215153</td>\n",
       "      <td>69.99</td>\n",
       "      <td>0.0</td>\n",
       "    </tr>\n",
       "  </tbody>\n",
       "</table>\n",
       "<p>5 rows × 31 columns</p>\n",
       "</div>"
      ],
      "text/plain": [
       "   Time        V1        V2        V3        V4        V5        V6        V7  \\\n",
       "0     0 -1.359807 -0.072781  2.536347  1.378155 -0.338321  0.462388  0.239599   \n",
       "1     0  1.191857  0.266151  0.166480  0.448154  0.060018 -0.082361 -0.078803   \n",
       "2     1 -1.358354 -1.340163  1.773209  0.379780 -0.503198  1.800499  0.791461   \n",
       "3     1 -0.966272 -0.185226  1.792993 -0.863291 -0.010309  1.247203  0.237609   \n",
       "4     2 -1.158233  0.877737  1.548718  0.403034 -0.407193  0.095921  0.592941   \n",
       "\n",
       "         V8        V9  ...       V21       V22       V23       V24       V25  \\\n",
       "0  0.098698  0.363787  ... -0.018307  0.277838 -0.110474  0.066928  0.128539   \n",
       "1  0.085102 -0.255425  ... -0.225775 -0.638672  0.101288 -0.339846  0.167170   \n",
       "2  0.247676 -1.514654  ...  0.247998  0.771679  0.909412 -0.689281 -0.327642   \n",
       "3  0.377436 -1.387024  ... -0.108300  0.005274 -0.190321 -1.175575  0.647376   \n",
       "4 -0.270533  0.817739  ... -0.009431  0.798278 -0.137458  0.141267 -0.206010   \n",
       "\n",
       "        V26       V27       V28  Amount  Class  \n",
       "0 -0.189115  0.133558 -0.021053  149.62    0.0  \n",
       "1  0.125895 -0.008983  0.014724    2.69    0.0  \n",
       "2 -0.139097 -0.055353 -0.059752  378.66    0.0  \n",
       "3 -0.221929  0.062723  0.061458  123.50    0.0  \n",
       "4  0.502292  0.219422  0.215153   69.99    0.0  \n",
       "\n",
       "[5 rows x 31 columns]"
      ]
     },
     "execution_count": 2,
     "metadata": {},
     "output_type": "execute_result"
    }
   ],
   "source": [
    "df=pd.read_csv(\"creditcard_data.csv\")\n",
    "df.head(5)"
   ]
  },
  {
   "cell_type": "markdown",
   "id": "118561d7",
   "metadata": {},
   "source": [
    "## EDA and Preprocessing"
   ]
  },
  {
   "cell_type": "code",
   "execution_count": 3,
   "id": "74c91a7e",
   "metadata": {},
   "outputs": [
    {
     "data": {
      "text/plain": [
       "Time        int64\n",
       "V1        float64\n",
       "V2        float64\n",
       "V3        float64\n",
       "V4        float64\n",
       "V5        float64\n",
       "V6        float64\n",
       "V7        float64\n",
       "V8        float64\n",
       "V9        float64\n",
       "V10       float64\n",
       "V11       float64\n",
       "V12       float64\n",
       "V13       float64\n",
       "V14       float64\n",
       "V15       float64\n",
       "V16       float64\n",
       "V17       float64\n",
       "V18       float64\n",
       "V19       float64\n",
       "V20       float64\n",
       "V21       float64\n",
       "V22       float64\n",
       "V23       float64\n",
       "V24       float64\n",
       "V25       float64\n",
       "V26       float64\n",
       "V27       float64\n",
       "V28       float64\n",
       "Amount    float64\n",
       "Class     float64\n",
       "dtype: object"
      ]
     },
     "execution_count": 3,
     "metadata": {},
     "output_type": "execute_result"
    }
   ],
   "source": [
    "df.dtypes"
   ]
  },
  {
   "cell_type": "code",
   "execution_count": 4,
   "id": "5cf2e7fe",
   "metadata": {},
   "outputs": [
    {
     "data": {
      "text/plain": [
       "1.00       6176\n",
       "1.98       2501\n",
       "9.99       2059\n",
       "0.89       2012\n",
       "15.00      1501\n",
       "           ... \n",
       "2928.58       1\n",
       "174.64        1\n",
       "287.34        1\n",
       "23.61         1\n",
       "716.61        1\n",
       "Name: Amount, Length: 22320, dtype: int64"
      ]
     },
     "execution_count": 4,
     "metadata": {},
     "output_type": "execute_result"
    }
   ],
   "source": [
    "# Checking unique values for various attributes to understand them better\n",
    "df[\"Time\"].value_counts()\n",
    "df[\"Amount\"].value_counts()"
   ]
  },
  {
   "cell_type": "code",
   "execution_count": 5,
   "id": "67f330e8",
   "metadata": {},
   "outputs": [
    {
     "data": {
      "text/plain": [
       "Time      0\n",
       "V1        0\n",
       "V2        1\n",
       "V3        1\n",
       "V4        1\n",
       "V5        1\n",
       "V6        1\n",
       "V7        1\n",
       "V8        1\n",
       "V9        1\n",
       "V10       1\n",
       "V11       1\n",
       "V12       1\n",
       "V13       1\n",
       "V14       1\n",
       "V15       1\n",
       "V16       1\n",
       "V17       1\n",
       "V18       1\n",
       "V19       1\n",
       "V20       1\n",
       "V21       1\n",
       "V22       1\n",
       "V23       1\n",
       "V24       1\n",
       "V25       1\n",
       "V26       1\n",
       "V27       1\n",
       "V28       1\n",
       "Amount    1\n",
       "Class     1\n",
       "dtype: int64"
      ]
     },
     "execution_count": 5,
     "metadata": {},
     "output_type": "execute_result"
    }
   ],
   "source": [
    "df.isnull().sum()"
   ]
  },
  {
   "cell_type": "code",
   "execution_count": 6,
   "id": "23c9e44b",
   "metadata": {},
   "outputs": [
    {
     "data": {
      "text/plain": [
       "(130943, 31)"
      ]
     },
     "execution_count": 6,
     "metadata": {},
     "output_type": "execute_result"
    }
   ],
   "source": [
    "df.shape"
   ]
  },
  {
   "cell_type": "code",
   "execution_count": 7,
   "id": "f0e14dd2",
   "metadata": {},
   "outputs": [],
   "source": [
    "df.dropna(inplace=True)"
   ]
  },
  {
   "cell_type": "code",
   "execution_count": 8,
   "id": "a6b9707b",
   "metadata": {},
   "outputs": [
    {
     "data": {
      "text/html": [
       "<div>\n",
       "<style scoped>\n",
       "    .dataframe tbody tr th:only-of-type {\n",
       "        vertical-align: middle;\n",
       "    }\n",
       "\n",
       "    .dataframe tbody tr th {\n",
       "        vertical-align: top;\n",
       "    }\n",
       "\n",
       "    .dataframe thead th {\n",
       "        text-align: right;\n",
       "    }\n",
       "</style>\n",
       "<table border=\"1\" class=\"dataframe\">\n",
       "  <thead>\n",
       "    <tr style=\"text-align: right;\">\n",
       "      <th></th>\n",
       "      <th>Time</th>\n",
       "      <th>V1</th>\n",
       "      <th>V2</th>\n",
       "      <th>V3</th>\n",
       "      <th>V4</th>\n",
       "      <th>V5</th>\n",
       "      <th>V6</th>\n",
       "      <th>V7</th>\n",
       "      <th>V8</th>\n",
       "      <th>V9</th>\n",
       "      <th>...</th>\n",
       "      <th>V21</th>\n",
       "      <th>V22</th>\n",
       "      <th>V23</th>\n",
       "      <th>V24</th>\n",
       "      <th>V25</th>\n",
       "      <th>V26</th>\n",
       "      <th>V27</th>\n",
       "      <th>V28</th>\n",
       "      <th>Amount</th>\n",
       "      <th>Class</th>\n",
       "    </tr>\n",
       "  </thead>\n",
       "  <tbody>\n",
       "    <tr>\n",
       "      <th>0</th>\n",
       "      <td>0</td>\n",
       "      <td>-1.359807</td>\n",
       "      <td>-0.072781</td>\n",
       "      <td>2.536347</td>\n",
       "      <td>1.378155</td>\n",
       "      <td>-0.338321</td>\n",
       "      <td>0.462388</td>\n",
       "      <td>0.239599</td>\n",
       "      <td>0.098698</td>\n",
       "      <td>0.363787</td>\n",
       "      <td>...</td>\n",
       "      <td>-0.018307</td>\n",
       "      <td>0.277838</td>\n",
       "      <td>-0.110474</td>\n",
       "      <td>0.066928</td>\n",
       "      <td>0.128539</td>\n",
       "      <td>-0.189115</td>\n",
       "      <td>0.133558</td>\n",
       "      <td>-0.021053</td>\n",
       "      <td>149.62</td>\n",
       "      <td>0.0</td>\n",
       "    </tr>\n",
       "    <tr>\n",
       "      <th>1</th>\n",
       "      <td>0</td>\n",
       "      <td>1.191857</td>\n",
       "      <td>0.266151</td>\n",
       "      <td>0.166480</td>\n",
       "      <td>0.448154</td>\n",
       "      <td>0.060018</td>\n",
       "      <td>-0.082361</td>\n",
       "      <td>-0.078803</td>\n",
       "      <td>0.085102</td>\n",
       "      <td>-0.255425</td>\n",
       "      <td>...</td>\n",
       "      <td>-0.225775</td>\n",
       "      <td>-0.638672</td>\n",
       "      <td>0.101288</td>\n",
       "      <td>-0.339846</td>\n",
       "      <td>0.167170</td>\n",
       "      <td>0.125895</td>\n",
       "      <td>-0.008983</td>\n",
       "      <td>0.014724</td>\n",
       "      <td>2.69</td>\n",
       "      <td>0.0</td>\n",
       "    </tr>\n",
       "    <tr>\n",
       "      <th>2</th>\n",
       "      <td>1</td>\n",
       "      <td>-1.358354</td>\n",
       "      <td>-1.340163</td>\n",
       "      <td>1.773209</td>\n",
       "      <td>0.379780</td>\n",
       "      <td>-0.503198</td>\n",
       "      <td>1.800499</td>\n",
       "      <td>0.791461</td>\n",
       "      <td>0.247676</td>\n",
       "      <td>-1.514654</td>\n",
       "      <td>...</td>\n",
       "      <td>0.247998</td>\n",
       "      <td>0.771679</td>\n",
       "      <td>0.909412</td>\n",
       "      <td>-0.689281</td>\n",
       "      <td>-0.327642</td>\n",
       "      <td>-0.139097</td>\n",
       "      <td>-0.055353</td>\n",
       "      <td>-0.059752</td>\n",
       "      <td>378.66</td>\n",
       "      <td>0.0</td>\n",
       "    </tr>\n",
       "    <tr>\n",
       "      <th>3</th>\n",
       "      <td>1</td>\n",
       "      <td>-0.966272</td>\n",
       "      <td>-0.185226</td>\n",
       "      <td>1.792993</td>\n",
       "      <td>-0.863291</td>\n",
       "      <td>-0.010309</td>\n",
       "      <td>1.247203</td>\n",
       "      <td>0.237609</td>\n",
       "      <td>0.377436</td>\n",
       "      <td>-1.387024</td>\n",
       "      <td>...</td>\n",
       "      <td>-0.108300</td>\n",
       "      <td>0.005274</td>\n",
       "      <td>-0.190321</td>\n",
       "      <td>-1.175575</td>\n",
       "      <td>0.647376</td>\n",
       "      <td>-0.221929</td>\n",
       "      <td>0.062723</td>\n",
       "      <td>0.061458</td>\n",
       "      <td>123.50</td>\n",
       "      <td>0.0</td>\n",
       "    </tr>\n",
       "    <tr>\n",
       "      <th>4</th>\n",
       "      <td>2</td>\n",
       "      <td>-1.158233</td>\n",
       "      <td>0.877737</td>\n",
       "      <td>1.548718</td>\n",
       "      <td>0.403034</td>\n",
       "      <td>-0.407193</td>\n",
       "      <td>0.095921</td>\n",
       "      <td>0.592941</td>\n",
       "      <td>-0.270533</td>\n",
       "      <td>0.817739</td>\n",
       "      <td>...</td>\n",
       "      <td>-0.009431</td>\n",
       "      <td>0.798278</td>\n",
       "      <td>-0.137458</td>\n",
       "      <td>0.141267</td>\n",
       "      <td>-0.206010</td>\n",
       "      <td>0.502292</td>\n",
       "      <td>0.219422</td>\n",
       "      <td>0.215153</td>\n",
       "      <td>69.99</td>\n",
       "      <td>0.0</td>\n",
       "    </tr>\n",
       "    <tr>\n",
       "      <th>...</th>\n",
       "      <td>...</td>\n",
       "      <td>...</td>\n",
       "      <td>...</td>\n",
       "      <td>...</td>\n",
       "      <td>...</td>\n",
       "      <td>...</td>\n",
       "      <td>...</td>\n",
       "      <td>...</td>\n",
       "      <td>...</td>\n",
       "      <td>...</td>\n",
       "      <td>...</td>\n",
       "      <td>...</td>\n",
       "      <td>...</td>\n",
       "      <td>...</td>\n",
       "      <td>...</td>\n",
       "      <td>...</td>\n",
       "      <td>...</td>\n",
       "      <td>...</td>\n",
       "      <td>...</td>\n",
       "      <td>...</td>\n",
       "      <td>...</td>\n",
       "    </tr>\n",
       "    <tr>\n",
       "      <th>130937</th>\n",
       "      <td>79463</td>\n",
       "      <td>1.147068</td>\n",
       "      <td>-0.383945</td>\n",
       "      <td>1.005085</td>\n",
       "      <td>-0.851019</td>\n",
       "      <td>-0.992537</td>\n",
       "      <td>-0.127184</td>\n",
       "      <td>-0.694440</td>\n",
       "      <td>0.193771</td>\n",
       "      <td>1.422278</td>\n",
       "      <td>...</td>\n",
       "      <td>0.089589</td>\n",
       "      <td>0.544450</td>\n",
       "      <td>-0.003131</td>\n",
       "      <td>0.270160</td>\n",
       "      <td>0.397354</td>\n",
       "      <td>-0.689634</td>\n",
       "      <td>0.111838</td>\n",
       "      <td>0.025494</td>\n",
       "      <td>1.00</td>\n",
       "      <td>0.0</td>\n",
       "    </tr>\n",
       "    <tr>\n",
       "      <th>130938</th>\n",
       "      <td>79463</td>\n",
       "      <td>-2.202675</td>\n",
       "      <td>-0.892593</td>\n",
       "      <td>0.436432</td>\n",
       "      <td>1.523907</td>\n",
       "      <td>0.764082</td>\n",
       "      <td>-1.593149</td>\n",
       "      <td>0.016452</td>\n",
       "      <td>0.018566</td>\n",
       "      <td>-0.768651</td>\n",
       "      <td>...</td>\n",
       "      <td>-0.582835</td>\n",
       "      <td>-0.767617</td>\n",
       "      <td>1.938239</td>\n",
       "      <td>0.403147</td>\n",
       "      <td>-0.580063</td>\n",
       "      <td>0.163953</td>\n",
       "      <td>0.129860</td>\n",
       "      <td>-0.169588</td>\n",
       "      <td>19.95</td>\n",
       "      <td>0.0</td>\n",
       "    </tr>\n",
       "    <tr>\n",
       "      <th>130939</th>\n",
       "      <td>79463</td>\n",
       "      <td>-0.801828</td>\n",
       "      <td>0.377739</td>\n",
       "      <td>2.588267</td>\n",
       "      <td>-2.013611</td>\n",
       "      <td>-0.605938</td>\n",
       "      <td>-0.554310</td>\n",
       "      <td>0.330325</td>\n",
       "      <td>0.069171</td>\n",
       "      <td>1.262344</td>\n",
       "      <td>...</td>\n",
       "      <td>-0.008220</td>\n",
       "      <td>0.339944</td>\n",
       "      <td>-0.378843</td>\n",
       "      <td>0.523604</td>\n",
       "      <td>0.459755</td>\n",
       "      <td>-0.812811</td>\n",
       "      <td>0.181501</td>\n",
       "      <td>-0.095037</td>\n",
       "      <td>1.00</td>\n",
       "      <td>0.0</td>\n",
       "    </tr>\n",
       "    <tr>\n",
       "      <th>130940</th>\n",
       "      <td>79464</td>\n",
       "      <td>1.189084</td>\n",
       "      <td>-0.445592</td>\n",
       "      <td>1.001756</td>\n",
       "      <td>-0.786310</td>\n",
       "      <td>-1.315109</td>\n",
       "      <td>-0.633740</td>\n",
       "      <td>-0.719694</td>\n",
       "      <td>0.141438</td>\n",
       "      <td>1.656005</td>\n",
       "      <td>...</td>\n",
       "      <td>0.044517</td>\n",
       "      <td>0.305695</td>\n",
       "      <td>-0.014378</td>\n",
       "      <td>0.540015</td>\n",
       "      <td>0.418739</td>\n",
       "      <td>-0.714260</td>\n",
       "      <td>0.085423</td>\n",
       "      <td>0.025646</td>\n",
       "      <td>1.00</td>\n",
       "      <td>0.0</td>\n",
       "    </tr>\n",
       "    <tr>\n",
       "      <th>130941</th>\n",
       "      <td>79464</td>\n",
       "      <td>-1.388597</td>\n",
       "      <td>0.976082</td>\n",
       "      <td>0.566466</td>\n",
       "      <td>2.819323</td>\n",
       "      <td>-0.076908</td>\n",
       "      <td>0.864845</td>\n",
       "      <td>0.408704</td>\n",
       "      <td>0.353320</td>\n",
       "      <td>-1.587288</td>\n",
       "      <td>...</td>\n",
       "      <td>0.191470</td>\n",
       "      <td>0.797253</td>\n",
       "      <td>0.301778</td>\n",
       "      <td>-0.254924</td>\n",
       "      <td>-0.388839</td>\n",
       "      <td>0.224007</td>\n",
       "      <td>-0.390498</td>\n",
       "      <td>0.064478</td>\n",
       "      <td>113.34</td>\n",
       "      <td>0.0</td>\n",
       "    </tr>\n",
       "  </tbody>\n",
       "</table>\n",
       "<p>130942 rows × 31 columns</p>\n",
       "</div>"
      ],
      "text/plain": [
       "         Time        V1        V2        V3        V4        V5        V6  \\\n",
       "0           0 -1.359807 -0.072781  2.536347  1.378155 -0.338321  0.462388   \n",
       "1           0  1.191857  0.266151  0.166480  0.448154  0.060018 -0.082361   \n",
       "2           1 -1.358354 -1.340163  1.773209  0.379780 -0.503198  1.800499   \n",
       "3           1 -0.966272 -0.185226  1.792993 -0.863291 -0.010309  1.247203   \n",
       "4           2 -1.158233  0.877737  1.548718  0.403034 -0.407193  0.095921   \n",
       "...       ...       ...       ...       ...       ...       ...       ...   \n",
       "130937  79463  1.147068 -0.383945  1.005085 -0.851019 -0.992537 -0.127184   \n",
       "130938  79463 -2.202675 -0.892593  0.436432  1.523907  0.764082 -1.593149   \n",
       "130939  79463 -0.801828  0.377739  2.588267 -2.013611 -0.605938 -0.554310   \n",
       "130940  79464  1.189084 -0.445592  1.001756 -0.786310 -1.315109 -0.633740   \n",
       "130941  79464 -1.388597  0.976082  0.566466  2.819323 -0.076908  0.864845   \n",
       "\n",
       "              V7        V8        V9  ...       V21       V22       V23  \\\n",
       "0       0.239599  0.098698  0.363787  ... -0.018307  0.277838 -0.110474   \n",
       "1      -0.078803  0.085102 -0.255425  ... -0.225775 -0.638672  0.101288   \n",
       "2       0.791461  0.247676 -1.514654  ...  0.247998  0.771679  0.909412   \n",
       "3       0.237609  0.377436 -1.387024  ... -0.108300  0.005274 -0.190321   \n",
       "4       0.592941 -0.270533  0.817739  ... -0.009431  0.798278 -0.137458   \n",
       "...          ...       ...       ...  ...       ...       ...       ...   \n",
       "130937 -0.694440  0.193771  1.422278  ...  0.089589  0.544450 -0.003131   \n",
       "130938  0.016452  0.018566 -0.768651  ... -0.582835 -0.767617  1.938239   \n",
       "130939  0.330325  0.069171  1.262344  ... -0.008220  0.339944 -0.378843   \n",
       "130940 -0.719694  0.141438  1.656005  ...  0.044517  0.305695 -0.014378   \n",
       "130941  0.408704  0.353320 -1.587288  ...  0.191470  0.797253  0.301778   \n",
       "\n",
       "             V24       V25       V26       V27       V28  Amount  Class  \n",
       "0       0.066928  0.128539 -0.189115  0.133558 -0.021053  149.62    0.0  \n",
       "1      -0.339846  0.167170  0.125895 -0.008983  0.014724    2.69    0.0  \n",
       "2      -0.689281 -0.327642 -0.139097 -0.055353 -0.059752  378.66    0.0  \n",
       "3      -1.175575  0.647376 -0.221929  0.062723  0.061458  123.50    0.0  \n",
       "4       0.141267 -0.206010  0.502292  0.219422  0.215153   69.99    0.0  \n",
       "...          ...       ...       ...       ...       ...     ...    ...  \n",
       "130937  0.270160  0.397354 -0.689634  0.111838  0.025494    1.00    0.0  \n",
       "130938  0.403147 -0.580063  0.163953  0.129860 -0.169588   19.95    0.0  \n",
       "130939  0.523604  0.459755 -0.812811  0.181501 -0.095037    1.00    0.0  \n",
       "130940  0.540015  0.418739 -0.714260  0.085423  0.025646    1.00    0.0  \n",
       "130941 -0.254924 -0.388839  0.224007 -0.390498  0.064478  113.34    0.0  \n",
       "\n",
       "[130942 rows x 31 columns]"
      ]
     },
     "execution_count": 8,
     "metadata": {},
     "output_type": "execute_result"
    }
   ],
   "source": [
    "df"
   ]
  },
  {
   "cell_type": "code",
   "execution_count": 9,
   "id": "766ca088",
   "metadata": {},
   "outputs": [
    {
     "data": {
      "text/plain": [
       "Time      0\n",
       "V1        0\n",
       "V2        0\n",
       "V3        0\n",
       "V4        0\n",
       "V5        0\n",
       "V6        0\n",
       "V7        0\n",
       "V8        0\n",
       "V9        0\n",
       "V10       0\n",
       "V11       0\n",
       "V12       0\n",
       "V13       0\n",
       "V14       0\n",
       "V15       0\n",
       "V16       0\n",
       "V17       0\n",
       "V18       0\n",
       "V19       0\n",
       "V20       0\n",
       "V21       0\n",
       "V22       0\n",
       "V23       0\n",
       "V24       0\n",
       "V25       0\n",
       "V26       0\n",
       "V27       0\n",
       "V28       0\n",
       "Amount    0\n",
       "Class     0\n",
       "dtype: int64"
      ]
     },
     "execution_count": 9,
     "metadata": {},
     "output_type": "execute_result"
    }
   ],
   "source": [
    "df.isnull().sum()"
   ]
  },
  {
   "cell_type": "raw",
   "id": "4e10e9b5",
   "metadata": {},
   "source": [
    "From the above steps, we can see that all the dat features are numerical in nature. Now there might be some outliers in the above data so we can try plotting some box plots to understand the distribution better. "
   ]
  },
  {
   "cell_type": "code",
   "execution_count": 10,
   "id": "b06d71e7",
   "metadata": {},
   "outputs": [
    {
     "data": {
      "image/png": "[encoded data removed]",
      "text/plain": [
       "<Figure size 1080x432 with 4 Axes>"
      ]
     },
     "metadata": {
      "needs_background": "light"
     },
     "output_type": "display_data"
    }
   ],
   "source": [
    "fig,ax=plt.subplots(1,4,figsize=(15,6))\n",
    "sns.set_style(\"whitegrid\")\n",
    "sns.boxplot(x=df[\"V1\"],ax=ax[0])\n",
    "sns.boxplot(x=df[\"V7\"],ax=ax[1])\n",
    "sns.boxplot(x=df[\"V17\"],ax=ax[2])\n",
    "sns.boxplot(x=df[\"Amount\"],ax=ax[3])\n",
    "plt.show()"
   ]
  },
  {
   "cell_type": "markdown",
   "id": "a99dcd17",
   "metadata": {},
   "source": [
    "From the above boxplots, we can see that there are a lot of outliers in our features which will affect the performance of models."
   ]
  },
  {
   "cell_type": "code",
   "execution_count": 11,
   "id": "0ed992b7",
   "metadata": {},
   "outputs": [],
   "source": [
    "## No other pre-processing seems necessary as dimensionality reduction has already been performed on the data and all the data is numerical.\n",
    "#The only features which have not been transformed with PCA are 'Time' and 'Amount'. Feature 'Time' contains the seconds elapsed between each transaction and \n",
    "#the first transaction in the dataset. \n",
    "# The feature 'Amount' is the transaction Amount, this feature can be used for example-dependant cost-sensitive learning"
   ]
  },
  {
   "cell_type": "code",
   "execution_count": 18,
   "id": "6a81e1c1",
   "metadata": {},
   "outputs": [
    {
     "data": {
      "text/plain": [
       "0.0019972298957002164"
      ]
     },
     "execution_count": 18,
     "metadata": {},
     "output_type": "execute_result"
    }
   ],
   "source": [
    "# Determining Outlier Fraction\n",
    "fraud = df[df[\"Class\"]==1]\n",
    "normal = df[df[\"Class\"]==0]\n",
    "\n",
    "outlier_frac = len(fraud)/len(normal)\n",
    "outlier_frac\n"
   ]
  },
  {
   "cell_type": "markdown",
   "id": "c0afdd9e",
   "metadata": {},
   "source": [
    "## Dividing the data into test and train datasets"
   ]
  },
  {
   "cell_type": "code",
   "execution_count": 19,
   "id": "2a079897",
   "metadata": {},
   "outputs": [],
   "source": [
    "x=df.iloc[:,:-1].values\n",
    "y=df.iloc[:,-1].values"
   ]
  },
  {
   "cell_type": "code",
   "execution_count": 20,
   "id": "7accd61a",
   "metadata": {},
   "outputs": [
    {
     "data": {
      "text/plain": [
       "array([ 0.00000000e+00, -1.35980713e+00, -7.27811730e-02,  2.53634674e+00,\n",
       "        1.37815522e+00, -3.38320770e-01,  4.62387778e-01,  2.39598554e-01,\n",
       "        9.86979010e-02,  3.63786970e-01,  9.07941720e-02, -5.51599533e-01,\n",
       "       -6.17800856e-01, -9.91389847e-01, -3.11169354e-01,  1.46817697e+00,\n",
       "       -4.70400525e-01,  2.07971242e-01,  2.57905800e-02,  4.03992960e-01,\n",
       "        2.51412098e-01, -1.83067780e-02,  2.77837576e-01, -1.10473910e-01,\n",
       "        6.69280750e-02,  1.28539358e-01, -1.89114844e-01,  1.33558377e-01,\n",
       "       -2.10530530e-02,  1.49620000e+02])"
      ]
     },
     "execution_count": 20,
     "metadata": {},
     "output_type": "execute_result"
    }
   ],
   "source": [
    "x[0]"
   ]
  },
  {
   "cell_type": "code",
   "execution_count": 21,
   "id": "0a91b350",
   "metadata": {},
   "outputs": [],
   "source": [
    "xtrain,xtest,ytrain,ytest=train_test_split(x,y,test_size=0.3,random_state=1)"
   ]
  },
  {
   "cell_type": "code",
   "execution_count": 22,
   "id": "cfdeb22b",
   "metadata": {},
   "outputs": [
    {
     "name": "stdout",
     "output_type": "stream",
     "text": [
      "Training data shape x: (91659, 30) and y:(91659,)\n",
      "Test data shape x: (39283, 30) and y:(39283,)\n"
     ]
    }
   ],
   "source": [
    "print(\"Training data shape x: {} and y:{}\".format(xtrain.shape,ytrain.shape))\n",
    "print(\"Test data shape x: {} and y:{}\".format(xtest.shape,ytest.shape))\n"
   ]
  },
  {
   "cell_type": "markdown",
   "id": "1c609de4",
   "metadata": {},
   "source": [
    "## Functions"
   ]
  },
  {
   "cell_type": "code",
   "execution_count": 23,
   "id": "3dbb8502",
   "metadata": {},
   "outputs": [],
   "source": [
    "def get_scores(y_pred,y_test):\n",
    "    acc = accuracy_score(y_test,y_pred)\n",
    "    f1=f1_score(y_test,y_pred)\n",
    "    print(\"Accuracy\",acc)\n",
    "    print(\"F1- Score:\",f1)\n",
    "    return acc,f1"
   ]
  },
  {
   "cell_type": "code",
   "execution_count": 24,
   "id": "e211c5ae",
   "metadata": {},
   "outputs": [],
   "source": [
    "def balance(xtrain,ytrain):\n",
    "    print(\"Initial class distribution in training set\")\n",
    "    print(\"-------------------------------------------\")\n",
    "    unique,count=np.unique(ytrain,return_counts=True)\n",
    "    class_dist = {k:v for (k,v) in zip(unique,count)}\n",
    "    print(class_dist)\n",
    "    #for key,value in class_dist:\n",
    "        #print(\"{}:{}\".format(key,value))\n",
    "    print(\"Balancing using SMOTE\")\n",
    "    print(\"-\"*20)\n",
    "    smt=SMOTE()\n",
    "    xtrain_sm,ytrain_sm=smt.fit_resample(xtrain,ytrain)\n",
    "    print(\"Balancing COMPLETE!\\n Distribution after balancing\")\n",
    "    print(\"-\"*20)\n",
    "    unique2,count2=np.unique(ytrain_sm,return_counts=True)\n",
    "    class_dist2 = {k:v for (k,v) in zip(unique2,count2)}\n",
    "    print(class_dist2)\n",
    "    #for key,value in class_dist2:\n",
    "        #print(\"{}:{}\".format(key,value))\n",
    "    return xtrain_sm,ytrain_sm"
   ]
  },
  {
   "cell_type": "markdown",
   "id": "6680f1da",
   "metadata": {},
   "source": [
    "## Baseline Model"
   ]
  },
  {
   "cell_type": "code",
   "execution_count": 25,
   "id": "08c9d118",
   "metadata": {},
   "outputs": [
    {
     "data": {
      "text/plain": [
       "KNeighborsClassifier(n_neighbors=3)"
      ]
     },
     "execution_count": 25,
     "metadata": {},
     "output_type": "execute_result"
    }
   ],
   "source": [
    "knn=KNeighborsClassifier(n_neighbors=3)\n",
    "knn.fit(xtrain,ytrain)"
   ]
  },
  {
   "cell_type": "code",
   "execution_count": 26,
   "id": "92a3ec07",
   "metadata": {},
   "outputs": [],
   "source": [
    "y_pred_knn=knn.predict(xtest)"
   ]
  },
  {
   "cell_type": "code",
   "execution_count": 27,
   "id": "f85b137e",
   "metadata": {},
   "outputs": [
    {
     "name": "stdout",
     "output_type": "stream",
     "text": [
      "Evaluating KNN Classifier \n",
      "----------\n",
      "Accuracy 0.9982435150064913\n",
      "F1- Score: 0.20689655172413793\n"
     ]
    }
   ],
   "source": [
    "print(\"Evaluating KNN Classifier \")\n",
    "print(\"-\"*10)\n",
    "acc_knn,f1_knn = get_scores(ytest,y_pred_knn)"
   ]
  },
  {
   "cell_type": "code",
   "execution_count": 28,
   "id": "6e9121e2",
   "metadata": {},
   "outputs": [
    {
     "name": "stdout",
     "output_type": "stream",
     "text": [
      "Initial class distribution in training set\n",
      "-------------------------------------------\n",
      "{0.0: 91476, 1.0: 183}\n",
      "Balancing using SMOTE\n",
      "--------------------\n",
      "Balancing COMPLETE!\n",
      " Distribution after balancing\n",
      "--------------------\n",
      "{0.0: 91476, 1.0: 91476}\n"
     ]
    }
   ],
   "source": [
    "# The above might be a result of high imbalance in dataset\n",
    "# Let's check the imbalancce in training set\n",
    "xtrain_sm,ytrain_sm=balance(xtrain,ytrain)"
   ]
  },
  {
   "cell_type": "code",
   "execution_count": 29,
   "id": "22bbd2fe",
   "metadata": {},
   "outputs": [
    {
     "data": {
      "text/plain": [
       "KNeighborsClassifier(n_neighbors=3)"
      ]
     },
     "execution_count": 29,
     "metadata": {},
     "output_type": "execute_result"
    }
   ],
   "source": [
    "# Now training the model on balanced data\n",
    "knn_bal=KNeighborsClassifier(n_neighbors=3)\n",
    "knn_bal.fit(xtrain_sm,ytrain_sm)"
   ]
  },
  {
   "cell_type": "code",
   "execution_count": 30,
   "id": "54011327",
   "metadata": {},
   "outputs": [],
   "source": [
    "ypred_knn_bal=knn_bal.predict(xtest)"
   ]
  },
  {
   "cell_type": "code",
   "execution_count": 31,
   "id": "a94a622e",
   "metadata": {},
   "outputs": [
    {
     "name": "stdout",
     "output_type": "stream",
     "text": [
      "Evaluating balanced KNN Classifier \n",
      "----------\n",
      "Accuracy 0.9528549245220579\n",
      "F1- Score: 0.04338842975206611\n"
     ]
    }
   ],
   "source": [
    "print(\"Evaluating balanced KNN Classifier \")\n",
    "print(\"-\"*10)\n",
    "acc_knn_bal,f1_knn_bal = get_scores(ytest,ypred_knn_bal)"
   ]
  },
  {
   "cell_type": "code",
   "execution_count": 32,
   "id": "c5394f57",
   "metadata": {},
   "outputs": [],
   "source": [
    "## We can see that performance increased significantly here. We will try some more models and choose the best one going forward."
   ]
  },
  {
   "cell_type": "markdown",
   "id": "635db1ff",
   "metadata": {},
   "source": [
    "#Trying some other models\n",
    "from sklearn.svm import SVC\n",
    "sv_classifier = SVC(kernel=\"linear\",probability=True)\n",
    "sv_classifier.fit(xtrain_sm,ytrain_sm)"
   ]
  },
  {
   "cell_type": "markdown",
   "id": "c1c92f2a",
   "metadata": {},
   "source": [
    "ypred_svc = sv_classifier.predict(xtest)"
   ]
  },
  {
   "cell_type": "markdown",
   "id": "1130f84d",
   "metadata": {},
   "source": [
    "print(\"Evaluating balanced Support Vector Classifier \")\n",
    "print(\"-\"*10)\n",
    "acc_svc,f1_svc = get_scores(ytest,ypred_svc)"
   ]
  },
  {
   "cell_type": "code",
   "execution_count": 33,
   "id": "85bb46c4",
   "metadata": {},
   "outputs": [
    {
     "data": {
      "text/plain": [
       "GaussianNB()"
      ]
     },
     "execution_count": 33,
     "metadata": {},
     "output_type": "execute_result"
    }
   ],
   "source": [
    "from sklearn.naive_bayes import GaussianNB\n",
    "nb = GaussianNB()\n",
    "nb.fit(xtrain_sm,ytrain_sm)"
   ]
  },
  {
   "cell_type": "code",
   "execution_count": 34,
   "id": "1efa1648",
   "metadata": {},
   "outputs": [],
   "source": [
    "ypred_nb=nb.predict(xtest)"
   ]
  },
  {
   "cell_type": "code",
   "execution_count": 35,
   "id": "982b8d05",
   "metadata": {},
   "outputs": [
    {
     "name": "stdout",
     "output_type": "stream",
     "text": [
      "Evaluating balanced Naive Bayes Classifier \n",
      "----------\n",
      "Accuracy 0.984828042664766\n",
      "F1- Score: 0.1745152354570637\n"
     ]
    }
   ],
   "source": [
    "print(\"Evaluating balanced Naive Bayes Classifier \")\n",
    "print(\"-\"*10)\n",
    "acc_nb,f1_nb = get_scores(ytest,ypred_nb)"
   ]
  },
  {
   "cell_type": "code",
   "execution_count": 36,
   "id": "b576a846",
   "metadata": {},
   "outputs": [],
   "source": [
    "# Based upon above results, we finalized KNN as our model"
   ]
  },
  {
   "cell_type": "markdown",
   "id": "a47e2e12",
   "metadata": {},
   "source": [
    "## Using Isolation Forest"
   ]
  },
  {
   "cell_type": "code",
   "execution_count": 44,
   "id": "bd4c1c4d",
   "metadata": {},
   "outputs": [
    {
     "data": {
      "text/plain": [
       "IsolationForest(contamination=0.0019972298957002164)"
      ]
     },
     "execution_count": 44,
     "metadata": {},
     "output_type": "execute_result"
    }
   ],
   "source": [
    "#First removing outliers from imbalanced training and test data\n",
    "from sklearn.ensemble import IsolationForest\n",
    "# Identifying outliers in the training dataset\n",
    "iso = IsolationForest(contamination=outlier_frac)\n",
    "iso.fit(xtrain)"
   ]
  },
  {
   "cell_type": "code",
   "execution_count": 45,
   "id": "c1217618",
   "metadata": {},
   "outputs": [],
   "source": [
    "ypred=iso.predict(xtest)"
   ]
  },
  {
   "cell_type": "code",
   "execution_count": 46,
   "id": "04d06d38",
   "metadata": {},
   "outputs": [],
   "source": [
    "ypred[ypred == 1] = 0\n",
    "ypred[ypred == -1] = 1"
   ]
  },
  {
   "cell_type": "code",
   "execution_count": 47,
   "id": "5a531384",
   "metadata": {},
   "outputs": [
    {
     "name": "stdout",
     "output_type": "stream",
     "text": [
      "Evaluating Isolation Forest Algorithm \n",
      "----------\n",
      "Accuracy 0.9972252628363414\n",
      "F1- Score: 0.3550295857988166\n"
     ]
    }
   ],
   "source": [
    "print(\"Evaluating Isolation Forest Algorithm \")\n",
    "print(\"-\"*10)\n",
    "acc_if,f1_if = get_scores(ytest,ypred)"
   ]
  },
  {
   "cell_type": "code",
   "execution_count": 50,
   "id": "da41ecb3",
   "metadata": {},
   "outputs": [
    {
     "name": "stdout",
     "output_type": "stream",
     "text": [
      "Number of anomalies detected in test set:91\n"
     ]
    }
   ],
   "source": [
    "#Identifying number of anomalies detected\n",
    "num_if = len(ypred[ypred==1])\n",
    "print(\"Number of anomalies detected in test set:{}\".format(num_if))"
   ]
  },
  {
   "cell_type": "markdown",
   "id": "909129a4",
   "metadata": {},
   "source": [
    "## Minimum Covariance Determinant"
   ]
  },
  {
   "cell_type": "code",
   "execution_count": 66,
   "id": "349ea3fe",
   "metadata": {},
   "outputs": [
    {
     "data": {
      "text/plain": [
       "EllipticEnvelope(contamination=0.0019972298957002164, support_fraction=0.91)"
      ]
     },
     "execution_count": 66,
     "metadata": {},
     "output_type": "execute_result"
    }
   ],
   "source": [
    "import warnings\n",
    "warnings.filterwarnings(\"ignore\")\n",
    "from sklearn.covariance import EllipticEnvelope\n",
    "# identify outliers in the training dataset\n",
    "ee = EllipticEnvelope(contamination=outlier_frac, support_fraction=0.91)\n",
    "ee.fit(xtrain)"
   ]
  },
  {
   "cell_type": "code",
   "execution_count": 67,
   "id": "2362a514",
   "metadata": {},
   "outputs": [],
   "source": [
    "ypred_ee= ee.predict(xtest)"
   ]
  },
  {
   "cell_type": "code",
   "execution_count": 68,
   "id": "d08dbde9",
   "metadata": {},
   "outputs": [],
   "source": [
    "ypred_ee[ypred_ee == 1] = 0\n",
    "ypred_ee[ypred_ee == -1] = 1"
   ]
  },
  {
   "cell_type": "code",
   "execution_count": 69,
   "id": "d2526535",
   "metadata": {},
   "outputs": [
    {
     "name": "stdout",
     "output_type": "stream",
     "text": [
      "Evaluating Minimum Covariance Determinant Algorithm \n",
      "----------\n",
      "Accuracy 0.9970216124023115\n",
      "F1- Score: 0.2822085889570552\n"
     ]
    }
   ],
   "source": [
    "print(\"Evaluating Minimum Covariance Determinant Algorithm \")\n",
    "print(\"-\"*10)\n",
    "acc_ee,f1_ee = get_scores(ytest,ypred_ee)"
   ]
  },
  {
   "cell_type": "code",
   "execution_count": 70,
   "id": "6ef6c835",
   "metadata": {},
   "outputs": [
    {
     "name": "stdout",
     "output_type": "stream",
     "text": [
      "Number of anomalies detected in test set:85\n"
     ]
    }
   ],
   "source": [
    "#Identifying number of anomalies detected\n",
    "num_ee = len(ypred_ee[ypred_ee==1])\n",
    "print(\"Number of anomalies detected in test set:{}\".format(num_ee))"
   ]
  },
  {
   "cell_type": "markdown",
   "id": "12b9cfea",
   "metadata": {},
   "source": [
    "## Local Outlier Factor"
   ]
  },
  {
   "cell_type": "code",
   "execution_count": 73,
   "id": "993271bd",
   "metadata": {},
   "outputs": [
    {
     "data": {
      "text/plain": [
       "LocalOutlierFactor(contamination=0.0019972298957002164, novelty=True)"
      ]
     },
     "execution_count": 73,
     "metadata": {},
     "output_type": "execute_result"
    }
   ],
   "source": [
    "from sklearn.neighbors import LocalOutlierFactor\n",
    "# identify outliers in the training dataset\n",
    "lof = LocalOutlierFactor(contamination = outlier_frac,novelty=True)\n",
    "lof.fit(xtrain)"
   ]
  },
  {
   "cell_type": "code",
   "execution_count": 74,
   "id": "2a4f7bad",
   "metadata": {},
   "outputs": [],
   "source": [
    "ypred_lof= lof.predict(xtest)"
   ]
  },
  {
   "cell_type": "code",
   "execution_count": 75,
   "id": "12a57acb",
   "metadata": {},
   "outputs": [],
   "source": [
    "ypred_lof[ypred_lof == 1] = 0\n",
    "ypred_lof[ypred_lof == -1] = 1"
   ]
  },
  {
   "cell_type": "code",
   "execution_count": 76,
   "id": "04bd1db4",
   "metadata": {},
   "outputs": [
    {
     "name": "stdout",
     "output_type": "stream",
     "text": [
      "Evaluating Local Outlier Factor Algorithm \n",
      "----------\n",
      "Accuracy 0.9961306417534302\n",
      "F1- Score: 0.06172839506172839\n"
     ]
    }
   ],
   "source": [
    "print(\"Evaluating Local Outlier Factor Algorithm \")\n",
    "print(\"-\"*10)\n",
    "acc_lof,f1_lof = get_scores(ytest,ypred_lof)"
   ]
  },
  {
   "cell_type": "code",
   "execution_count": 78,
   "id": "e284e417",
   "metadata": {},
   "outputs": [
    {
     "name": "stdout",
     "output_type": "stream",
     "text": [
      "Number of anomalies detected in test set:84\n"
     ]
    }
   ],
   "source": [
    "#Identifying number of anomalies detected\n",
    "num_lof = len(ypred_lof[ypred_lof==1])\n",
    "print(\"Number of anomalies detected in test set:{}\".format(num_lof))"
   ]
  },
  {
   "cell_type": "markdown",
   "id": "3ce82283",
   "metadata": {},
   "source": [
    "## One Class SVM"
   ]
  },
  {
   "cell_type": "code",
   "execution_count": 79,
   "id": "2fd82d3f",
   "metadata": {},
   "outputs": [
    {
     "data": {
      "text/plain": [
       "OneClassSVM(nu=0.0019972298957002164)"
      ]
     },
     "execution_count": 79,
     "metadata": {},
     "output_type": "execute_result"
    }
   ],
   "source": [
    "from sklearn.svm import OneClassSVM\n",
    "# identify outliers in the training dataset\n",
    "OC_svm = OneClassSVM(nu=outlier_frac)\n",
    "OC_svm.fit(xtrain)"
   ]
  },
  {
   "cell_type": "code",
   "execution_count": 80,
   "id": "7494f782",
   "metadata": {},
   "outputs": [],
   "source": [
    "ypred_svm= OC_svm.predict(xtest)"
   ]
  },
  {
   "cell_type": "code",
   "execution_count": 81,
   "id": "b7285a13",
   "metadata": {},
   "outputs": [],
   "source": [
    "ypred_svm[ypred_svm == 1] = 0\n",
    "ypred_svm[ypred_svm == -1] = 1"
   ]
  },
  {
   "cell_type": "code",
   "execution_count": 82,
   "id": "4ce936cf",
   "metadata": {},
   "outputs": [
    {
     "name": "stdout",
     "output_type": "stream",
     "text": [
      "Evaluating One Class SVM Algorithm \n",
      "----------\n",
      "Accuracy 0.9956724282768628\n",
      "F1- Score: 0.0\n"
     ]
    }
   ],
   "source": [
    "print(\"Evaluating One Class SVM Algorithm \")\n",
    "print(\"-\"*10)\n",
    "acc_svm,f1_svm = get_scores(ytest,ypred_svm)"
   ]
  },
  {
   "cell_type": "code",
   "execution_count": 83,
   "id": "0b551d68",
   "metadata": {},
   "outputs": [
    {
     "name": "stdout",
     "output_type": "stream",
     "text": [
      "Number of anomalies detected in test set:92\n"
     ]
    }
   ],
   "source": [
    "#Identifying number of anomalies detected\n",
    "num_svm = len(ypred_svm[ypred_svm==1])\n",
    "print(\"Number of anomalies detected in test set:{}\".format(num_svm))"
   ]
  },
  {
   "cell_type": "code",
   "execution_count": 84,
   "id": "fee112e8",
   "metadata": {},
   "outputs": [
    {
     "data": {
      "text/plain": [
       "['No outliers removed', 91, 85, 84, 92]"
      ]
     },
     "execution_count": 84,
     "metadata": {},
     "output_type": "execute_result"
    }
   ],
   "source": [
    "num_outliers =[]\n",
    "baseline='No outliers removed'\n",
    "num_outliers.append(baseline)\n",
    "num_outliers.append(num_if)\n",
    "num_outliers.append(num_ee)\n",
    "num_outliers.append(num_lof)\n",
    "num_outliers.append(num_svm )\n",
    "num_outliers"
   ]
  },
  {
   "cell_type": "code",
   "execution_count": 85,
   "id": "685357e7",
   "metadata": {},
   "outputs": [
    {
     "data": {
      "text/plain": [
       "[0.998, 0.997, 0.997, 0.996, 0.996]"
      ]
     },
     "execution_count": 85,
     "metadata": {},
     "output_type": "execute_result"
    }
   ],
   "source": [
    "accuracy=[]\n",
    "accuracy.append(acc_knn.round(3))\n",
    "accuracy.append(acc_if.round(3))\n",
    "accuracy.append(acc_ee.round(3))\n",
    "accuracy.append(acc_lof.round(3))\n",
    "accuracy.append(acc_svm.round(3))\n",
    "accuracy"
   ]
  },
  {
   "cell_type": "code",
   "execution_count": 86,
   "id": "589b6291",
   "metadata": {},
   "outputs": [
    {
     "data": {
      "text/plain": [
       "[0.207, 0.355, 0.282, 0.062, 0.0]"
      ]
     },
     "execution_count": 86,
     "metadata": {},
     "output_type": "execute_result"
    }
   ],
   "source": [
    "f1=[]\n",
    "f1.append(f1_knn.round(3))\n",
    "f1.append(f1_if.round(3))\n",
    "f1.append(f1_ee.round(3))\n",
    "f1.append(f1_lof.round(3))\n",
    "f1.append(f1_svm.round(3))\n",
    "f1"
   ]
  },
  {
   "cell_type": "code",
   "execution_count": 87,
   "id": "c8e33f17",
   "metadata": {},
   "outputs": [
    {
     "data": {
      "text/html": [
       "<div>\n",
       "<style scoped>\n",
       "    .dataframe tbody tr th:only-of-type {\n",
       "        vertical-align: middle;\n",
       "    }\n",
       "\n",
       "    .dataframe tbody tr th {\n",
       "        vertical-align: top;\n",
       "    }\n",
       "\n",
       "    .dataframe thead th {\n",
       "        text-align: right;\n",
       "    }\n",
       "</style>\n",
       "<table border=\"1\" class=\"dataframe\">\n",
       "  <thead>\n",
       "    <tr style=\"text-align: right;\">\n",
       "      <th></th>\n",
       "      <th>Number Of outliers</th>\n",
       "      <th>Accuracy</th>\n",
       "      <th>F1-Score</th>\n",
       "    </tr>\n",
       "  </thead>\n",
       "  <tbody>\n",
       "    <tr>\n",
       "      <th>K-Nearest Neighbor</th>\n",
       "      <td>No outliers removed</td>\n",
       "      <td>0.998</td>\n",
       "      <td>0.207</td>\n",
       "    </tr>\n",
       "    <tr>\n",
       "      <th>Isolation Forest</th>\n",
       "      <td>91</td>\n",
       "      <td>0.997</td>\n",
       "      <td>0.355</td>\n",
       "    </tr>\n",
       "    <tr>\n",
       "      <th>Minimum Covariance Determinant</th>\n",
       "      <td>85</td>\n",
       "      <td>0.997</td>\n",
       "      <td>0.282</td>\n",
       "    </tr>\n",
       "    <tr>\n",
       "      <th>Local Outlier Factor</th>\n",
       "      <td>84</td>\n",
       "      <td>0.996</td>\n",
       "      <td>0.062</td>\n",
       "    </tr>\n",
       "    <tr>\n",
       "      <th>One Class SVM</th>\n",
       "      <td>92</td>\n",
       "      <td>0.996</td>\n",
       "      <td>0.000</td>\n",
       "    </tr>\n",
       "  </tbody>\n",
       "</table>\n",
       "</div>"
      ],
      "text/plain": [
       "                                 Number Of outliers  Accuracy  F1-Score\n",
       "K-Nearest Neighbor              No outliers removed     0.998     0.207\n",
       "Isolation Forest                                 91     0.997     0.355\n",
       "Minimum Covariance Determinant                   85     0.997     0.282\n",
       "Local Outlier Factor                             84     0.996     0.062\n",
       "One Class SVM                                    92     0.996     0.000"
      ]
     },
     "execution_count": 87,
     "metadata": {},
     "output_type": "execute_result"
    }
   ],
   "source": [
    "final_df=pd.DataFrame(list(zip(num_outliers,accuracy,f1)),columns=[\"Number Of outliers\",\"Accuracy\",\"F1-Score\"],index=[\"K-Nearest Neighbor\",\"Isolation Forest\",\"Minimum Covariance Determinant\",\"Local Outlier Factor\",\"One Class SVM\"])\n",
    "final_df"
   ]
  },
  {
   "cell_type": "code",
   "execution_count": null,
   "id": "c81695b5",
   "metadata": {},
   "outputs": [],
   "source": []
  }
 ],
 "metadata": {
  "kernelspec": {
   "display_name": "Python 3.6 - AzureML",
   "language": "python",
   "name": "python3-azureml"
  },
  "language_info": {
   "codemirror_mode": {
    "name": "ipython",
    "version": 3
   },
   "file_extension": ".py",
   "mimetype": "text/x-python",
   "name": "python",
   "nbconvert_exporter": "python",
   "pygments_lexer": "ipython3",
   "version": "3.6.9"
  }
 },
 "nbformat": 4,
 "nbformat_minor": 5
}
