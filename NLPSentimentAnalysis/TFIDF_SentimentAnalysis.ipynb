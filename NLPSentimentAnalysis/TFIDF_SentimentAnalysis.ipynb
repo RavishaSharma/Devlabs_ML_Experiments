{
 "cells": [
  {
   "cell_type": "markdown",
   "id": "fe1a891f",
   "metadata": {},
   "source": [
    "## Importing necessary packages"
   ]
  },
  {
   "cell_type": "code",
   "execution_count": 59,
   "id": "426bcaa9",
   "metadata": {},
   "outputs": [],
   "source": [
    "import pandas as pd\n",
    "import numpy as np\n",
    "import matplotlib.pyplot as plt\n",
    "import seaborn as sns\n",
    "import preprocessor as p\n",
    "import contractions\n",
    "import string\n",
    "from nltk.tokenize import word_tokenize\n",
    "import nltk\n",
    "from nltk.corpus import stopwords\n",
    "from wordcloud import WordCloud\n",
    "import matplotlib.pyplot as plt\n",
    "from sklearn.model_selection import train_test_split\n",
    "from sklearn.feature_extraction.text import TfidfVectorizer\n",
    "from sklearn.svm import LinearSVC\n",
    "from sklearn.linear_model import LogisticRegression\n",
    "from sklearn.metrics import confusion_matrix, classification_report,accuracy_score, f1_score"
   ]
  },
  {
   "cell_type": "markdown",
   "id": "a1c6697f",
   "metadata": {},
   "source": [
    "## Functions"
   ]
  },
  {
   "cell_type": "code",
   "execution_count": 60,
   "id": "ebe3855a",
   "metadata": {},
   "outputs": [],
   "source": [
    "def preprocess_tweet(row):\n",
    "    text=row['tweet']\n",
    "    text=p.clean(text)\n",
    "    return text\n",
    "\n",
    "def lowercase(text):\n",
    "    text = text.lower()\n",
    "    return text\n",
    "\n",
    "# Expand the contractions here\n",
    "def expand_contractions(text):\n",
    "    text = contractions.fix(text)\n",
    "    return text\n",
    "\n",
    "def remove_punctuations(text):\n",
    "    for punctuation in string.punctuation:\n",
    "        text = text.replace(punctuation, '')\n",
    "    return text\n",
    "\n",
    "def remove_digits(text):\n",
    "    text=re.sub('[0-9]+', '',text)\n",
    "    return text\n",
    "\n",
    "def tokenizing(text):\n",
    "    text = word_tokenize(text)\n",
    "    tokens = [w for w in text if w not in stop_words]\n",
    "    return tokens\n",
    "\n",
    "# Function for evaluating\n",
    "def model_Evaluate(model):\n",
    "    # Predict values for Test dataset\n",
    "    y_pred = model.predict(xtest)\n",
    "    # Print the evaluation metrics for the dataset.\n",
    "    print(\"Accuracy is {}\".format(accuracy_score(ytest, y_pred)))\n",
    "    print(\"F1 Score is {}\".format(f1_score(ytest, y_pred)))\n",
    "    print(classification_report(ytest, y_pred))\n",
    "    # Compute and plot the Confusion matrix\n",
    "    cf_matrix = confusion_matrix(ytest, y_pred)\n",
    "    print(cf_matrix)"
   ]
  },
  {
   "cell_type": "markdown",
   "id": "3ddf8bc2",
   "metadata": {},
   "source": [
    "## Reading data"
   ]
  },
  {
   "cell_type": "code",
   "execution_count": 146,
   "id": "d91968a0",
   "metadata": {},
   "outputs": [
    {
     "data": {
      "text/html": [
       "<div>\n",
       "<style scoped>\n",
       "    .dataframe tbody tr th:only-of-type {\n",
       "        vertical-align: middle;\n",
       "    }\n",
       "\n",
       "    .dataframe tbody tr th {\n",
       "        vertical-align: top;\n",
       "    }\n",
       "\n",
       "    .dataframe thead th {\n",
       "        text-align: right;\n",
       "    }\n",
       "</style>\n",
       "<table border=\"1\" class=\"dataframe\">\n",
       "  <thead>\n",
       "    <tr style=\"text-align: right;\">\n",
       "      <th></th>\n",
       "      <th>0</th>\n",
       "      <th>1</th>\n",
       "      <th>2</th>\n",
       "      <th>3</th>\n",
       "      <th>4</th>\n",
       "      <th>5</th>\n",
       "    </tr>\n",
       "  </thead>\n",
       "  <tbody>\n",
       "    <tr>\n",
       "      <th>0</th>\n",
       "      <td>0</td>\n",
       "      <td>1467810369</td>\n",
       "      <td>Mon Apr 06 22:19:45 PDT 2009</td>\n",
       "      <td>NO_QUERY</td>\n",
       "      <td>_TheSpecialOne_</td>\n",
       "      <td>@switchfoot http://twitpic.com/2y1zl - Awww, that's a bummer.  You shoulda got David Carr of Third Day to do it. ;D</td>\n",
       "    </tr>\n",
       "    <tr>\n",
       "      <th>1</th>\n",
       "      <td>0</td>\n",
       "      <td>1467810672</td>\n",
       "      <td>Mon Apr 06 22:19:49 PDT 2009</td>\n",
       "      <td>NO_QUERY</td>\n",
       "      <td>scotthamilton</td>\n",
       "      <td>is upset that he can't update his Facebook by texting it... and might cry as a result  School today also. Blah!</td>\n",
       "    </tr>\n",
       "    <tr>\n",
       "      <th>2</th>\n",
       "      <td>0</td>\n",
       "      <td>1467810917</td>\n",
       "      <td>Mon Apr 06 22:19:53 PDT 2009</td>\n",
       "      <td>NO_QUERY</td>\n",
       "      <td>mattycus</td>\n",
       "      <td>@Kenichan I dived many times for the ball. Managed to save 50%  The rest go out of bounds</td>\n",
       "    </tr>\n",
       "    <tr>\n",
       "      <th>3</th>\n",
       "      <td>0</td>\n",
       "      <td>1467811184</td>\n",
       "      <td>Mon Apr 06 22:19:57 PDT 2009</td>\n",
       "      <td>NO_QUERY</td>\n",
       "      <td>ElleCTF</td>\n",
       "      <td>my whole body feels itchy and like its on fire</td>\n",
       "    </tr>\n",
       "    <tr>\n",
       "      <th>4</th>\n",
       "      <td>0</td>\n",
       "      <td>1467811193</td>\n",
       "      <td>Mon Apr 06 22:19:57 PDT 2009</td>\n",
       "      <td>NO_QUERY</td>\n",
       "      <td>Karoli</td>\n",
       "      <td>@nationwideclass no, it's not behaving at all. i'm mad. why am i here? because I can't see you all over there.</td>\n",
       "    </tr>\n",
       "  </tbody>\n",
       "</table>\n",
       "</div>"
      ],
      "text/plain": [
       "   0           1                             2         3                4  \\\n",
       "0  0  1467810369  Mon Apr 06 22:19:45 PDT 2009  NO_QUERY  _TheSpecialOne_   \n",
       "1  0  1467810672  Mon Apr 06 22:19:49 PDT 2009  NO_QUERY  scotthamilton     \n",
       "2  0  1467810917  Mon Apr 06 22:19:53 PDT 2009  NO_QUERY  mattycus          \n",
       "3  0  1467811184  Mon Apr 06 22:19:57 PDT 2009  NO_QUERY  ElleCTF           \n",
       "4  0  1467811193  Mon Apr 06 22:19:57 PDT 2009  NO_QUERY  Karoli            \n",
       "\n",
       "                                                                                                                     5  \n",
       "0  @switchfoot http://twitpic.com/2y1zl - Awww, that's a bummer.  You shoulda got David Carr of Third Day to do it. ;D  \n",
       "1  is upset that he can't update his Facebook by texting it... and might cry as a result  School today also. Blah!      \n",
       "2  @Kenichan I dived many times for the ball. Managed to save 50%  The rest go out of bounds                            \n",
       "3  my whole body feels itchy and like its on fire                                                                       \n",
       "4  @nationwideclass no, it's not behaving at all. i'm mad. why am i here? because I can't see you all over there.       "
      ]
     },
     "execution_count": 146,
     "metadata": {},
     "output_type": "execute_result"
    }
   ],
   "source": [
    "df = pd.read_csv(\"TweetsSentiment140.csv\",header=None, encoding= \"latin-1\")\n",
    "df.head(5)"
   ]
  },
  {
   "cell_type": "code",
   "execution_count": 147,
   "id": "d93bbd9f",
   "metadata": {},
   "outputs": [
    {
     "data": {
      "text/plain": [
       "(1600000, 6)"
      ]
     },
     "execution_count": 147,
     "metadata": {},
     "output_type": "execute_result"
    }
   ],
   "source": [
    "df.shape"
   ]
  },
  {
   "cell_type": "code",
   "execution_count": 148,
   "id": "cdf16742",
   "metadata": {},
   "outputs": [
    {
     "data": {
      "text/html": [
       "<div>\n",
       "<style scoped>\n",
       "    .dataframe tbody tr th:only-of-type {\n",
       "        vertical-align: middle;\n",
       "    }\n",
       "\n",
       "    .dataframe tbody tr th {\n",
       "        vertical-align: top;\n",
       "    }\n",
       "\n",
       "    .dataframe thead th {\n",
       "        text-align: right;\n",
       "    }\n",
       "</style>\n",
       "<table border=\"1\" class=\"dataframe\">\n",
       "  <thead>\n",
       "    <tr style=\"text-align: right;\">\n",
       "      <th></th>\n",
       "      <th>0</th>\n",
       "      <th>1</th>\n",
       "      <th>2</th>\n",
       "      <th>3</th>\n",
       "      <th>4</th>\n",
       "      <th>5</th>\n",
       "    </tr>\n",
       "  </thead>\n",
       "  <tbody>\n",
       "    <tr>\n",
       "      <th>0</th>\n",
       "      <td>0</td>\n",
       "      <td>1467810369</td>\n",
       "      <td>Mon Apr 06 22:19:45 PDT 2009</td>\n",
       "      <td>NO_QUERY</td>\n",
       "      <td>_TheSpecialOne_</td>\n",
       "      <td>@switchfoot http://twitpic.com/2y1zl - Awww, that's a bummer.  You shoulda got David Carr of Third Day to do it. ;D</td>\n",
       "    </tr>\n",
       "    <tr>\n",
       "      <th>1</th>\n",
       "      <td>0</td>\n",
       "      <td>1467810672</td>\n",
       "      <td>Mon Apr 06 22:19:49 PDT 2009</td>\n",
       "      <td>NO_QUERY</td>\n",
       "      <td>scotthamilton</td>\n",
       "      <td>is upset that he can't update his Facebook by texting it... and might cry as a result  School today also. Blah!</td>\n",
       "    </tr>\n",
       "    <tr>\n",
       "      <th>2</th>\n",
       "      <td>0</td>\n",
       "      <td>1467810917</td>\n",
       "      <td>Mon Apr 06 22:19:53 PDT 2009</td>\n",
       "      <td>NO_QUERY</td>\n",
       "      <td>mattycus</td>\n",
       "      <td>@Kenichan I dived many times for the ball. Managed to save 50%  The rest go out of bounds</td>\n",
       "    </tr>\n",
       "    <tr>\n",
       "      <th>3</th>\n",
       "      <td>0</td>\n",
       "      <td>1467811184</td>\n",
       "      <td>Mon Apr 06 22:19:57 PDT 2009</td>\n",
       "      <td>NO_QUERY</td>\n",
       "      <td>ElleCTF</td>\n",
       "      <td>my whole body feels itchy and like its on fire</td>\n",
       "    </tr>\n",
       "    <tr>\n",
       "      <th>4</th>\n",
       "      <td>0</td>\n",
       "      <td>1467811193</td>\n",
       "      <td>Mon Apr 06 22:19:57 PDT 2009</td>\n",
       "      <td>NO_QUERY</td>\n",
       "      <td>Karoli</td>\n",
       "      <td>@nationwideclass no, it's not behaving at all. i'm mad. why am i here? because I can't see you all over there.</td>\n",
       "    </tr>\n",
       "  </tbody>\n",
       "</table>\n",
       "</div>"
      ],
      "text/plain": [
       "   0           1                             2         3                4  \\\n",
       "0  0  1467810369  Mon Apr 06 22:19:45 PDT 2009  NO_QUERY  _TheSpecialOne_   \n",
       "1  0  1467810672  Mon Apr 06 22:19:49 PDT 2009  NO_QUERY  scotthamilton     \n",
       "2  0  1467810917  Mon Apr 06 22:19:53 PDT 2009  NO_QUERY  mattycus          \n",
       "3  0  1467811184  Mon Apr 06 22:19:57 PDT 2009  NO_QUERY  ElleCTF           \n",
       "4  0  1467811193  Mon Apr 06 22:19:57 PDT 2009  NO_QUERY  Karoli            \n",
       "\n",
       "                                                                                                                     5  \n",
       "0  @switchfoot http://twitpic.com/2y1zl - Awww, that's a bummer.  You shoulda got David Carr of Third Day to do it. ;D  \n",
       "1  is upset that he can't update his Facebook by texting it... and might cry as a result  School today also. Blah!      \n",
       "2  @Kenichan I dived many times for the ball. Managed to save 50%  The rest go out of bounds                            \n",
       "3  my whole body feels itchy and like its on fire                                                                       \n",
       "4  @nationwideclass no, it's not behaving at all. i'm mad. why am i here? because I can't see you all over there.       "
      ]
     },
     "execution_count": 148,
     "metadata": {},
     "output_type": "execute_result"
    }
   ],
   "source": [
    "df_1=df[:10000]\n",
    "df_1.head()"
   ]
  },
  {
   "cell_type": "code",
   "execution_count": 149,
   "id": "1c3e6426",
   "metadata": {},
   "outputs": [
    {
     "data": {
      "text/html": [
       "<div>\n",
       "<style scoped>\n",
       "    .dataframe tbody tr th:only-of-type {\n",
       "        vertical-align: middle;\n",
       "    }\n",
       "\n",
       "    .dataframe tbody tr th {\n",
       "        vertical-align: top;\n",
       "    }\n",
       "\n",
       "    .dataframe thead th {\n",
       "        text-align: right;\n",
       "    }\n",
       "</style>\n",
       "<table border=\"1\" class=\"dataframe\">\n",
       "  <thead>\n",
       "    <tr style=\"text-align: right;\">\n",
       "      <th></th>\n",
       "      <th>0</th>\n",
       "      <th>1</th>\n",
       "      <th>2</th>\n",
       "      <th>3</th>\n",
       "      <th>4</th>\n",
       "      <th>5</th>\n",
       "    </tr>\n",
       "  </thead>\n",
       "  <tbody>\n",
       "    <tr>\n",
       "      <th>1590000</th>\n",
       "      <td>4</td>\n",
       "      <td>2191325432</td>\n",
       "      <td>Tue Jun 16 05:02:08 PDT 2009</td>\n",
       "      <td>NO_QUERY</td>\n",
       "      <td>Galiiit</td>\n",
       "      <td>@michaelahills YEP</td>\n",
       "    </tr>\n",
       "    <tr>\n",
       "      <th>1590001</th>\n",
       "      <td>4</td>\n",
       "      <td>2191325450</td>\n",
       "      <td>Tue Jun 16 05:02:08 PDT 2009</td>\n",
       "      <td>NO_QUERY</td>\n",
       "      <td>ulovefran</td>\n",
       "      <td>need to do homework.. can't wait for LVATT.. im gonna mention LVATT in evry tweet until i actually get LVATT.  so yeh. LVATT</td>\n",
       "    </tr>\n",
       "    <tr>\n",
       "      <th>1590002</th>\n",
       "      <td>4</td>\n",
       "      <td>2191325560</td>\n",
       "      <td>Tue Jun 16 05:02:09 PDT 2009</td>\n",
       "      <td>NO_QUERY</td>\n",
       "      <td>KatSyriou</td>\n",
       "      <td>@AnneSudworth Gosh, that's hectic... Tea? I'm surprised you can fit that into such busy schedule, Anne!</td>\n",
       "    </tr>\n",
       "    <tr>\n",
       "      <th>1590003</th>\n",
       "      <td>4</td>\n",
       "      <td>2191325718</td>\n",
       "      <td>Tue Jun 16 05:02:10 PDT 2009</td>\n",
       "      <td>NO_QUERY</td>\n",
       "      <td>aymarn</td>\n",
       "      <td>@hana77  Daily:  8am - 12 midnight</td>\n",
       "    </tr>\n",
       "    <tr>\n",
       "      <th>1590004</th>\n",
       "      <td>4</td>\n",
       "      <td>2191325744</td>\n",
       "      <td>Tue Jun 16 05:02:11 PDT 2009</td>\n",
       "      <td>NO_QUERY</td>\n",
       "      <td>stevemaythe1st</td>\n",
       "      <td>watching the staff in the posh Soho face cream shop eyeing the battered inebriated man outside with extreme suspicion &amp;amp; disapproval</td>\n",
       "    </tr>\n",
       "  </tbody>\n",
       "</table>\n",
       "</div>"
      ],
      "text/plain": [
       "         0           1                             2         3  \\\n",
       "1590000  4  2191325432  Tue Jun 16 05:02:08 PDT 2009  NO_QUERY   \n",
       "1590001  4  2191325450  Tue Jun 16 05:02:08 PDT 2009  NO_QUERY   \n",
       "1590002  4  2191325560  Tue Jun 16 05:02:09 PDT 2009  NO_QUERY   \n",
       "1590003  4  2191325718  Tue Jun 16 05:02:10 PDT 2009  NO_QUERY   \n",
       "1590004  4  2191325744  Tue Jun 16 05:02:11 PDT 2009  NO_QUERY   \n",
       "\n",
       "                      4  \\\n",
       "1590000  Galiiit          \n",
       "1590001  ulovefran        \n",
       "1590002  KatSyriou        \n",
       "1590003  aymarn           \n",
       "1590004  stevemaythe1st   \n",
       "\n",
       "                                                                                                                                                5  \n",
       "1590000  @michaelahills YEP                                                                                                                        \n",
       "1590001  need to do homework.. can't wait for LVATT.. im gonna mention LVATT in evry tweet until i actually get LVATT.  so yeh. LVATT              \n",
       "1590002  @AnneSudworth Gosh, that's hectic... Tea? I'm surprised you can fit that into such busy schedule, Anne!                                   \n",
       "1590003  @hana77  Daily:  8am - 12 midnight                                                                                                        \n",
       "1590004  watching the staff in the posh Soho face cream shop eyeing the battered inebriated man outside with extreme suspicion &amp; disapproval   "
      ]
     },
     "execution_count": 149,
     "metadata": {},
     "output_type": "execute_result"
    }
   ],
   "source": [
    "df_2=df[1590000:]\n",
    "df_2.head()"
   ]
  },
  {
   "cell_type": "code",
   "execution_count": 150,
   "id": "466d1000",
   "metadata": {},
   "outputs": [
    {
     "data": {
      "text/html": [
       "<div>\n",
       "<style scoped>\n",
       "    .dataframe tbody tr th:only-of-type {\n",
       "        vertical-align: middle;\n",
       "    }\n",
       "\n",
       "    .dataframe tbody tr th {\n",
       "        vertical-align: top;\n",
       "    }\n",
       "\n",
       "    .dataframe thead th {\n",
       "        text-align: right;\n",
       "    }\n",
       "</style>\n",
       "<table border=\"1\" class=\"dataframe\">\n",
       "  <thead>\n",
       "    <tr style=\"text-align: right;\">\n",
       "      <th></th>\n",
       "      <th>0</th>\n",
       "      <th>1</th>\n",
       "      <th>2</th>\n",
       "      <th>3</th>\n",
       "      <th>4</th>\n",
       "      <th>5</th>\n",
       "    </tr>\n",
       "  </thead>\n",
       "  <tbody>\n",
       "    <tr>\n",
       "      <th>0</th>\n",
       "      <td>4</td>\n",
       "      <td>2191325432</td>\n",
       "      <td>Tue Jun 16 05:02:08 PDT 2009</td>\n",
       "      <td>NO_QUERY</td>\n",
       "      <td>Galiiit</td>\n",
       "      <td>@michaelahills YEP</td>\n",
       "    </tr>\n",
       "    <tr>\n",
       "      <th>1</th>\n",
       "      <td>4</td>\n",
       "      <td>2191325450</td>\n",
       "      <td>Tue Jun 16 05:02:08 PDT 2009</td>\n",
       "      <td>NO_QUERY</td>\n",
       "      <td>ulovefran</td>\n",
       "      <td>need to do homework.. can't wait for LVATT.. im gonna mention LVATT in evry tweet until i actually get LVATT.  so yeh. LVATT</td>\n",
       "    </tr>\n",
       "    <tr>\n",
       "      <th>2</th>\n",
       "      <td>4</td>\n",
       "      <td>2191325560</td>\n",
       "      <td>Tue Jun 16 05:02:09 PDT 2009</td>\n",
       "      <td>NO_QUERY</td>\n",
       "      <td>KatSyriou</td>\n",
       "      <td>@AnneSudworth Gosh, that's hectic... Tea? I'm surprised you can fit that into such busy schedule, Anne!</td>\n",
       "    </tr>\n",
       "    <tr>\n",
       "      <th>3</th>\n",
       "      <td>4</td>\n",
       "      <td>2191325718</td>\n",
       "      <td>Tue Jun 16 05:02:10 PDT 2009</td>\n",
       "      <td>NO_QUERY</td>\n",
       "      <td>aymarn</td>\n",
       "      <td>@hana77  Daily:  8am - 12 midnight</td>\n",
       "    </tr>\n",
       "    <tr>\n",
       "      <th>4</th>\n",
       "      <td>4</td>\n",
       "      <td>2191325744</td>\n",
       "      <td>Tue Jun 16 05:02:11 PDT 2009</td>\n",
       "      <td>NO_QUERY</td>\n",
       "      <td>stevemaythe1st</td>\n",
       "      <td>watching the staff in the posh Soho face cream shop eyeing the battered inebriated man outside with extreme suspicion &amp;amp; disapproval</td>\n",
       "    </tr>\n",
       "  </tbody>\n",
       "</table>\n",
       "</div>"
      ],
      "text/plain": [
       "   0           1                             2         3               4  \\\n",
       "0  4  2191325432  Tue Jun 16 05:02:08 PDT 2009  NO_QUERY  Galiiit          \n",
       "1  4  2191325450  Tue Jun 16 05:02:08 PDT 2009  NO_QUERY  ulovefran        \n",
       "2  4  2191325560  Tue Jun 16 05:02:09 PDT 2009  NO_QUERY  KatSyriou        \n",
       "3  4  2191325718  Tue Jun 16 05:02:10 PDT 2009  NO_QUERY  aymarn           \n",
       "4  4  2191325744  Tue Jun 16 05:02:11 PDT 2009  NO_QUERY  stevemaythe1st   \n",
       "\n",
       "                                                                                                                                          5  \n",
       "0  @michaelahills YEP                                                                                                                        \n",
       "1  need to do homework.. can't wait for LVATT.. im gonna mention LVATT in evry tweet until i actually get LVATT.  so yeh. LVATT              \n",
       "2  @AnneSudworth Gosh, that's hectic... Tea? I'm surprised you can fit that into such busy schedule, Anne!                                   \n",
       "3  @hana77  Daily:  8am - 12 midnight                                                                                                        \n",
       "4  watching the staff in the posh Soho face cream shop eyeing the battered inebriated man outside with extreme suspicion &amp; disapproval   "
      ]
     },
     "execution_count": 150,
     "metadata": {},
     "output_type": "execute_result"
    }
   ],
   "source": [
    "df_2.reset_index(drop=True,inplace=True)\n",
    "df_2.head()"
   ]
  },
  {
   "cell_type": "code",
   "execution_count": 151,
   "id": "cc3397de",
   "metadata": {},
   "outputs": [
    {
     "data": {
      "text/plain": [
       "(10000, 6)"
      ]
     },
     "execution_count": 151,
     "metadata": {},
     "output_type": "execute_result"
    }
   ],
   "source": [
    "df_1.shape"
   ]
  },
  {
   "cell_type": "code",
   "execution_count": 152,
   "id": "75aeb28c",
   "metadata": {},
   "outputs": [],
   "source": [
    "data = vertical_stack = pd.concat([df_1, df_2], axis=0)"
   ]
  },
  {
   "cell_type": "code",
   "execution_count": 153,
   "id": "dfef3490",
   "metadata": {},
   "outputs": [
    {
     "data": {
      "text/plain": [
       "(20000, 6)"
      ]
     },
     "execution_count": 153,
     "metadata": {},
     "output_type": "execute_result"
    }
   ],
   "source": [
    "data.shape"
   ]
  },
  {
   "cell_type": "code",
   "execution_count": 159,
   "id": "5e8a9aad",
   "metadata": {},
   "outputs": [
    {
     "data": {
      "text/html": [
       "<div>\n",
       "<style scoped>\n",
       "    .dataframe tbody tr th:only-of-type {\n",
       "        vertical-align: middle;\n",
       "    }\n",
       "\n",
       "    .dataframe tbody tr th {\n",
       "        vertical-align: top;\n",
       "    }\n",
       "\n",
       "    .dataframe thead th {\n",
       "        text-align: right;\n",
       "    }\n",
       "</style>\n",
       "<table border=\"1\" class=\"dataframe\">\n",
       "  <thead>\n",
       "    <tr style=\"text-align: right;\">\n",
       "      <th></th>\n",
       "      <th>0</th>\n",
       "      <th>1</th>\n",
       "      <th>2</th>\n",
       "      <th>3</th>\n",
       "      <th>4</th>\n",
       "      <th>5</th>\n",
       "    </tr>\n",
       "  </thead>\n",
       "  <tbody>\n",
       "    <tr>\n",
       "      <th>19995</th>\n",
       "      <td>4</td>\n",
       "      <td>2193601966</td>\n",
       "      <td>Tue Jun 16 08:40:49 PDT 2009</td>\n",
       "      <td>NO_QUERY</td>\n",
       "      <td>AmandaMarie1028</td>\n",
       "      <td>Just woke up. Having no school is the best feeling ever</td>\n",
       "    </tr>\n",
       "    <tr>\n",
       "      <th>19996</th>\n",
       "      <td>4</td>\n",
       "      <td>2193601969</td>\n",
       "      <td>Tue Jun 16 08:40:49 PDT 2009</td>\n",
       "      <td>NO_QUERY</td>\n",
       "      <td>TheWDBoards</td>\n",
       "      <td>TheWDB.com - Very cool to hear old Walt interviews!  â« http://blip.fm/~8bmta</td>\n",
       "    </tr>\n",
       "    <tr>\n",
       "      <th>19997</th>\n",
       "      <td>4</td>\n",
       "      <td>2193601991</td>\n",
       "      <td>Tue Jun 16 08:40:49 PDT 2009</td>\n",
       "      <td>NO_QUERY</td>\n",
       "      <td>bpbabe</td>\n",
       "      <td>Are you ready for your MoJo Makeover? Ask me for details</td>\n",
       "    </tr>\n",
       "    <tr>\n",
       "      <th>19998</th>\n",
       "      <td>4</td>\n",
       "      <td>2193602064</td>\n",
       "      <td>Tue Jun 16 08:40:49 PDT 2009</td>\n",
       "      <td>NO_QUERY</td>\n",
       "      <td>tinydiamondz</td>\n",
       "      <td>Happy 38th Birthday to my boo of alll time!!! Tupac Amaru Shakur</td>\n",
       "    </tr>\n",
       "    <tr>\n",
       "      <th>19999</th>\n",
       "      <td>4</td>\n",
       "      <td>2193602129</td>\n",
       "      <td>Tue Jun 16 08:40:50 PDT 2009</td>\n",
       "      <td>NO_QUERY</td>\n",
       "      <td>RyanTrevMorris</td>\n",
       "      <td>happy #charitytuesday @theNSPCC @SparksCharity @SpeakingUpH4H</td>\n",
       "    </tr>\n",
       "  </tbody>\n",
       "</table>\n",
       "</div>"
      ],
      "text/plain": [
       "       0           1                             2         3                4  \\\n",
       "19995  4  2193601966  Tue Jun 16 08:40:49 PDT 2009  NO_QUERY  AmandaMarie1028   \n",
       "19996  4  2193601969  Tue Jun 16 08:40:49 PDT 2009  NO_QUERY  TheWDBoards       \n",
       "19997  4  2193601991  Tue Jun 16 08:40:49 PDT 2009  NO_QUERY  bpbabe            \n",
       "19998  4  2193602064  Tue Jun 16 08:40:49 PDT 2009  NO_QUERY  tinydiamondz      \n",
       "19999  4  2193602129  Tue Jun 16 08:40:50 PDT 2009  NO_QUERY  RyanTrevMorris    \n",
       "\n",
       "                                                                                    5  \n",
       "19995  Just woke up. Having no school is the best feeling ever                         \n",
       "19996  TheWDB.com - Very cool to hear old Walt interviews!  â« http://blip.fm/~8bmta  \n",
       "19997  Are you ready for your MoJo Makeover? Ask me for details                        \n",
       "19998  Happy 38th Birthday to my boo of alll time!!! Tupac Amaru Shakur                \n",
       "19999  happy #charitytuesday @theNSPCC @SparksCharity @SpeakingUpH4H                   "
      ]
     },
     "execution_count": 159,
     "metadata": {},
     "output_type": "execute_result"
    }
   ],
   "source": [
    "data.reset_index(drop=True,inplace=True)\n",
    "data.tail()"
   ]
  },
  {
   "cell_type": "code",
   "execution_count": 160,
   "id": "b224ac3a",
   "metadata": {},
   "outputs": [
    {
     "data": {
      "text/html": [
       "<div>\n",
       "<style scoped>\n",
       "    .dataframe tbody tr th:only-of-type {\n",
       "        vertical-align: middle;\n",
       "    }\n",
       "\n",
       "    .dataframe tbody tr th {\n",
       "        vertical-align: top;\n",
       "    }\n",
       "\n",
       "    .dataframe thead th {\n",
       "        text-align: right;\n",
       "    }\n",
       "</style>\n",
       "<table border=\"1\" class=\"dataframe\">\n",
       "  <thead>\n",
       "    <tr style=\"text-align: right;\">\n",
       "      <th></th>\n",
       "      <th>sentiment</th>\n",
       "      <th>id</th>\n",
       "      <th>date</th>\n",
       "      <th>query</th>\n",
       "      <th>username</th>\n",
       "      <th>tweet</th>\n",
       "    </tr>\n",
       "  </thead>\n",
       "  <tbody>\n",
       "    <tr>\n",
       "      <th>0</th>\n",
       "      <td>0</td>\n",
       "      <td>1467810369</td>\n",
       "      <td>Mon Apr 06 22:19:45 PDT 2009</td>\n",
       "      <td>NO_QUERY</td>\n",
       "      <td>_TheSpecialOne_</td>\n",
       "      <td>@switchfoot http://twitpic.com/2y1zl - Awww, that's a bummer.  You shoulda got David Carr of Third Day to do it. ;D</td>\n",
       "    </tr>\n",
       "    <tr>\n",
       "      <th>1</th>\n",
       "      <td>0</td>\n",
       "      <td>1467810672</td>\n",
       "      <td>Mon Apr 06 22:19:49 PDT 2009</td>\n",
       "      <td>NO_QUERY</td>\n",
       "      <td>scotthamilton</td>\n",
       "      <td>is upset that he can't update his Facebook by texting it... and might cry as a result  School today also. Blah!</td>\n",
       "    </tr>\n",
       "    <tr>\n",
       "      <th>2</th>\n",
       "      <td>0</td>\n",
       "      <td>1467810917</td>\n",
       "      <td>Mon Apr 06 22:19:53 PDT 2009</td>\n",
       "      <td>NO_QUERY</td>\n",
       "      <td>mattycus</td>\n",
       "      <td>@Kenichan I dived many times for the ball. Managed to save 50%  The rest go out of bounds</td>\n",
       "    </tr>\n",
       "    <tr>\n",
       "      <th>3</th>\n",
       "      <td>0</td>\n",
       "      <td>1467811184</td>\n",
       "      <td>Mon Apr 06 22:19:57 PDT 2009</td>\n",
       "      <td>NO_QUERY</td>\n",
       "      <td>ElleCTF</td>\n",
       "      <td>my whole body feels itchy and like its on fire</td>\n",
       "    </tr>\n",
       "    <tr>\n",
       "      <th>4</th>\n",
       "      <td>0</td>\n",
       "      <td>1467811193</td>\n",
       "      <td>Mon Apr 06 22:19:57 PDT 2009</td>\n",
       "      <td>NO_QUERY</td>\n",
       "      <td>Karoli</td>\n",
       "      <td>@nationwideclass no, it's not behaving at all. i'm mad. why am i here? because I can't see you all over there.</td>\n",
       "    </tr>\n",
       "  </tbody>\n",
       "</table>\n",
       "</div>"
      ],
      "text/plain": [
       "   sentiment          id                          date     query  \\\n",
       "0  0          1467810369  Mon Apr 06 22:19:45 PDT 2009  NO_QUERY   \n",
       "1  0          1467810672  Mon Apr 06 22:19:49 PDT 2009  NO_QUERY   \n",
       "2  0          1467810917  Mon Apr 06 22:19:53 PDT 2009  NO_QUERY   \n",
       "3  0          1467811184  Mon Apr 06 22:19:57 PDT 2009  NO_QUERY   \n",
       "4  0          1467811193  Mon Apr 06 22:19:57 PDT 2009  NO_QUERY   \n",
       "\n",
       "          username  \\\n",
       "0  _TheSpecialOne_   \n",
       "1  scotthamilton     \n",
       "2  mattycus          \n",
       "3  ElleCTF           \n",
       "4  Karoli            \n",
       "\n",
       "                                                                                                                 tweet  \n",
       "0  @switchfoot http://twitpic.com/2y1zl - Awww, that's a bummer.  You shoulda got David Carr of Third Day to do it. ;D  \n",
       "1  is upset that he can't update his Facebook by texting it... and might cry as a result  School today also. Blah!      \n",
       "2  @Kenichan I dived many times for the ball. Managed to save 50%  The rest go out of bounds                            \n",
       "3  my whole body feels itchy and like its on fire                                                                       \n",
       "4  @nationwideclass no, it's not behaving at all. i'm mad. why am i here? because I can't see you all over there.       "
      ]
     },
     "execution_count": 160,
     "metadata": {},
     "output_type": "execute_result"
    }
   ],
   "source": [
    "data.columns = ['sentiment', 'id', 'date', 'query', 'username', 'tweet']\n",
    "data.head()"
   ]
  },
  {
   "cell_type": "markdown",
   "id": "8f658479",
   "metadata": {},
   "source": [
    "## Data Preprocessing"
   ]
  },
  {
   "cell_type": "code",
   "execution_count": 161,
   "id": "3983c587",
   "metadata": {},
   "outputs": [
    {
     "data": {
      "text/html": [
       "<div>\n",
       "<style scoped>\n",
       "    .dataframe tbody tr th:only-of-type {\n",
       "        vertical-align: middle;\n",
       "    }\n",
       "\n",
       "    .dataframe tbody tr th {\n",
       "        vertical-align: top;\n",
       "    }\n",
       "\n",
       "    .dataframe thead th {\n",
       "        text-align: right;\n",
       "    }\n",
       "</style>\n",
       "<table border=\"1\" class=\"dataframe\">\n",
       "  <thead>\n",
       "    <tr style=\"text-align: right;\">\n",
       "      <th></th>\n",
       "      <th>sentiment</th>\n",
       "      <th>tweet</th>\n",
       "    </tr>\n",
       "  </thead>\n",
       "  <tbody>\n",
       "    <tr>\n",
       "      <th>0</th>\n",
       "      <td>0</td>\n",
       "      <td>@switchfoot http://twitpic.com/2y1zl - Awww, that's a bummer.  You shoulda got David Carr of Third Day to do it. ;D</td>\n",
       "    </tr>\n",
       "    <tr>\n",
       "      <th>1</th>\n",
       "      <td>0</td>\n",
       "      <td>is upset that he can't update his Facebook by texting it... and might cry as a result  School today also. Blah!</td>\n",
       "    </tr>\n",
       "    <tr>\n",
       "      <th>2</th>\n",
       "      <td>0</td>\n",
       "      <td>@Kenichan I dived many times for the ball. Managed to save 50%  The rest go out of bounds</td>\n",
       "    </tr>\n",
       "    <tr>\n",
       "      <th>3</th>\n",
       "      <td>0</td>\n",
       "      <td>my whole body feels itchy and like its on fire</td>\n",
       "    </tr>\n",
       "    <tr>\n",
       "      <th>4</th>\n",
       "      <td>0</td>\n",
       "      <td>@nationwideclass no, it's not behaving at all. i'm mad. why am i here? because I can't see you all over there.</td>\n",
       "    </tr>\n",
       "    <tr>\n",
       "      <th>...</th>\n",
       "      <td>...</td>\n",
       "      <td>...</td>\n",
       "    </tr>\n",
       "    <tr>\n",
       "      <th>19995</th>\n",
       "      <td>4</td>\n",
       "      <td>Just woke up. Having no school is the best feeling ever</td>\n",
       "    </tr>\n",
       "    <tr>\n",
       "      <th>19996</th>\n",
       "      <td>4</td>\n",
       "      <td>TheWDB.com - Very cool to hear old Walt interviews!  â« http://blip.fm/~8bmta</td>\n",
       "    </tr>\n",
       "    <tr>\n",
       "      <th>19997</th>\n",
       "      <td>4</td>\n",
       "      <td>Are you ready for your MoJo Makeover? Ask me for details</td>\n",
       "    </tr>\n",
       "    <tr>\n",
       "      <th>19998</th>\n",
       "      <td>4</td>\n",
       "      <td>Happy 38th Birthday to my boo of alll time!!! Tupac Amaru Shakur</td>\n",
       "    </tr>\n",
       "    <tr>\n",
       "      <th>19999</th>\n",
       "      <td>4</td>\n",
       "      <td>happy #charitytuesday @theNSPCC @SparksCharity @SpeakingUpH4H</td>\n",
       "    </tr>\n",
       "  </tbody>\n",
       "</table>\n",
       "<p>20000 rows × 2 columns</p>\n",
       "</div>"
      ],
      "text/plain": [
       "       sentiment  \\\n",
       "0      0           \n",
       "1      0           \n",
       "2      0           \n",
       "3      0           \n",
       "4      0           \n",
       "...   ..           \n",
       "19995  4           \n",
       "19996  4           \n",
       "19997  4           \n",
       "19998  4           \n",
       "19999  4           \n",
       "\n",
       "                                                                                                                     tweet  \n",
       "0      @switchfoot http://twitpic.com/2y1zl - Awww, that's a bummer.  You shoulda got David Carr of Third Day to do it. ;D  \n",
       "1      is upset that he can't update his Facebook by texting it... and might cry as a result  School today also. Blah!      \n",
       "2      @Kenichan I dived many times for the ball. Managed to save 50%  The rest go out of bounds                            \n",
       "3      my whole body feels itchy and like its on fire                                                                       \n",
       "4      @nationwideclass no, it's not behaving at all. i'm mad. why am i here? because I can't see you all over there.       \n",
       "...                                                                                                                ...      \n",
       "19995  Just woke up. Having no school is the best feeling ever                                                              \n",
       "19996  TheWDB.com - Very cool to hear old Walt interviews!  â« http://blip.fm/~8bmta                                       \n",
       "19997  Are you ready for your MoJo Makeover? Ask me for details                                                             \n",
       "19998  Happy 38th Birthday to my boo of alll time!!! Tupac Amaru Shakur                                                     \n",
       "19999  happy #charitytuesday @theNSPCC @SparksCharity @SpeakingUpH4H                                                        \n",
       "\n",
       "[20000 rows x 2 columns]"
      ]
     },
     "execution_count": 161,
     "metadata": {},
     "output_type": "execute_result"
    }
   ],
   "source": [
    "# Now we just want to identify the sentiment based upon tweet so, we'll drop rest of the columns\n",
    "data.drop(columns=[\"id\",\"date\",\"query\",\"username\"],inplace=True)\n",
    "data"
   ]
  },
  {
   "cell_type": "code",
   "execution_count": 162,
   "id": "4da07e32",
   "metadata": {},
   "outputs": [
    {
     "data": {
      "text/plain": [
       "sentiment    0\n",
       "tweet        0\n",
       "dtype: int64"
      ]
     },
     "execution_count": 162,
     "metadata": {},
     "output_type": "execute_result"
    }
   ],
   "source": [
    "# Checking for any null values\n",
    "data.isnull().sum()"
   ]
  },
  {
   "cell_type": "code",
   "execution_count": 163,
   "id": "a69382a9",
   "metadata": {},
   "outputs": [
    {
     "data": {
      "text/plain": [
       "4    10000\n",
       "0    10000\n",
       "Name: sentiment, dtype: int64"
      ]
     },
     "execution_count": 163,
     "metadata": {},
     "output_type": "execute_result"
    }
   ],
   "source": [
    "# Checking for the values assigned to sentiment column\n",
    "data[\"sentiment\"].value_counts()"
   ]
  },
  {
   "cell_type": "code",
   "execution_count": 164,
   "id": "d948cd19",
   "metadata": {},
   "outputs": [],
   "source": [
    "# 0 means a negative tweet and 4 means positive. We can replace it with 0 and 1\n",
    "data[\"sentiment\"].replace(to_replace=4,value=1,inplace=True)"
   ]
  },
  {
   "cell_type": "code",
   "execution_count": 165,
   "id": "11ada267",
   "metadata": {},
   "outputs": [
    {
     "data": {
      "text/plain": [
       "1    10000\n",
       "0    10000\n",
       "Name: sentiment, dtype: int64"
      ]
     },
     "execution_count": 165,
     "metadata": {},
     "output_type": "execute_result"
    }
   ],
   "source": [
    "data[\"sentiment\"].value_counts()"
   ]
  },
  {
   "cell_type": "code",
   "execution_count": 166,
   "id": "3e2c01f0",
   "metadata": {},
   "outputs": [
    {
     "name": "stderr",
     "output_type": "stream",
     "text": [
      "/anaconda/envs/azureml_py36/lib/python3.6/site-packages/seaborn/_decorators.py:43: FutureWarning: Pass the following variable as a keyword arg: x. From version 0.12, the only valid positional argument will be `data`, and passing other arguments without an explicit keyword will result in an error or misinterpretation.\n",
      "  FutureWarning\n"
     ]
    },
    {
     "data": {
      "text/plain": [
       "<matplotlib.axes._subplots.AxesSubplot at 0x7fd65c570208>"
      ]
     },
     "execution_count": 166,
     "metadata": {},
     "output_type": "execute_result"
    },
    {
     "data": {
      "image/png": "[encoded data removed]",
      "text/plain": [
       "<Figure size 432x288 with 1 Axes>"
      ]
     },
     "metadata": {
      "needs_background": "light"
     },
     "output_type": "display_data"
    }
   ],
   "source": [
    "sns.countplot(data[\"sentiment\"]) # the classes are equally distributed"
   ]
  },
  {
   "cell_type": "code",
   "execution_count": 167,
   "id": "8eda1560",
   "metadata": {},
   "outputs": [
    {
     "data": {
      "text/plain": [
       "sentiment    int64 \n",
       "tweet        object\n",
       "dtype: object"
      ]
     },
     "execution_count": 167,
     "metadata": {},
     "output_type": "execute_result"
    }
   ],
   "source": [
    "data.dtypes"
   ]
  },
  {
   "cell_type": "markdown",
   "id": "c65c9c3f",
   "metadata": {},
   "source": [
    "## Text Preprocessing"
   ]
  },
  {
   "cell_type": "code",
   "execution_count": 168,
   "id": "bdb9a054",
   "metadata": {},
   "outputs": [
    {
     "data": {
      "text/html": [
       "<div>\n",
       "<style scoped>\n",
       "    .dataframe tbody tr th:only-of-type {\n",
       "        vertical-align: middle;\n",
       "    }\n",
       "\n",
       "    .dataframe tbody tr th {\n",
       "        vertical-align: top;\n",
       "    }\n",
       "\n",
       "    .dataframe thead th {\n",
       "        text-align: right;\n",
       "    }\n",
       "</style>\n",
       "<table border=\"1\" class=\"dataframe\">\n",
       "  <thead>\n",
       "    <tr style=\"text-align: right;\">\n",
       "      <th></th>\n",
       "      <th>sentiment</th>\n",
       "      <th>tweet</th>\n",
       "    </tr>\n",
       "  </thead>\n",
       "  <tbody>\n",
       "    <tr>\n",
       "      <th>0</th>\n",
       "      <td>0</td>\n",
       "      <td>@switchfoot http://twitpic.com/2y1zl - Awww, that's a bummer.  You shoulda got David Carr of Third Day to do it. ;D</td>\n",
       "    </tr>\n",
       "    <tr>\n",
       "      <th>1</th>\n",
       "      <td>0</td>\n",
       "      <td>is upset that he can't update his Facebook by texting it... and might cry as a result  School today also. Blah!</td>\n",
       "    </tr>\n",
       "    <tr>\n",
       "      <th>2</th>\n",
       "      <td>0</td>\n",
       "      <td>@Kenichan I dived many times for the ball. Managed to save 50%  The rest go out of bounds</td>\n",
       "    </tr>\n",
       "    <tr>\n",
       "      <th>3</th>\n",
       "      <td>0</td>\n",
       "      <td>my whole body feels itchy and like its on fire</td>\n",
       "    </tr>\n",
       "    <tr>\n",
       "      <th>4</th>\n",
       "      <td>0</td>\n",
       "      <td>@nationwideclass no, it's not behaving at all. i'm mad. why am i here? because I can't see you all over there.</td>\n",
       "    </tr>\n",
       "  </tbody>\n",
       "</table>\n",
       "</div>"
      ],
      "text/plain": [
       "   sentiment  \\\n",
       "0  0           \n",
       "1  0           \n",
       "2  0           \n",
       "3  0           \n",
       "4  0           \n",
       "\n",
       "                                                                                                                 tweet  \n",
       "0  @switchfoot http://twitpic.com/2y1zl - Awww, that's a bummer.  You shoulda got David Carr of Third Day to do it. ;D  \n",
       "1  is upset that he can't update his Facebook by texting it... and might cry as a result  School today also. Blah!      \n",
       "2  @Kenichan I dived many times for the ball. Managed to save 50%  The rest go out of bounds                            \n",
       "3  my whole body feels itchy and like its on fire                                                                       \n",
       "4  @nationwideclass no, it's not behaving at all. i'm mad. why am i here? because I can't see you all over there.       "
      ]
     },
     "execution_count": 168,
     "metadata": {},
     "output_type": "execute_result"
    }
   ],
   "source": [
    "# Now, the next step is text preprocessing. \n",
    "# expanding the column width\n",
    "pd.set_option('display.max_colwidth',-1)\n",
    "data.head()"
   ]
  },
  {
   "cell_type": "code",
   "execution_count": 169,
   "id": "77a7fe44",
   "metadata": {},
   "outputs": [
    {
     "data": {
      "text/html": [
       "<div>\n",
       "<style scoped>\n",
       "    .dataframe tbody tr th:only-of-type {\n",
       "        vertical-align: middle;\n",
       "    }\n",
       "\n",
       "    .dataframe tbody tr th {\n",
       "        vertical-align: top;\n",
       "    }\n",
       "\n",
       "    .dataframe thead th {\n",
       "        text-align: right;\n",
       "    }\n",
       "</style>\n",
       "<table border=\"1\" class=\"dataframe\">\n",
       "  <thead>\n",
       "    <tr style=\"text-align: right;\">\n",
       "      <th></th>\n",
       "      <th>sentiment</th>\n",
       "      <th>tweet</th>\n",
       "    </tr>\n",
       "  </thead>\n",
       "  <tbody>\n",
       "    <tr>\n",
       "      <th>19995</th>\n",
       "      <td>1</td>\n",
       "      <td>Just woke up. Having no school is the best feeling ever</td>\n",
       "    </tr>\n",
       "    <tr>\n",
       "      <th>19996</th>\n",
       "      <td>1</td>\n",
       "      <td>TheWDB.com - Very cool to hear old Walt interviews!  â« http://blip.fm/~8bmta</td>\n",
       "    </tr>\n",
       "    <tr>\n",
       "      <th>19997</th>\n",
       "      <td>1</td>\n",
       "      <td>Are you ready for your MoJo Makeover? Ask me for details</td>\n",
       "    </tr>\n",
       "    <tr>\n",
       "      <th>19998</th>\n",
       "      <td>1</td>\n",
       "      <td>Happy 38th Birthday to my boo of alll time!!! Tupac Amaru Shakur</td>\n",
       "    </tr>\n",
       "    <tr>\n",
       "      <th>19999</th>\n",
       "      <td>1</td>\n",
       "      <td>happy #charitytuesday @theNSPCC @SparksCharity @SpeakingUpH4H</td>\n",
       "    </tr>\n",
       "  </tbody>\n",
       "</table>\n",
       "</div>"
      ],
      "text/plain": [
       "       sentiment  \\\n",
       "19995  1           \n",
       "19996  1           \n",
       "19997  1           \n",
       "19998  1           \n",
       "19999  1           \n",
       "\n",
       "                                                                                tweet  \n",
       "19995  Just woke up. Having no school is the best feeling ever                         \n",
       "19996  TheWDB.com - Very cool to hear old Walt interviews!  â« http://blip.fm/~8bmta  \n",
       "19997  Are you ready for your MoJo Makeover? Ask me for details                        \n",
       "19998  Happy 38th Birthday to my boo of alll time!!! Tupac Amaru Shakur                \n",
       "19999  happy #charitytuesday @theNSPCC @SparksCharity @SpeakingUpH4H                   "
      ]
     },
     "execution_count": 169,
     "metadata": {},
     "output_type": "execute_result"
    }
   ],
   "source": [
    "# We can see that we have some punctuations,stopwords,urls, hashtags, mentions\n",
    "data.tail()"
   ]
  },
  {
   "cell_type": "code",
   "execution_count": 170,
   "id": "351e191b",
   "metadata": {},
   "outputs": [],
   "source": [
    "#! pip install tweet-preprocessor"
   ]
  },
  {
   "cell_type": "code",
   "execution_count": 171,
   "id": "5b63e745",
   "metadata": {},
   "outputs": [
    {
     "data": {
      "text/html": [
       "<div>\n",
       "<style scoped>\n",
       "    .dataframe tbody tr th:only-of-type {\n",
       "        vertical-align: middle;\n",
       "    }\n",
       "\n",
       "    .dataframe tbody tr th {\n",
       "        vertical-align: top;\n",
       "    }\n",
       "\n",
       "    .dataframe thead th {\n",
       "        text-align: right;\n",
       "    }\n",
       "</style>\n",
       "<table border=\"1\" class=\"dataframe\">\n",
       "  <thead>\n",
       "    <tr style=\"text-align: right;\">\n",
       "      <th></th>\n",
       "      <th>sentiment</th>\n",
       "      <th>tweet</th>\n",
       "      <th>clean_tweet</th>\n",
       "    </tr>\n",
       "  </thead>\n",
       "  <tbody>\n",
       "    <tr>\n",
       "      <th>0</th>\n",
       "      <td>0</td>\n",
       "      <td>@switchfoot http://twitpic.com/2y1zl - Awww, that's a bummer.  You shoulda got David Carr of Third Day to do it. ;D</td>\n",
       "      <td>- Awww, that's a bummer. You shoulda got David Carr of Third Day to do it.</td>\n",
       "    </tr>\n",
       "    <tr>\n",
       "      <th>1</th>\n",
       "      <td>0</td>\n",
       "      <td>is upset that he can't update his Facebook by texting it... and might cry as a result  School today also. Blah!</td>\n",
       "      <td>is upset that he can't update his Facebook by texting it... and might cry as a result School today also. Blah!</td>\n",
       "    </tr>\n",
       "    <tr>\n",
       "      <th>2</th>\n",
       "      <td>0</td>\n",
       "      <td>@Kenichan I dived many times for the ball. Managed to save 50%  The rest go out of bounds</td>\n",
       "      <td>I dived many times for the ball. Managed to save % The rest go out of bounds</td>\n",
       "    </tr>\n",
       "    <tr>\n",
       "      <th>3</th>\n",
       "      <td>0</td>\n",
       "      <td>my whole body feels itchy and like its on fire</td>\n",
       "      <td>my whole body feels itchy and like its on fire</td>\n",
       "    </tr>\n",
       "    <tr>\n",
       "      <th>4</th>\n",
       "      <td>0</td>\n",
       "      <td>@nationwideclass no, it's not behaving at all. i'm mad. why am i here? because I can't see you all over there.</td>\n",
       "      <td>no, it's not behaving at all. i'm mad. why am i here? because I can't see you all over there.</td>\n",
       "    </tr>\n",
       "    <tr>\n",
       "      <th>5</th>\n",
       "      <td>0</td>\n",
       "      <td>@Kwesidei not the whole crew</td>\n",
       "      <td>not the whole crew</td>\n",
       "    </tr>\n",
       "    <tr>\n",
       "      <th>6</th>\n",
       "      <td>0</td>\n",
       "      <td>Need a hug</td>\n",
       "      <td>Need a hug</td>\n",
       "    </tr>\n",
       "    <tr>\n",
       "      <th>7</th>\n",
       "      <td>0</td>\n",
       "      <td>@LOLTrish hey  long time no see! Yes.. Rains a bit ,only a bit  LOL , I'm fine thanks , how's you ?</td>\n",
       "      <td>hey long time no see! Yes.. Rains a bit ,only a bit LOL , I'm fine thanks , how's you ?</td>\n",
       "    </tr>\n",
       "    <tr>\n",
       "      <th>8</th>\n",
       "      <td>0</td>\n",
       "      <td>@Tatiana_K nope they didn't have it</td>\n",
       "      <td>nope they didn't have it</td>\n",
       "    </tr>\n",
       "    <tr>\n",
       "      <th>9</th>\n",
       "      <td>0</td>\n",
       "      <td>@twittera que me muera ?</td>\n",
       "      <td>que me muera ?</td>\n",
       "    </tr>\n",
       "  </tbody>\n",
       "</table>\n",
       "</div>"
      ],
      "text/plain": [
       "   sentiment  \\\n",
       "0  0           \n",
       "1  0           \n",
       "2  0           \n",
       "3  0           \n",
       "4  0           \n",
       "5  0           \n",
       "6  0           \n",
       "7  0           \n",
       "8  0           \n",
       "9  0           \n",
       "\n",
       "                                                                                                                 tweet  \\\n",
       "0  @switchfoot http://twitpic.com/2y1zl - Awww, that's a bummer.  You shoulda got David Carr of Third Day to do it. ;D   \n",
       "1  is upset that he can't update his Facebook by texting it... and might cry as a result  School today also. Blah!       \n",
       "2  @Kenichan I dived many times for the ball. Managed to save 50%  The rest go out of bounds                             \n",
       "3  my whole body feels itchy and like its on fire                                                                        \n",
       "4  @nationwideclass no, it's not behaving at all. i'm mad. why am i here? because I can't see you all over there.        \n",
       "5  @Kwesidei not the whole crew                                                                                          \n",
       "6  Need a hug                                                                                                            \n",
       "7  @LOLTrish hey  long time no see! Yes.. Rains a bit ,only a bit  LOL , I'm fine thanks , how's you ?                   \n",
       "8  @Tatiana_K nope they didn't have it                                                                                   \n",
       "9  @twittera que me muera ?                                                                                              \n",
       "\n",
       "                                                                                                      clean_tweet  \n",
       "0  - Awww, that's a bummer. You shoulda got David Carr of Third Day to do it.                                      \n",
       "1  is upset that he can't update his Facebook by texting it... and might cry as a result School today also. Blah!  \n",
       "2  I dived many times for the ball. Managed to save % The rest go out of bounds                                    \n",
       "3  my whole body feels itchy and like its on fire                                                                  \n",
       "4  no, it's not behaving at all. i'm mad. why am i here? because I can't see you all over there.                   \n",
       "5  not the whole crew                                                                                              \n",
       "6  Need a hug                                                                                                      \n",
       "7  hey long time no see! Yes.. Rains a bit ,only a bit LOL , I'm fine thanks , how's you ?                         \n",
       "8  nope they didn't have it                                                                                        \n",
       "9  que me muera ?                                                                                                  "
      ]
     },
     "execution_count": 171,
     "metadata": {},
     "output_type": "execute_result"
    }
   ],
   "source": [
    "data['clean_tweet'] = data.apply(preprocess_tweet, axis=1)\n",
    "data[:10]"
   ]
  },
  {
   "cell_type": "code",
   "execution_count": 172,
   "id": "8be6e422",
   "metadata": {},
   "outputs": [
    {
     "data": {
      "text/plain": [
       "\"- awww, that's a bummer. you shoulda got david carr of third day to do it.\""
      ]
     },
     "execution_count": 172,
     "metadata": {},
     "output_type": "execute_result"
    }
   ],
   "source": [
    "str=\"- Awww, that's a bummer. You shoulda got David Carr of Third Day to do it.\"\n",
    "test1 = str.lower()\n",
    "test1"
   ]
  },
  {
   "cell_type": "code",
   "execution_count": 173,
   "id": "38152890",
   "metadata": {},
   "outputs": [
    {
     "data": {
      "text/plain": [
       "0        - awww, that's a bummer. you shoulda got david carr of third day to do it.                                    \n",
       "1        is upset that he can't update his facebook by texting it... and might cry as a result school today also. blah!\n",
       "2        i dived many times for the ball. managed to save % the rest go out of bounds                                  \n",
       "3        my whole body feels itchy and like its on fire                                                                \n",
       "4        no, it's not behaving at all. i'm mad. why am i here? because i can't see you all over there.                 \n",
       "                                                     ...                                                               \n",
       "19995    just woke up. having no school is the best feeling ever                                                       \n",
       "19996    thewdb.com - very cool to hear old walt interviews!                                                           \n",
       "19997    are you ready for your mojo makeover? ask me for details                                                      \n",
       "19998    happy th birthday to my boo of alll time!!! tupac amaru shakur                                                \n",
       "19999    happy                                                                                                         \n",
       "Name: clean_tweet, Length: 20000, dtype: object"
      ]
     },
     "execution_count": 173,
     "metadata": {},
     "output_type": "execute_result"
    }
   ],
   "source": [
    "data[\"clean_tweet\"]=data[\"clean_tweet\"].apply(lowercase)\n",
    "data[\"clean_tweet\"]"
   ]
  },
  {
   "cell_type": "code",
   "execution_count": 174,
   "id": "9fa0e07e",
   "metadata": {},
   "outputs": [],
   "source": [
    "#!pip install contractions"
   ]
  },
  {
   "cell_type": "code",
   "execution_count": 175,
   "id": "1e66f292",
   "metadata": {},
   "outputs": [
    {
     "data": {
      "text/plain": [
       "\"that is a bummer.  he cannot update. i am okay. He would do that. Trump's car\""
      ]
     },
     "execution_count": 175,
     "metadata": {},
     "output_type": "execute_result"
    }
   ],
   "source": [
    " # Checking how contractions work\n",
    "example = \"that's a bummer.  he can't update. i'm okay. He'd do that. Trump's car\"\n",
    "example = contractions.fix(example)\n",
    "example"
   ]
  },
  {
   "cell_type": "code",
   "execution_count": 176,
   "id": "566b3334",
   "metadata": {},
   "outputs": [
    {
     "data": {
      "text/plain": [
       "0        - awww, that is a bummer. you shoulda got david carr of third day to do it.                                    \n",
       "1        is upset that he cannot update his facebook by texting it... and might cry as a result school today also. blah!\n",
       "2        i dived many times for the ball. managed to save % the rest go out of bounds                                   \n",
       "3        my whole body feels itchy and like its on fire                                                                 \n",
       "4        no, it is not behaving at all. i am mad. why am i here? because i cannot see you all over there.               \n",
       "                                                       ...                                                              \n",
       "19995    just woke up. having no school is the best feeling ever                                                        \n",
       "19996    thewdb.com - very cool to hear old walt interviews!                                                            \n",
       "19997    are you ready for your mojo makeover? ask me for details                                                       \n",
       "19998    happy th birthday to my boo of alll time!!! tupac amaru shakur                                                 \n",
       "19999    happy                                                                                                          \n",
       "Name: clean_tweet, Length: 20000, dtype: object"
      ]
     },
     "execution_count": 176,
     "metadata": {},
     "output_type": "execute_result"
    }
   ],
   "source": [
    "data[\"clean_tweet\"]=data[\"clean_tweet\"].apply(expand_contractions)\n",
    "data[\"clean_tweet\"]"
   ]
  },
  {
   "cell_type": "code",
   "execution_count": 177,
   "id": "1ebf57f3",
   "metadata": {},
   "outputs": [
    {
     "data": {
      "text/plain": [
       "0         awww that is a bummer you shoulda got david carr of third day to do it                                   \n",
       "1        is upset that he cannot update his facebook by texting it and might cry as a result school today also blah\n",
       "2        i dived many times for the ball managed to save  the rest go out of bounds                                \n",
       "3        my whole body feels itchy and like its on fire                                                            \n",
       "4        no it is not behaving at all i am mad why am i here because i cannot see you all over there               \n",
       "                                                    ...                                                            \n",
       "19995    just woke up having no school is the best feeling ever                                                    \n",
       "19996    thewdbcom  very cool to hear old walt interviews                                                          \n",
       "19997    are you ready for your mojo makeover ask me for details                                                   \n",
       "19998    happy th birthday to my boo of alll time tupac amaru shakur                                               \n",
       "19999    happy                                                                                                     \n",
       "Name: clean_tweet, Length: 20000, dtype: object"
      ]
     },
     "execution_count": 177,
     "metadata": {},
     "output_type": "execute_result"
    }
   ],
   "source": [
    "# We will remove punctuations using string package\n",
    "\n",
    "# Apply to the DF series\n",
    "data['clean_tweet'] = data['clean_tweet'].apply(remove_punctuations)\n",
    "data['clean_tweet']    "
   ]
  },
  {
   "cell_type": "code",
   "execution_count": 178,
   "id": "b40e6e0e",
   "metadata": {},
   "outputs": [
    {
     "data": {
      "text/plain": [
       "0         awww that is a bummer you shoulda got david carr of third day to do it                                   \n",
       "1        is upset that he cannot update his facebook by texting it and might cry as a result school today also blah\n",
       "2        i dived many times for the ball managed to save  the rest go out of bounds                                \n",
       "3        my whole body feels itchy and like its on fire                                                            \n",
       "4        no it is not behaving at all i am mad why am i here because i cannot see you all over there               \n",
       "                                                    ...                                                            \n",
       "19995    just woke up having no school is the best feeling ever                                                    \n",
       "19996    thewdbcom  very cool to hear old walt interviews                                                          \n",
       "19997    are you ready for your mojo makeover ask me for details                                                   \n",
       "19998    happy th birthday to my boo of alll time tupac amaru shakur                                               \n",
       "19999    happy                                                                                                     \n",
       "Name: clean_tweet, Length: 20000, dtype: object"
      ]
     },
     "execution_count": 178,
     "metadata": {},
     "output_type": "execute_result"
    }
   ],
   "source": [
    "data['clean_tweet'] = data['clean_tweet'].apply(remove_digits)\n",
    "data['clean_tweet']    "
   ]
  },
  {
   "cell_type": "code",
   "execution_count": 179,
   "id": "dd1f1bd5",
   "metadata": {},
   "outputs": [
    {
     "data": {
      "text/plain": [
       "sentiment      0                                                                                                                \n",
       "tweet          Bed. Class 8-12. Work 12-3. Gym 3-5 or 6. Then class 6-10. Another day that's gonna fly by. I miss my girlfriend \n",
       "clean_tweet    bed class  work  gym  or  then class  another day that is going to fly by i miss my girlfriend                   \n",
       "Name: 39, dtype: object"
      ]
     },
     "execution_count": 179,
     "metadata": {},
     "output_type": "execute_result"
    }
   ],
   "source": [
    "# Checking if numbers are removed\n",
    "data.iloc[39]"
   ]
  },
  {
   "cell_type": "code",
   "execution_count": 180,
   "id": "6be001d3",
   "metadata": {},
   "outputs": [],
   "source": [
    "#nltk.download('punkt')"
   ]
  },
  {
   "cell_type": "code",
   "execution_count": 181,
   "id": "f7de53a0",
   "metadata": {},
   "outputs": [
    {
     "data": {
      "text/plain": [
       "['awww',\n",
       " 'that',\n",
       " 'is',\n",
       " 'a',\n",
       " 'bummer',\n",
       " 'you',\n",
       " 'shoulda',\n",
       " 'got',\n",
       " 'david',\n",
       " 'carr',\n",
       " 'of',\n",
       " 'third',\n",
       " 'day',\n",
       " 'to',\n",
       " 'do',\n",
       " 'it']"
      ]
     },
     "execution_count": 181,
     "metadata": {},
     "output_type": "execute_result"
    }
   ],
   "source": [
    "# testing how tokenizer works\n",
    "example = \"awww that is a bummer you shoulda got david carr of third day to do it \"\n",
    "example2 = word_tokenize(example)\n",
    "example2"
   ]
  },
  {
   "cell_type": "code",
   "execution_count": 182,
   "id": "0589dd26",
   "metadata": {},
   "outputs": [],
   "source": [
    "stop_words = set(stopwords.words('english'))\n",
    "tokens = [w for w in example2 if not w in stop_words]"
   ]
  },
  {
   "cell_type": "code",
   "execution_count": 183,
   "id": "b5d46cc8",
   "metadata": {},
   "outputs": [
    {
     "data": {
      "text/plain": [
       "['awww', 'bummer', 'shoulda', 'got', 'david', 'carr', 'third', 'day']"
      ]
     },
     "execution_count": 183,
     "metadata": {},
     "output_type": "execute_result"
    }
   ],
   "source": [
    "tokens"
   ]
  },
  {
   "cell_type": "code",
   "execution_count": 184,
   "id": "625d6a8e",
   "metadata": {},
   "outputs": [
    {
     "data": {
      "text/plain": [
       "0        [awww, bummer, shoulda, got, david, carr, third, day]                            \n",
       "1        [upset, update, facebook, texting, might, cry, result, school, today, also, blah]\n",
       "2        [dived, many, times, ball, managed, save, rest, go, bounds]                      \n",
       "3        [whole, body, feels, itchy, like, fire]                                          \n",
       "4        [behaving, mad, see]                                                             \n",
       "                 ...                                                                      \n",
       "19995    [woke, school, best, feeling, ever]                                              \n",
       "19996    [thewdbcom, cool, hear, old, walt, interviews]                                   \n",
       "19997    [ready, mojo, makeover, ask, details]                                            \n",
       "19998    [happy, th, birthday, boo, alll, time, tupac, amaru, shakur]                     \n",
       "19999    [happy]                                                                          \n",
       "Name: clean_tweet, Length: 20000, dtype: object"
      ]
     },
     "execution_count": 184,
     "metadata": {},
     "output_type": "execute_result"
    }
   ],
   "source": [
    "data[\"clean_tweet\"]=data[\"clean_tweet\"].apply(tokenizing)\n",
    "data[\"clean_tweet\"]"
   ]
  },
  {
   "cell_type": "markdown",
   "id": "ebada8ee",
   "metadata": {},
   "source": [
    "## Convert each tweet as a sequence of words (string) and not list for count vectorizer\n",
    "For Example: [awww, bummer, shoulda, got, david, carr, third, day] should be converted to \"aww bummer shoulda got david carr third day\". Then use other techniques too."
   ]
  },
  {
   "cell_type": "code",
   "execution_count": 185,
   "id": "eaff57c4",
   "metadata": {},
   "outputs": [
    {
     "data": {
      "text/plain": [
       "['awww',\n",
       " 'bummer',\n",
       " 'shoulda',\n",
       " 'got',\n",
       " 'david',\n",
       " 'carr',\n",
       " 'third',\n",
       " 'day',\n",
       " 'upset',\n",
       " 'update',\n",
       " 'facebook',\n",
       " 'texting',\n",
       " 'might',\n",
       " 'cry',\n",
       " 'result',\n",
       " 'school',\n",
       " 'today',\n",
       " 'also',\n",
       " 'blah',\n",
       " 'dived',\n",
       " 'many',\n",
       " 'times',\n",
       " 'ball',\n",
       " 'managed',\n",
       " 'save',\n",
       " 'rest',\n",
       " 'go',\n",
       " 'bounds',\n",
       " 'whole',\n",
       " 'body',\n",
       " 'feels',\n",
       " 'itchy',\n",
       " 'like',\n",
       " 'fire',\n",
       " 'behaving',\n",
       " 'mad',\n",
       " 'see',\n",
       " 'whole',\n",
       " 'crew',\n",
       " 'need',\n",
       " 'hug',\n",
       " 'hey',\n",
       " 'long',\n",
       " 'time',\n",
       " 'see',\n",
       " 'yes',\n",
       " 'rains',\n",
       " 'bit',\n",
       " 'bit',\n",
       " 'lol']"
      ]
     },
     "execution_count": 185,
     "metadata": {},
     "output_type": "execute_result"
    }
   ],
   "source": [
    "all_tokens=[]\n",
    "for i in data[\"clean_tweet\"]:\n",
    "    for j in i:\n",
    "        all_tokens.append(j)\n",
    "all_tokens[:50]   "
   ]
  },
  {
   "cell_type": "code",
   "execution_count": 186,
   "id": "4849d1b2",
   "metadata": {},
   "outputs": [
    {
     "name": "stdout",
     "output_type": "stream",
     "text": [
      "21869\n"
     ]
    },
    {
     "data": {
      "text/plain": [
       "['good', 'day', 'get', 'work', 'going', 'today', 'go', 'like', 'got', 'love']"
      ]
     },
     "execution_count": 186,
     "metadata": {},
     "output_type": "execute_result"
    }
   ],
   "source": [
    "vocabulary = set(all_tokens)\n",
    "print(len(vocabulary))\n",
    "frequency_dist = nltk.FreqDist(all_tokens)\n",
    "sorted(frequency_dist,key=frequency_dist.__getitem__, reverse=True)[0:10]"
   ]
  },
  {
   "cell_type": "code",
   "execution_count": 187,
   "id": "74e7ca6d",
   "metadata": {},
   "outputs": [
    {
     "data": {
      "image/png": "[encoded data removed]",
      "text/plain": [
       "<Figure size 432x288 with 1 Axes>"
      ]
     },
     "metadata": {
      "needs_background": "light"
     },
     "output_type": "display_data"
    }
   ],
   "source": [
    "wordcloud = WordCloud().generate_from_frequencies(frequency_dist)\n",
    "plt.imshow(wordcloud)\n",
    "plt.axis(\"off\")\n",
    "plt.show()"
   ]
  },
  {
   "cell_type": "code",
   "execution_count": 207,
   "id": "acd8805f",
   "metadata": {},
   "outputs": [],
   "source": [
    "# Dividing data into features and target variable\n",
    "X= data[\"clean_tweet\"]\n",
    "y= data[\"sentiment\"]"
   ]
  },
  {
   "cell_type": "code",
   "execution_count": 208,
   "id": "d2f1e0c0",
   "metadata": {},
   "outputs": [],
   "source": [
    "xtrain,xtest,ytrain,ytest = train_test_split(X,y,test_size=0.3, random_state=43)"
   ]
  },
  {
   "cell_type": "markdown",
   "id": "ae7ee232",
   "metadata": {},
   "source": [
    "## Text Vectorization"
   ]
  },
  {
   "cell_type": "code",
   "execution_count": 209,
   "id": "4ea2e728",
   "metadata": {},
   "outputs": [
    {
     "data": {
      "text/plain": [
       "18822    [looking, forward, lunch, broncos, sweetheart]                                                        \n",
       "17415    [waiting, omnia, ii]                                                                                  \n",
       "12240    [going, pick, cousins, school, today, beyond, excited]                                                \n",
       "5588     [bus, school, boo, making, biology, test, today]                                                      \n",
       "12022    [yea, knows, may, next, get, bailout, know, ask, live, make]                                          \n",
       "                                     ...                                                                       \n",
       "18448    [glad, got, hang, learned, danger, tweeting, peoples, names, without, space, context, startin, rumors]\n",
       "7985     [ok, official, feel, like, crap, know, allergies, cold, hate, feeling, phlem, back, throat]           \n",
       "18687    [interesting, mean, us, dirty, something, hehehehe]                                                   \n",
       "19776    [betcha]                                                                                              \n",
       "14148    [giving, calves, break, wearing, flats, todayonly, downside, realize, short, really]                  \n",
       "Name: clean_tweet, Length: 14000, dtype: object"
      ]
     },
     "execution_count": 209,
     "metadata": {},
     "output_type": "execute_result"
    }
   ],
   "source": [
    "xtrain"
   ]
  },
  {
   "cell_type": "code",
   "execution_count": 210,
   "id": "8f0a8efd",
   "metadata": {},
   "outputs": [],
   "source": [
    "#xtrain=xtrain.apply(lambda x: ' '.join(x))\n",
    "#xtrain"
   ]
  },
  {
   "cell_type": "code",
   "execution_count": 211,
   "id": "e15a2d51",
   "metadata": {},
   "outputs": [
    {
     "name": "stdout",
     "output_type": "stream",
     "text": [
      "No. of feature_words:  85483\n"
     ]
    }
   ],
   "source": [
    "vectoriser = TfidfVectorizer(ngram_range=(1,2))\n",
    "vectoriser.fit(xtrain.apply(lambda x: ' '.join(x))) #The TFIDF Vectorizer should expect an array of strings. So if you pass him an array of arrays of tokenz, it crashes. \n",
    "#The lambda function that we have added will change list of words into a string of words. [hard, study, thing, timei, want, sleep] -> hard study thing timei want sleep\n",
    "print('No. of feature_words: ', len(vectoriser.get_feature_names()))"
   ]
  },
  {
   "cell_type": "code",
   "execution_count": 212,
   "id": "f7e9f20b",
   "metadata": {},
   "outputs": [],
   "source": [
    "#xtest=xtest.apply(lambda x: ' '.join(x))\n",
    "#xtest"
   ]
  },
  {
   "cell_type": "code",
   "execution_count": 213,
   "id": "61231419",
   "metadata": {},
   "outputs": [],
   "source": [
    "xtrain = vectoriser.transform(xtrain.apply(lambda x: ' '.join(x))).toarray()\n",
    "xtest  = vectoriser.transform(xtest.apply(lambda x: ' '.join(x))).toarray()"
   ]
  },
  {
   "cell_type": "markdown",
   "id": "f7308e3d",
   "metadata": {},
   "source": [
    "## Model training and Results"
   ]
  },
  {
   "cell_type": "code",
   "execution_count": 214,
   "id": "41e8204a",
   "metadata": {},
   "outputs": [
    {
     "data": {
      "text/plain": [
       "array([[0., 0., 0., ..., 0., 0., 0.],\n",
       "       [0., 0., 0., ..., 0., 0., 0.],\n",
       "       [0., 0., 0., ..., 0., 0., 0.],\n",
       "       ...,\n",
       "       [0., 0., 0., ..., 0., 0., 0.],\n",
       "       [0., 0., 0., ..., 0., 0., 0.],\n",
       "       [0., 0., 0., ..., 0., 0., 0.]])"
      ]
     },
     "execution_count": 214,
     "metadata": {},
     "output_type": "execute_result"
    }
   ],
   "source": [
    "xtrain"
   ]
  },
  {
   "cell_type": "code",
   "execution_count": 215,
   "id": "8ba5bef4",
   "metadata": {},
   "outputs": [
    {
     "name": "stdout",
     "output_type": "stream",
     "text": [
      "Accuracy is 0.732\n",
      "F1 Score is 0.7349159248269039\n",
      "              precision    recall  f1-score   support\n",
      "\n",
      "           0       0.73      0.72      0.73      2984\n",
      "           1       0.73      0.74      0.73      3016\n",
      "\n",
      "    accuracy                           0.73      6000\n",
      "   macro avg       0.73      0.73      0.73      6000\n",
      "weighted avg       0.73      0.73      0.73      6000\n",
      "\n",
      "[[2163  821]\n",
      " [ 787 2229]]\n"
     ]
    }
   ],
   "source": [
    "SVCmodel = LinearSVC()\n",
    "SVCmodel.fit(xtrain, ytrain)\n",
    "model_Evaluate(SVCmodel)"
   ]
  },
  {
   "cell_type": "code",
   "execution_count": 216,
   "id": "fa58fc2f",
   "metadata": {},
   "outputs": [
    {
     "name": "stdout",
     "output_type": "stream",
     "text": [
      "Accuracy is 0.7353333333333333\n",
      "F1 Score is 0.7376940865543442\n",
      "              precision    recall  f1-score   support\n",
      "\n",
      "           0       0.74      0.73      0.73      2984\n",
      "           1       0.74      0.74      0.74      3016\n",
      "\n",
      "    accuracy                           0.74      6000\n",
      "   macro avg       0.74      0.74      0.74      6000\n",
      "weighted avg       0.74      0.74      0.74      6000\n",
      "\n",
      "[[2179  805]\n",
      " [ 783 2233]]\n"
     ]
    }
   ],
   "source": [
    "LogRegModel = LogisticRegression(max_iter=1000)\n",
    "LogRegModel.fit(xtrain, ytrain)\n",
    "model_Evaluate(LogRegModel)"
   ]
  },
  {
   "cell_type": "markdown",
   "id": "3ecd2e58",
   "metadata": {},
   "source": []
  },
  {
   "cell_type": "code",
   "execution_count": null,
   "id": "c79cda4c",
   "metadata": {},
   "outputs": [],
   "source": []
  },
  {
   "cell_type": "code",
   "execution_count": null,
   "id": "243d115c",
   "metadata": {},
   "outputs": [],
   "source": []
  }
 ],
 "metadata": {
  "kernelspec": {
   "display_name": "Python 3.6 - AzureML",
   "language": "python",
   "name": "python3-azureml"
  },
  "language_info": {
   "codemirror_mode": {
    "name": "ipython",
    "version": 3
   },
   "file_extension": ".py",
   "mimetype": "text/x-python",
   "name": "python",
   "nbconvert_exporter": "python",
   "pygments_lexer": "ipython3",
   "version": "3.6.9"
  }
 },
 "nbformat": 4,
 "nbformat_minor": 5
}
