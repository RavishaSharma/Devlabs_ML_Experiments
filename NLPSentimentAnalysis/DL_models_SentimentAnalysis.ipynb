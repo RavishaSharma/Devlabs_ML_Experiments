{
 "cells": [
  {
   "cell_type": "markdown",
   "id": "e2d9fc12",
   "metadata": {},
   "source": [
    "## Importing necessary packages"
   ]
  },
  {
   "cell_type": "code",
   "execution_count": 1,
   "id": "419f28a1",
   "metadata": {},
   "outputs": [],
   "source": [
    "import pandas as pd\n",
    "import numpy as np\n",
    "import matplotlib.pyplot as plt\n",
    "import seaborn as sns\n",
    "import preprocessor as p\n",
    "import contractions\n",
    "import string\n",
    "import regex as re\n",
    "from nltk.tokenize import word_tokenize\n",
    "import nltk\n",
    "from nltk.corpus import stopwords\n",
    "from wordcloud import WordCloud\n",
    "import matplotlib.pyplot as plt\n",
    "from sklearn.model_selection import train_test_split\n",
    "from tensorflow.keras.preprocessing.text import Tokenizer\n",
    "from tensorflow.keras.preprocessing.sequence import pad_sequences\n",
    "from sklearn.metrics import confusion_matrix, classification_report,accuracy_score, f1_score"
   ]
  },
  {
   "cell_type": "markdown",
   "id": "4ac05452",
   "metadata": {},
   "source": [
    "## Functions"
   ]
  },
  {
   "cell_type": "code",
   "execution_count": 68,
   "id": "e42c1b83",
   "metadata": {},
   "outputs": [],
   "source": [
    "def preprocess_tweet(row):\n",
    "    text=row['tweet']\n",
    "    text=p.clean(text)\n",
    "    return text\n",
    "\n",
    "def lowercase(text):\n",
    "    text = text.lower()\n",
    "    return text\n",
    "\n",
    "# Expand the contractions here\n",
    "def expand_contractions(text):\n",
    "    text = contractions.fix(text)\n",
    "    return text\n",
    "\n",
    "def remove_punctuations(text):\n",
    "    for punctuation in string.punctuation:\n",
    "        text = text.replace(punctuation, '')\n",
    "    return text\n",
    "\n",
    "def remove_digits(text):\n",
    "    text=re.sub('[0-9]+', '',text)\n",
    "    return text\n",
    "\n",
    "def stopwords_removal(text):\n",
    "    text = ' '.join(word for word in text.split() if word not in stop_words)\n",
    "    return text\n",
    "\n",
    "# Function for evaluating\n",
    "def model_Evaluate(model):\n",
    "    # Predict values for Test dataset\n",
    "    ypred_classes = model.predict_classes(padded_xtest)\n",
    "    ypred_classes = ypred_classes[:, 0]\n",
    "    # Print the evaluation metrics for the dataset.\n",
    "    print(\"Accuracy is {}\".format(accuracy_score(ytest, ypred_classes)))\n",
    "    print(\"F1 Score is {}\".format(f1_score(ytest, ypred_classes)))\n",
    "    print(classification_report(ytest, ypred_classes))\n",
    "    # Compute and plot the Confusion matrix\n",
    "    cf_matrix = confusion_matrix(ytest, ypred_classes)\n",
    "    print(cf_matrix)"
   ]
  },
  {
   "cell_type": "markdown",
   "id": "6e4db3de",
   "metadata": {},
   "source": [
    "## Reading data"
   ]
  },
  {
   "cell_type": "code",
   "execution_count": 3,
   "id": "4a589f58",
   "metadata": {},
   "outputs": [
    {
     "data": {
      "text/html": [
       "<div>\n",
       "<style scoped>\n",
       "    .dataframe tbody tr th:only-of-type {\n",
       "        vertical-align: middle;\n",
       "    }\n",
       "\n",
       "    .dataframe tbody tr th {\n",
       "        vertical-align: top;\n",
       "    }\n",
       "\n",
       "    .dataframe thead th {\n",
       "        text-align: right;\n",
       "    }\n",
       "</style>\n",
       "<table border=\"1\" class=\"dataframe\">\n",
       "  <thead>\n",
       "    <tr style=\"text-align: right;\">\n",
       "      <th></th>\n",
       "      <th>0</th>\n",
       "      <th>1</th>\n",
       "      <th>2</th>\n",
       "      <th>3</th>\n",
       "      <th>4</th>\n",
       "      <th>5</th>\n",
       "    </tr>\n",
       "  </thead>\n",
       "  <tbody>\n",
       "    <tr>\n",
       "      <th>0</th>\n",
       "      <td>0</td>\n",
       "      <td>1467810369</td>\n",
       "      <td>Mon Apr 06 22:19:45 PDT 2009</td>\n",
       "      <td>NO_QUERY</td>\n",
       "      <td>_TheSpecialOne_</td>\n",
       "      <td>@switchfoot http://twitpic.com/2y1zl - Awww, t...</td>\n",
       "    </tr>\n",
       "    <tr>\n",
       "      <th>1</th>\n",
       "      <td>0</td>\n",
       "      <td>1467810672</td>\n",
       "      <td>Mon Apr 06 22:19:49 PDT 2009</td>\n",
       "      <td>NO_QUERY</td>\n",
       "      <td>scotthamilton</td>\n",
       "      <td>is upset that he can't update his Facebook by ...</td>\n",
       "    </tr>\n",
       "    <tr>\n",
       "      <th>2</th>\n",
       "      <td>0</td>\n",
       "      <td>1467810917</td>\n",
       "      <td>Mon Apr 06 22:19:53 PDT 2009</td>\n",
       "      <td>NO_QUERY</td>\n",
       "      <td>mattycus</td>\n",
       "      <td>@Kenichan I dived many times for the ball. Man...</td>\n",
       "    </tr>\n",
       "    <tr>\n",
       "      <th>3</th>\n",
       "      <td>0</td>\n",
       "      <td>1467811184</td>\n",
       "      <td>Mon Apr 06 22:19:57 PDT 2009</td>\n",
       "      <td>NO_QUERY</td>\n",
       "      <td>ElleCTF</td>\n",
       "      <td>my whole body feels itchy and like its on fire</td>\n",
       "    </tr>\n",
       "    <tr>\n",
       "      <th>4</th>\n",
       "      <td>0</td>\n",
       "      <td>1467811193</td>\n",
       "      <td>Mon Apr 06 22:19:57 PDT 2009</td>\n",
       "      <td>NO_QUERY</td>\n",
       "      <td>Karoli</td>\n",
       "      <td>@nationwideclass no, it's not behaving at all....</td>\n",
       "    </tr>\n",
       "  </tbody>\n",
       "</table>\n",
       "</div>"
      ],
      "text/plain": [
       "   0           1                             2         3                4  \\\n",
       "0  0  1467810369  Mon Apr 06 22:19:45 PDT 2009  NO_QUERY  _TheSpecialOne_   \n",
       "1  0  1467810672  Mon Apr 06 22:19:49 PDT 2009  NO_QUERY    scotthamilton   \n",
       "2  0  1467810917  Mon Apr 06 22:19:53 PDT 2009  NO_QUERY         mattycus   \n",
       "3  0  1467811184  Mon Apr 06 22:19:57 PDT 2009  NO_QUERY          ElleCTF   \n",
       "4  0  1467811193  Mon Apr 06 22:19:57 PDT 2009  NO_QUERY           Karoli   \n",
       "\n",
       "                                                   5  \n",
       "0  @switchfoot http://twitpic.com/2y1zl - Awww, t...  \n",
       "1  is upset that he can't update his Facebook by ...  \n",
       "2  @Kenichan I dived many times for the ball. Man...  \n",
       "3    my whole body feels itchy and like its on fire   \n",
       "4  @nationwideclass no, it's not behaving at all....  "
      ]
     },
     "execution_count": 3,
     "metadata": {},
     "output_type": "execute_result"
    }
   ],
   "source": [
    "df = pd.read_csv(\"TweetsSentiment140.csv\",header=None, encoding= \"latin-1\")\n",
    "df.head(5)"
   ]
  },
  {
   "cell_type": "code",
   "execution_count": 4,
   "id": "6089f586",
   "metadata": {},
   "outputs": [
    {
     "data": {
      "text/plain": [
       "(1600000, 6)"
      ]
     },
     "execution_count": 4,
     "metadata": {},
     "output_type": "execute_result"
    }
   ],
   "source": [
    "df.shape"
   ]
  },
  {
   "cell_type": "code",
   "execution_count": 5,
   "id": "2dbeb7b8",
   "metadata": {},
   "outputs": [
    {
     "data": {
      "text/html": [
       "<div>\n",
       "<style scoped>\n",
       "    .dataframe tbody tr th:only-of-type {\n",
       "        vertical-align: middle;\n",
       "    }\n",
       "\n",
       "    .dataframe tbody tr th {\n",
       "        vertical-align: top;\n",
       "    }\n",
       "\n",
       "    .dataframe thead th {\n",
       "        text-align: right;\n",
       "    }\n",
       "</style>\n",
       "<table border=\"1\" class=\"dataframe\">\n",
       "  <thead>\n",
       "    <tr style=\"text-align: right;\">\n",
       "      <th></th>\n",
       "      <th>0</th>\n",
       "      <th>1</th>\n",
       "      <th>2</th>\n",
       "      <th>3</th>\n",
       "      <th>4</th>\n",
       "      <th>5</th>\n",
       "    </tr>\n",
       "  </thead>\n",
       "  <tbody>\n",
       "    <tr>\n",
       "      <th>0</th>\n",
       "      <td>0</td>\n",
       "      <td>1467810369</td>\n",
       "      <td>Mon Apr 06 22:19:45 PDT 2009</td>\n",
       "      <td>NO_QUERY</td>\n",
       "      <td>_TheSpecialOne_</td>\n",
       "      <td>@switchfoot http://twitpic.com/2y1zl - Awww, t...</td>\n",
       "    </tr>\n",
       "    <tr>\n",
       "      <th>1</th>\n",
       "      <td>0</td>\n",
       "      <td>1467810672</td>\n",
       "      <td>Mon Apr 06 22:19:49 PDT 2009</td>\n",
       "      <td>NO_QUERY</td>\n",
       "      <td>scotthamilton</td>\n",
       "      <td>is upset that he can't update his Facebook by ...</td>\n",
       "    </tr>\n",
       "    <tr>\n",
       "      <th>2</th>\n",
       "      <td>0</td>\n",
       "      <td>1467810917</td>\n",
       "      <td>Mon Apr 06 22:19:53 PDT 2009</td>\n",
       "      <td>NO_QUERY</td>\n",
       "      <td>mattycus</td>\n",
       "      <td>@Kenichan I dived many times for the ball. Man...</td>\n",
       "    </tr>\n",
       "    <tr>\n",
       "      <th>3</th>\n",
       "      <td>0</td>\n",
       "      <td>1467811184</td>\n",
       "      <td>Mon Apr 06 22:19:57 PDT 2009</td>\n",
       "      <td>NO_QUERY</td>\n",
       "      <td>ElleCTF</td>\n",
       "      <td>my whole body feels itchy and like its on fire</td>\n",
       "    </tr>\n",
       "    <tr>\n",
       "      <th>4</th>\n",
       "      <td>0</td>\n",
       "      <td>1467811193</td>\n",
       "      <td>Mon Apr 06 22:19:57 PDT 2009</td>\n",
       "      <td>NO_QUERY</td>\n",
       "      <td>Karoli</td>\n",
       "      <td>@nationwideclass no, it's not behaving at all....</td>\n",
       "    </tr>\n",
       "  </tbody>\n",
       "</table>\n",
       "</div>"
      ],
      "text/plain": [
       "   0           1                             2         3                4  \\\n",
       "0  0  1467810369  Mon Apr 06 22:19:45 PDT 2009  NO_QUERY  _TheSpecialOne_   \n",
       "1  0  1467810672  Mon Apr 06 22:19:49 PDT 2009  NO_QUERY    scotthamilton   \n",
       "2  0  1467810917  Mon Apr 06 22:19:53 PDT 2009  NO_QUERY         mattycus   \n",
       "3  0  1467811184  Mon Apr 06 22:19:57 PDT 2009  NO_QUERY          ElleCTF   \n",
       "4  0  1467811193  Mon Apr 06 22:19:57 PDT 2009  NO_QUERY           Karoli   \n",
       "\n",
       "                                                   5  \n",
       "0  @switchfoot http://twitpic.com/2y1zl - Awww, t...  \n",
       "1  is upset that he can't update his Facebook by ...  \n",
       "2  @Kenichan I dived many times for the ball. Man...  \n",
       "3    my whole body feels itchy and like its on fire   \n",
       "4  @nationwideclass no, it's not behaving at all....  "
      ]
     },
     "execution_count": 5,
     "metadata": {},
     "output_type": "execute_result"
    }
   ],
   "source": [
    "df_1=df[:10000]\n",
    "df_1.head()"
   ]
  },
  {
   "cell_type": "code",
   "execution_count": 6,
   "id": "f64ecdcd",
   "metadata": {},
   "outputs": [
    {
     "data": {
      "text/html": [
       "<div>\n",
       "<style scoped>\n",
       "    .dataframe tbody tr th:only-of-type {\n",
       "        vertical-align: middle;\n",
       "    }\n",
       "\n",
       "    .dataframe tbody tr th {\n",
       "        vertical-align: top;\n",
       "    }\n",
       "\n",
       "    .dataframe thead th {\n",
       "        text-align: right;\n",
       "    }\n",
       "</style>\n",
       "<table border=\"1\" class=\"dataframe\">\n",
       "  <thead>\n",
       "    <tr style=\"text-align: right;\">\n",
       "      <th></th>\n",
       "      <th>0</th>\n",
       "      <th>1</th>\n",
       "      <th>2</th>\n",
       "      <th>3</th>\n",
       "      <th>4</th>\n",
       "      <th>5</th>\n",
       "    </tr>\n",
       "  </thead>\n",
       "  <tbody>\n",
       "    <tr>\n",
       "      <th>1590000</th>\n",
       "      <td>4</td>\n",
       "      <td>2191325432</td>\n",
       "      <td>Tue Jun 16 05:02:08 PDT 2009</td>\n",
       "      <td>NO_QUERY</td>\n",
       "      <td>Galiiit</td>\n",
       "      <td>@michaelahills YEP</td>\n",
       "    </tr>\n",
       "    <tr>\n",
       "      <th>1590001</th>\n",
       "      <td>4</td>\n",
       "      <td>2191325450</td>\n",
       "      <td>Tue Jun 16 05:02:08 PDT 2009</td>\n",
       "      <td>NO_QUERY</td>\n",
       "      <td>ulovefran</td>\n",
       "      <td>need to do homework.. can't wait for LVATT.. i...</td>\n",
       "    </tr>\n",
       "    <tr>\n",
       "      <th>1590002</th>\n",
       "      <td>4</td>\n",
       "      <td>2191325560</td>\n",
       "      <td>Tue Jun 16 05:02:09 PDT 2009</td>\n",
       "      <td>NO_QUERY</td>\n",
       "      <td>KatSyriou</td>\n",
       "      <td>@AnneSudworth Gosh, that's hectic... Tea? I'm ...</td>\n",
       "    </tr>\n",
       "    <tr>\n",
       "      <th>1590003</th>\n",
       "      <td>4</td>\n",
       "      <td>2191325718</td>\n",
       "      <td>Tue Jun 16 05:02:10 PDT 2009</td>\n",
       "      <td>NO_QUERY</td>\n",
       "      <td>aymarn</td>\n",
       "      <td>@hana77  Daily:  8am - 12 midnight</td>\n",
       "    </tr>\n",
       "    <tr>\n",
       "      <th>1590004</th>\n",
       "      <td>4</td>\n",
       "      <td>2191325744</td>\n",
       "      <td>Tue Jun 16 05:02:11 PDT 2009</td>\n",
       "      <td>NO_QUERY</td>\n",
       "      <td>stevemaythe1st</td>\n",
       "      <td>watching the staff in the posh Soho face cream...</td>\n",
       "    </tr>\n",
       "  </tbody>\n",
       "</table>\n",
       "</div>"
      ],
      "text/plain": [
       "         0           1                             2         3  \\\n",
       "1590000  4  2191325432  Tue Jun 16 05:02:08 PDT 2009  NO_QUERY   \n",
       "1590001  4  2191325450  Tue Jun 16 05:02:08 PDT 2009  NO_QUERY   \n",
       "1590002  4  2191325560  Tue Jun 16 05:02:09 PDT 2009  NO_QUERY   \n",
       "1590003  4  2191325718  Tue Jun 16 05:02:10 PDT 2009  NO_QUERY   \n",
       "1590004  4  2191325744  Tue Jun 16 05:02:11 PDT 2009  NO_QUERY   \n",
       "\n",
       "                      4                                                  5  \n",
       "1590000         Galiiit                                @michaelahills YEP   \n",
       "1590001       ulovefran  need to do homework.. can't wait for LVATT.. i...  \n",
       "1590002       KatSyriou  @AnneSudworth Gosh, that's hectic... Tea? I'm ...  \n",
       "1590003          aymarn                @hana77  Daily:  8am - 12 midnight   \n",
       "1590004  stevemaythe1st  watching the staff in the posh Soho face cream...  "
      ]
     },
     "execution_count": 6,
     "metadata": {},
     "output_type": "execute_result"
    }
   ],
   "source": [
    "df_2=df[1590000:]\n",
    "df_2.head()"
   ]
  },
  {
   "cell_type": "code",
   "execution_count": 7,
   "id": "069dcde8",
   "metadata": {},
   "outputs": [
    {
     "data": {
      "text/html": [
       "<div>\n",
       "<style scoped>\n",
       "    .dataframe tbody tr th:only-of-type {\n",
       "        vertical-align: middle;\n",
       "    }\n",
       "\n",
       "    .dataframe tbody tr th {\n",
       "        vertical-align: top;\n",
       "    }\n",
       "\n",
       "    .dataframe thead th {\n",
       "        text-align: right;\n",
       "    }\n",
       "</style>\n",
       "<table border=\"1\" class=\"dataframe\">\n",
       "  <thead>\n",
       "    <tr style=\"text-align: right;\">\n",
       "      <th></th>\n",
       "      <th>0</th>\n",
       "      <th>1</th>\n",
       "      <th>2</th>\n",
       "      <th>3</th>\n",
       "      <th>4</th>\n",
       "      <th>5</th>\n",
       "    </tr>\n",
       "  </thead>\n",
       "  <tbody>\n",
       "    <tr>\n",
       "      <th>0</th>\n",
       "      <td>4</td>\n",
       "      <td>2191325432</td>\n",
       "      <td>Tue Jun 16 05:02:08 PDT 2009</td>\n",
       "      <td>NO_QUERY</td>\n",
       "      <td>Galiiit</td>\n",
       "      <td>@michaelahills YEP</td>\n",
       "    </tr>\n",
       "    <tr>\n",
       "      <th>1</th>\n",
       "      <td>4</td>\n",
       "      <td>2191325450</td>\n",
       "      <td>Tue Jun 16 05:02:08 PDT 2009</td>\n",
       "      <td>NO_QUERY</td>\n",
       "      <td>ulovefran</td>\n",
       "      <td>need to do homework.. can't wait for LVATT.. i...</td>\n",
       "    </tr>\n",
       "    <tr>\n",
       "      <th>2</th>\n",
       "      <td>4</td>\n",
       "      <td>2191325560</td>\n",
       "      <td>Tue Jun 16 05:02:09 PDT 2009</td>\n",
       "      <td>NO_QUERY</td>\n",
       "      <td>KatSyriou</td>\n",
       "      <td>@AnneSudworth Gosh, that's hectic... Tea? I'm ...</td>\n",
       "    </tr>\n",
       "    <tr>\n",
       "      <th>3</th>\n",
       "      <td>4</td>\n",
       "      <td>2191325718</td>\n",
       "      <td>Tue Jun 16 05:02:10 PDT 2009</td>\n",
       "      <td>NO_QUERY</td>\n",
       "      <td>aymarn</td>\n",
       "      <td>@hana77  Daily:  8am - 12 midnight</td>\n",
       "    </tr>\n",
       "    <tr>\n",
       "      <th>4</th>\n",
       "      <td>4</td>\n",
       "      <td>2191325744</td>\n",
       "      <td>Tue Jun 16 05:02:11 PDT 2009</td>\n",
       "      <td>NO_QUERY</td>\n",
       "      <td>stevemaythe1st</td>\n",
       "      <td>watching the staff in the posh Soho face cream...</td>\n",
       "    </tr>\n",
       "  </tbody>\n",
       "</table>\n",
       "</div>"
      ],
      "text/plain": [
       "   0           1                             2         3               4  \\\n",
       "0  4  2191325432  Tue Jun 16 05:02:08 PDT 2009  NO_QUERY         Galiiit   \n",
       "1  4  2191325450  Tue Jun 16 05:02:08 PDT 2009  NO_QUERY       ulovefran   \n",
       "2  4  2191325560  Tue Jun 16 05:02:09 PDT 2009  NO_QUERY       KatSyriou   \n",
       "3  4  2191325718  Tue Jun 16 05:02:10 PDT 2009  NO_QUERY          aymarn   \n",
       "4  4  2191325744  Tue Jun 16 05:02:11 PDT 2009  NO_QUERY  stevemaythe1st   \n",
       "\n",
       "                                                   5  \n",
       "0                                @michaelahills YEP   \n",
       "1  need to do homework.. can't wait for LVATT.. i...  \n",
       "2  @AnneSudworth Gosh, that's hectic... Tea? I'm ...  \n",
       "3                @hana77  Daily:  8am - 12 midnight   \n",
       "4  watching the staff in the posh Soho face cream...  "
      ]
     },
     "execution_count": 7,
     "metadata": {},
     "output_type": "execute_result"
    }
   ],
   "source": [
    "df_2.reset_index(drop=True,inplace=True)\n",
    "df_2.head()"
   ]
  },
  {
   "cell_type": "code",
   "execution_count": 8,
   "id": "b7bd4945",
   "metadata": {},
   "outputs": [
    {
     "data": {
      "text/plain": [
       "(10000, 6)"
      ]
     },
     "execution_count": 8,
     "metadata": {},
     "output_type": "execute_result"
    }
   ],
   "source": [
    "df_1.shape"
   ]
  },
  {
   "cell_type": "code",
   "execution_count": 9,
   "id": "b223c5ac",
   "metadata": {},
   "outputs": [],
   "source": [
    "data = vertical_stack = pd.concat([df_1, df_2], axis=0)"
   ]
  },
  {
   "cell_type": "code",
   "execution_count": 10,
   "id": "1af0248e",
   "metadata": {},
   "outputs": [
    {
     "data": {
      "text/plain": [
       "(20000, 6)"
      ]
     },
     "execution_count": 10,
     "metadata": {},
     "output_type": "execute_result"
    }
   ],
   "source": [
    "data.shape"
   ]
  },
  {
   "cell_type": "code",
   "execution_count": 11,
   "id": "3f1e7576",
   "metadata": {},
   "outputs": [
    {
     "data": {
      "text/html": [
       "<div>\n",
       "<style scoped>\n",
       "    .dataframe tbody tr th:only-of-type {\n",
       "        vertical-align: middle;\n",
       "    }\n",
       "\n",
       "    .dataframe tbody tr th {\n",
       "        vertical-align: top;\n",
       "    }\n",
       "\n",
       "    .dataframe thead th {\n",
       "        text-align: right;\n",
       "    }\n",
       "</style>\n",
       "<table border=\"1\" class=\"dataframe\">\n",
       "  <thead>\n",
       "    <tr style=\"text-align: right;\">\n",
       "      <th></th>\n",
       "      <th>0</th>\n",
       "      <th>1</th>\n",
       "      <th>2</th>\n",
       "      <th>3</th>\n",
       "      <th>4</th>\n",
       "      <th>5</th>\n",
       "    </tr>\n",
       "  </thead>\n",
       "  <tbody>\n",
       "    <tr>\n",
       "      <th>19995</th>\n",
       "      <td>4</td>\n",
       "      <td>2193601966</td>\n",
       "      <td>Tue Jun 16 08:40:49 PDT 2009</td>\n",
       "      <td>NO_QUERY</td>\n",
       "      <td>AmandaMarie1028</td>\n",
       "      <td>Just woke up. Having no school is the best fee...</td>\n",
       "    </tr>\n",
       "    <tr>\n",
       "      <th>19996</th>\n",
       "      <td>4</td>\n",
       "      <td>2193601969</td>\n",
       "      <td>Tue Jun 16 08:40:49 PDT 2009</td>\n",
       "      <td>NO_QUERY</td>\n",
       "      <td>TheWDBoards</td>\n",
       "      <td>TheWDB.com - Very cool to hear old Walt interv...</td>\n",
       "    </tr>\n",
       "    <tr>\n",
       "      <th>19997</th>\n",
       "      <td>4</td>\n",
       "      <td>2193601991</td>\n",
       "      <td>Tue Jun 16 08:40:49 PDT 2009</td>\n",
       "      <td>NO_QUERY</td>\n",
       "      <td>bpbabe</td>\n",
       "      <td>Are you ready for your MoJo Makeover? Ask me f...</td>\n",
       "    </tr>\n",
       "    <tr>\n",
       "      <th>19998</th>\n",
       "      <td>4</td>\n",
       "      <td>2193602064</td>\n",
       "      <td>Tue Jun 16 08:40:49 PDT 2009</td>\n",
       "      <td>NO_QUERY</td>\n",
       "      <td>tinydiamondz</td>\n",
       "      <td>Happy 38th Birthday to my boo of alll time!!! ...</td>\n",
       "    </tr>\n",
       "    <tr>\n",
       "      <th>19999</th>\n",
       "      <td>4</td>\n",
       "      <td>2193602129</td>\n",
       "      <td>Tue Jun 16 08:40:50 PDT 2009</td>\n",
       "      <td>NO_QUERY</td>\n",
       "      <td>RyanTrevMorris</td>\n",
       "      <td>happy #charitytuesday @theNSPCC @SparksCharity...</td>\n",
       "    </tr>\n",
       "  </tbody>\n",
       "</table>\n",
       "</div>"
      ],
      "text/plain": [
       "       0           1                             2         3                4  \\\n",
       "19995  4  2193601966  Tue Jun 16 08:40:49 PDT 2009  NO_QUERY  AmandaMarie1028   \n",
       "19996  4  2193601969  Tue Jun 16 08:40:49 PDT 2009  NO_QUERY      TheWDBoards   \n",
       "19997  4  2193601991  Tue Jun 16 08:40:49 PDT 2009  NO_QUERY           bpbabe   \n",
       "19998  4  2193602064  Tue Jun 16 08:40:49 PDT 2009  NO_QUERY     tinydiamondz   \n",
       "19999  4  2193602129  Tue Jun 16 08:40:50 PDT 2009  NO_QUERY   RyanTrevMorris   \n",
       "\n",
       "                                                       5  \n",
       "19995  Just woke up. Having no school is the best fee...  \n",
       "19996  TheWDB.com - Very cool to hear old Walt interv...  \n",
       "19997  Are you ready for your MoJo Makeover? Ask me f...  \n",
       "19998  Happy 38th Birthday to my boo of alll time!!! ...  \n",
       "19999  happy #charitytuesday @theNSPCC @SparksCharity...  "
      ]
     },
     "execution_count": 11,
     "metadata": {},
     "output_type": "execute_result"
    }
   ],
   "source": [
    "data.reset_index(drop=True,inplace=True)\n",
    "data.tail()"
   ]
  },
  {
   "cell_type": "code",
   "execution_count": 12,
   "id": "1089e318",
   "metadata": {},
   "outputs": [
    {
     "data": {
      "text/html": [
       "<div>\n",
       "<style scoped>\n",
       "    .dataframe tbody tr th:only-of-type {\n",
       "        vertical-align: middle;\n",
       "    }\n",
       "\n",
       "    .dataframe tbody tr th {\n",
       "        vertical-align: top;\n",
       "    }\n",
       "\n",
       "    .dataframe thead th {\n",
       "        text-align: right;\n",
       "    }\n",
       "</style>\n",
       "<table border=\"1\" class=\"dataframe\">\n",
       "  <thead>\n",
       "    <tr style=\"text-align: right;\">\n",
       "      <th></th>\n",
       "      <th>sentiment</th>\n",
       "      <th>id</th>\n",
       "      <th>date</th>\n",
       "      <th>query</th>\n",
       "      <th>username</th>\n",
       "      <th>tweet</th>\n",
       "    </tr>\n",
       "  </thead>\n",
       "  <tbody>\n",
       "    <tr>\n",
       "      <th>0</th>\n",
       "      <td>0</td>\n",
       "      <td>1467810369</td>\n",
       "      <td>Mon Apr 06 22:19:45 PDT 2009</td>\n",
       "      <td>NO_QUERY</td>\n",
       "      <td>_TheSpecialOne_</td>\n",
       "      <td>@switchfoot http://twitpic.com/2y1zl - Awww, t...</td>\n",
       "    </tr>\n",
       "    <tr>\n",
       "      <th>1</th>\n",
       "      <td>0</td>\n",
       "      <td>1467810672</td>\n",
       "      <td>Mon Apr 06 22:19:49 PDT 2009</td>\n",
       "      <td>NO_QUERY</td>\n",
       "      <td>scotthamilton</td>\n",
       "      <td>is upset that he can't update his Facebook by ...</td>\n",
       "    </tr>\n",
       "    <tr>\n",
       "      <th>2</th>\n",
       "      <td>0</td>\n",
       "      <td>1467810917</td>\n",
       "      <td>Mon Apr 06 22:19:53 PDT 2009</td>\n",
       "      <td>NO_QUERY</td>\n",
       "      <td>mattycus</td>\n",
       "      <td>@Kenichan I dived many times for the ball. Man...</td>\n",
       "    </tr>\n",
       "    <tr>\n",
       "      <th>3</th>\n",
       "      <td>0</td>\n",
       "      <td>1467811184</td>\n",
       "      <td>Mon Apr 06 22:19:57 PDT 2009</td>\n",
       "      <td>NO_QUERY</td>\n",
       "      <td>ElleCTF</td>\n",
       "      <td>my whole body feels itchy and like its on fire</td>\n",
       "    </tr>\n",
       "    <tr>\n",
       "      <th>4</th>\n",
       "      <td>0</td>\n",
       "      <td>1467811193</td>\n",
       "      <td>Mon Apr 06 22:19:57 PDT 2009</td>\n",
       "      <td>NO_QUERY</td>\n",
       "      <td>Karoli</td>\n",
       "      <td>@nationwideclass no, it's not behaving at all....</td>\n",
       "    </tr>\n",
       "  </tbody>\n",
       "</table>\n",
       "</div>"
      ],
      "text/plain": [
       "   sentiment          id                          date     query  \\\n",
       "0          0  1467810369  Mon Apr 06 22:19:45 PDT 2009  NO_QUERY   \n",
       "1          0  1467810672  Mon Apr 06 22:19:49 PDT 2009  NO_QUERY   \n",
       "2          0  1467810917  Mon Apr 06 22:19:53 PDT 2009  NO_QUERY   \n",
       "3          0  1467811184  Mon Apr 06 22:19:57 PDT 2009  NO_QUERY   \n",
       "4          0  1467811193  Mon Apr 06 22:19:57 PDT 2009  NO_QUERY   \n",
       "\n",
       "          username                                              tweet  \n",
       "0  _TheSpecialOne_  @switchfoot http://twitpic.com/2y1zl - Awww, t...  \n",
       "1    scotthamilton  is upset that he can't update his Facebook by ...  \n",
       "2         mattycus  @Kenichan I dived many times for the ball. Man...  \n",
       "3          ElleCTF    my whole body feels itchy and like its on fire   \n",
       "4           Karoli  @nationwideclass no, it's not behaving at all....  "
      ]
     },
     "execution_count": 12,
     "metadata": {},
     "output_type": "execute_result"
    }
   ],
   "source": [
    "data.columns = ['sentiment', 'id', 'date', 'query', 'username', 'tweet']\n",
    "data.head()"
   ]
  },
  {
   "cell_type": "markdown",
   "id": "fe5f4c7f",
   "metadata": {},
   "source": [
    "## Data Preprocessing"
   ]
  },
  {
   "cell_type": "code",
   "execution_count": 13,
   "id": "218a2852",
   "metadata": {},
   "outputs": [
    {
     "data": {
      "text/html": [
       "<div>\n",
       "<style scoped>\n",
       "    .dataframe tbody tr th:only-of-type {\n",
       "        vertical-align: middle;\n",
       "    }\n",
       "\n",
       "    .dataframe tbody tr th {\n",
       "        vertical-align: top;\n",
       "    }\n",
       "\n",
       "    .dataframe thead th {\n",
       "        text-align: right;\n",
       "    }\n",
       "</style>\n",
       "<table border=\"1\" class=\"dataframe\">\n",
       "  <thead>\n",
       "    <tr style=\"text-align: right;\">\n",
       "      <th></th>\n",
       "      <th>sentiment</th>\n",
       "      <th>tweet</th>\n",
       "    </tr>\n",
       "  </thead>\n",
       "  <tbody>\n",
       "    <tr>\n",
       "      <th>0</th>\n",
       "      <td>0</td>\n",
       "      <td>@switchfoot http://twitpic.com/2y1zl - Awww, t...</td>\n",
       "    </tr>\n",
       "    <tr>\n",
       "      <th>1</th>\n",
       "      <td>0</td>\n",
       "      <td>is upset that he can't update his Facebook by ...</td>\n",
       "    </tr>\n",
       "    <tr>\n",
       "      <th>2</th>\n",
       "      <td>0</td>\n",
       "      <td>@Kenichan I dived many times for the ball. Man...</td>\n",
       "    </tr>\n",
       "    <tr>\n",
       "      <th>3</th>\n",
       "      <td>0</td>\n",
       "      <td>my whole body feels itchy and like its on fire</td>\n",
       "    </tr>\n",
       "    <tr>\n",
       "      <th>4</th>\n",
       "      <td>0</td>\n",
       "      <td>@nationwideclass no, it's not behaving at all....</td>\n",
       "    </tr>\n",
       "    <tr>\n",
       "      <th>...</th>\n",
       "      <td>...</td>\n",
       "      <td>...</td>\n",
       "    </tr>\n",
       "    <tr>\n",
       "      <th>19995</th>\n",
       "      <td>4</td>\n",
       "      <td>Just woke up. Having no school is the best fee...</td>\n",
       "    </tr>\n",
       "    <tr>\n",
       "      <th>19996</th>\n",
       "      <td>4</td>\n",
       "      <td>TheWDB.com - Very cool to hear old Walt interv...</td>\n",
       "    </tr>\n",
       "    <tr>\n",
       "      <th>19997</th>\n",
       "      <td>4</td>\n",
       "      <td>Are you ready for your MoJo Makeover? Ask me f...</td>\n",
       "    </tr>\n",
       "    <tr>\n",
       "      <th>19998</th>\n",
       "      <td>4</td>\n",
       "      <td>Happy 38th Birthday to my boo of alll time!!! ...</td>\n",
       "    </tr>\n",
       "    <tr>\n",
       "      <th>19999</th>\n",
       "      <td>4</td>\n",
       "      <td>happy #charitytuesday @theNSPCC @SparksCharity...</td>\n",
       "    </tr>\n",
       "  </tbody>\n",
       "</table>\n",
       "<p>20000 rows × 2 columns</p>\n",
       "</div>"
      ],
      "text/plain": [
       "       sentiment                                              tweet\n",
       "0              0  @switchfoot http://twitpic.com/2y1zl - Awww, t...\n",
       "1              0  is upset that he can't update his Facebook by ...\n",
       "2              0  @Kenichan I dived many times for the ball. Man...\n",
       "3              0    my whole body feels itchy and like its on fire \n",
       "4              0  @nationwideclass no, it's not behaving at all....\n",
       "...          ...                                                ...\n",
       "19995          4  Just woke up. Having no school is the best fee...\n",
       "19996          4  TheWDB.com - Very cool to hear old Walt interv...\n",
       "19997          4  Are you ready for your MoJo Makeover? Ask me f...\n",
       "19998          4  Happy 38th Birthday to my boo of alll time!!! ...\n",
       "19999          4  happy #charitytuesday @theNSPCC @SparksCharity...\n",
       "\n",
       "[20000 rows x 2 columns]"
      ]
     },
     "execution_count": 13,
     "metadata": {},
     "output_type": "execute_result"
    }
   ],
   "source": [
    "# Now we just want to identify the sentiment based upon tweet so, we'll drop rest of the columns\n",
    "data.drop(columns=[\"id\",\"date\",\"query\",\"username\"],inplace=True)\n",
    "data"
   ]
  },
  {
   "cell_type": "code",
   "execution_count": 14,
   "id": "bc3f82bc",
   "metadata": {},
   "outputs": [
    {
     "data": {
      "text/plain": [
       "sentiment    0\n",
       "tweet        0\n",
       "dtype: int64"
      ]
     },
     "execution_count": 14,
     "metadata": {},
     "output_type": "execute_result"
    }
   ],
   "source": [
    "# Checking for any null values\n",
    "data.isnull().sum()"
   ]
  },
  {
   "cell_type": "code",
   "execution_count": 15,
   "id": "4acb0791",
   "metadata": {},
   "outputs": [
    {
     "data": {
      "text/plain": [
       "4    10000\n",
       "0    10000\n",
       "Name: sentiment, dtype: int64"
      ]
     },
     "execution_count": 15,
     "metadata": {},
     "output_type": "execute_result"
    }
   ],
   "source": [
    "# Checking for the values assigned to sentiment column\n",
    "data[\"sentiment\"].value_counts()"
   ]
  },
  {
   "cell_type": "code",
   "execution_count": 16,
   "id": "985a2865",
   "metadata": {},
   "outputs": [],
   "source": [
    "# 0 means a negative tweet and 4 means positive. We can replace it with 0 and 1\n",
    "data[\"sentiment\"].replace(to_replace=4,value=1,inplace=True)"
   ]
  },
  {
   "cell_type": "code",
   "execution_count": 17,
   "id": "c03a5bdc",
   "metadata": {},
   "outputs": [
    {
     "data": {
      "text/plain": [
       "1    10000\n",
       "0    10000\n",
       "Name: sentiment, dtype: int64"
      ]
     },
     "execution_count": 17,
     "metadata": {},
     "output_type": "execute_result"
    }
   ],
   "source": [
    "data[\"sentiment\"].value_counts()"
   ]
  },
  {
   "cell_type": "code",
   "execution_count": 18,
   "id": "79b268a1",
   "metadata": {},
   "outputs": [
    {
     "name": "stderr",
     "output_type": "stream",
     "text": [
      "/anaconda/envs/azureml_py36/lib/python3.6/site-packages/seaborn/_decorators.py:43: FutureWarning: Pass the following variable as a keyword arg: x. From version 0.12, the only valid positional argument will be `data`, and passing other arguments without an explicit keyword will result in an error or misinterpretation.\n",
      "  FutureWarning\n"
     ]
    },
    {
     "data": {
      "text/plain": [
       "<matplotlib.axes._subplots.AxesSubplot at 0x7efefaffd630>"
      ]
     },
     "execution_count": 18,
     "metadata": {},
     "output_type": "execute_result"
    },
    {
     "data": {
      "image/png": "[encoded data removed]",
      "text/plain": [
       "<Figure size 432x288 with 1 Axes>"
      ]
     },
     "metadata": {
      "needs_background": "light"
     },
     "output_type": "display_data"
    }
   ],
   "source": [
    "sns.countplot(data[\"sentiment\"]) # the classes are equally distributed"
   ]
  },
  {
   "cell_type": "code",
   "execution_count": 19,
   "id": "7f94b2ab",
   "metadata": {},
   "outputs": [
    {
     "data": {
      "text/plain": [
       "sentiment     int64\n",
       "tweet        object\n",
       "dtype: object"
      ]
     },
     "execution_count": 19,
     "metadata": {},
     "output_type": "execute_result"
    }
   ],
   "source": [
    "data.dtypes"
   ]
  },
  {
   "cell_type": "markdown",
   "id": "f2217880",
   "metadata": {},
   "source": [
    "## Text Preprocessing"
   ]
  },
  {
   "cell_type": "code",
   "execution_count": 20,
   "id": "d2269431",
   "metadata": {},
   "outputs": [
    {
     "data": {
      "text/html": [
       "<div>\n",
       "<style scoped>\n",
       "    .dataframe tbody tr th:only-of-type {\n",
       "        vertical-align: middle;\n",
       "    }\n",
       "\n",
       "    .dataframe tbody tr th {\n",
       "        vertical-align: top;\n",
       "    }\n",
       "\n",
       "    .dataframe thead th {\n",
       "        text-align: right;\n",
       "    }\n",
       "</style>\n",
       "<table border=\"1\" class=\"dataframe\">\n",
       "  <thead>\n",
       "    <tr style=\"text-align: right;\">\n",
       "      <th></th>\n",
       "      <th>sentiment</th>\n",
       "      <th>tweet</th>\n",
       "    </tr>\n",
       "  </thead>\n",
       "  <tbody>\n",
       "    <tr>\n",
       "      <th>0</th>\n",
       "      <td>0</td>\n",
       "      <td>@switchfoot http://twitpic.com/2y1zl - Awww, that's a bummer.  You shoulda got David Carr of Third Day to do it. ;D</td>\n",
       "    </tr>\n",
       "    <tr>\n",
       "      <th>1</th>\n",
       "      <td>0</td>\n",
       "      <td>is upset that he can't update his Facebook by texting it... and might cry as a result  School today also. Blah!</td>\n",
       "    </tr>\n",
       "    <tr>\n",
       "      <th>2</th>\n",
       "      <td>0</td>\n",
       "      <td>@Kenichan I dived many times for the ball. Managed to save 50%  The rest go out of bounds</td>\n",
       "    </tr>\n",
       "    <tr>\n",
       "      <th>3</th>\n",
       "      <td>0</td>\n",
       "      <td>my whole body feels itchy and like its on fire</td>\n",
       "    </tr>\n",
       "    <tr>\n",
       "      <th>4</th>\n",
       "      <td>0</td>\n",
       "      <td>@nationwideclass no, it's not behaving at all. i'm mad. why am i here? because I can't see you all over there.</td>\n",
       "    </tr>\n",
       "  </tbody>\n",
       "</table>\n",
       "</div>"
      ],
      "text/plain": [
       "   sentiment  \\\n",
       "0  0           \n",
       "1  0           \n",
       "2  0           \n",
       "3  0           \n",
       "4  0           \n",
       "\n",
       "                                                                                                                 tweet  \n",
       "0  @switchfoot http://twitpic.com/2y1zl - Awww, that's a bummer.  You shoulda got David Carr of Third Day to do it. ;D  \n",
       "1  is upset that he can't update his Facebook by texting it... and might cry as a result  School today also. Blah!      \n",
       "2  @Kenichan I dived many times for the ball. Managed to save 50%  The rest go out of bounds                            \n",
       "3  my whole body feels itchy and like its on fire                                                                       \n",
       "4  @nationwideclass no, it's not behaving at all. i'm mad. why am i here? because I can't see you all over there.       "
      ]
     },
     "execution_count": 20,
     "metadata": {},
     "output_type": "execute_result"
    }
   ],
   "source": [
    "# Now, the next step is text preprocessing. \n",
    "# expanding the column width\n",
    "pd.set_option('display.max_colwidth',-1)\n",
    "data.head()"
   ]
  },
  {
   "cell_type": "code",
   "execution_count": 21,
   "id": "0f057e9d",
   "metadata": {},
   "outputs": [
    {
     "data": {
      "text/html": [
       "<div>\n",
       "<style scoped>\n",
       "    .dataframe tbody tr th:only-of-type {\n",
       "        vertical-align: middle;\n",
       "    }\n",
       "\n",
       "    .dataframe tbody tr th {\n",
       "        vertical-align: top;\n",
       "    }\n",
       "\n",
       "    .dataframe thead th {\n",
       "        text-align: right;\n",
       "    }\n",
       "</style>\n",
       "<table border=\"1\" class=\"dataframe\">\n",
       "  <thead>\n",
       "    <tr style=\"text-align: right;\">\n",
       "      <th></th>\n",
       "      <th>sentiment</th>\n",
       "      <th>tweet</th>\n",
       "    </tr>\n",
       "  </thead>\n",
       "  <tbody>\n",
       "    <tr>\n",
       "      <th>19995</th>\n",
       "      <td>1</td>\n",
       "      <td>Just woke up. Having no school is the best feeling ever</td>\n",
       "    </tr>\n",
       "    <tr>\n",
       "      <th>19996</th>\n",
       "      <td>1</td>\n",
       "      <td>TheWDB.com - Very cool to hear old Walt interviews!  â« http://blip.fm/~8bmta</td>\n",
       "    </tr>\n",
       "    <tr>\n",
       "      <th>19997</th>\n",
       "      <td>1</td>\n",
       "      <td>Are you ready for your MoJo Makeover? Ask me for details</td>\n",
       "    </tr>\n",
       "    <tr>\n",
       "      <th>19998</th>\n",
       "      <td>1</td>\n",
       "      <td>Happy 38th Birthday to my boo of alll time!!! Tupac Amaru Shakur</td>\n",
       "    </tr>\n",
       "    <tr>\n",
       "      <th>19999</th>\n",
       "      <td>1</td>\n",
       "      <td>happy #charitytuesday @theNSPCC @SparksCharity @SpeakingUpH4H</td>\n",
       "    </tr>\n",
       "  </tbody>\n",
       "</table>\n",
       "</div>"
      ],
      "text/plain": [
       "       sentiment  \\\n",
       "19995  1           \n",
       "19996  1           \n",
       "19997  1           \n",
       "19998  1           \n",
       "19999  1           \n",
       "\n",
       "                                                                                tweet  \n",
       "19995  Just woke up. Having no school is the best feeling ever                         \n",
       "19996  TheWDB.com - Very cool to hear old Walt interviews!  â« http://blip.fm/~8bmta  \n",
       "19997  Are you ready for your MoJo Makeover? Ask me for details                        \n",
       "19998  Happy 38th Birthday to my boo of alll time!!! Tupac Amaru Shakur                \n",
       "19999  happy #charitytuesday @theNSPCC @SparksCharity @SpeakingUpH4H                   "
      ]
     },
     "execution_count": 21,
     "metadata": {},
     "output_type": "execute_result"
    }
   ],
   "source": [
    "# We can see that we have some punctuations,stopwords,urls, hashtags, mentions\n",
    "data.tail()"
   ]
  },
  {
   "cell_type": "code",
   "execution_count": 22,
   "id": "515c899b",
   "metadata": {},
   "outputs": [],
   "source": [
    "#! pip install tweet-preprocessor"
   ]
  },
  {
   "cell_type": "code",
   "execution_count": 23,
   "id": "527e58c0",
   "metadata": {},
   "outputs": [
    {
     "data": {
      "text/html": [
       "<div>\n",
       "<style scoped>\n",
       "    .dataframe tbody tr th:only-of-type {\n",
       "        vertical-align: middle;\n",
       "    }\n",
       "\n",
       "    .dataframe tbody tr th {\n",
       "        vertical-align: top;\n",
       "    }\n",
       "\n",
       "    .dataframe thead th {\n",
       "        text-align: right;\n",
       "    }\n",
       "</style>\n",
       "<table border=\"1\" class=\"dataframe\">\n",
       "  <thead>\n",
       "    <tr style=\"text-align: right;\">\n",
       "      <th></th>\n",
       "      <th>sentiment</th>\n",
       "      <th>tweet</th>\n",
       "      <th>clean_tweet</th>\n",
       "    </tr>\n",
       "  </thead>\n",
       "  <tbody>\n",
       "    <tr>\n",
       "      <th>0</th>\n",
       "      <td>0</td>\n",
       "      <td>@switchfoot http://twitpic.com/2y1zl - Awww, that's a bummer.  You shoulda got David Carr of Third Day to do it. ;D</td>\n",
       "      <td>- Awww, that's a bummer. You shoulda got David Carr of Third Day to do it.</td>\n",
       "    </tr>\n",
       "    <tr>\n",
       "      <th>1</th>\n",
       "      <td>0</td>\n",
       "      <td>is upset that he can't update his Facebook by texting it... and might cry as a result  School today also. Blah!</td>\n",
       "      <td>is upset that he can't update his Facebook by texting it... and might cry as a result School today also. Blah!</td>\n",
       "    </tr>\n",
       "    <tr>\n",
       "      <th>2</th>\n",
       "      <td>0</td>\n",
       "      <td>@Kenichan I dived many times for the ball. Managed to save 50%  The rest go out of bounds</td>\n",
       "      <td>I dived many times for the ball. Managed to save % The rest go out of bounds</td>\n",
       "    </tr>\n",
       "    <tr>\n",
       "      <th>3</th>\n",
       "      <td>0</td>\n",
       "      <td>my whole body feels itchy and like its on fire</td>\n",
       "      <td>my whole body feels itchy and like its on fire</td>\n",
       "    </tr>\n",
       "    <tr>\n",
       "      <th>4</th>\n",
       "      <td>0</td>\n",
       "      <td>@nationwideclass no, it's not behaving at all. i'm mad. why am i here? because I can't see you all over there.</td>\n",
       "      <td>no, it's not behaving at all. i'm mad. why am i here? because I can't see you all over there.</td>\n",
       "    </tr>\n",
       "    <tr>\n",
       "      <th>5</th>\n",
       "      <td>0</td>\n",
       "      <td>@Kwesidei not the whole crew</td>\n",
       "      <td>not the whole crew</td>\n",
       "    </tr>\n",
       "    <tr>\n",
       "      <th>6</th>\n",
       "      <td>0</td>\n",
       "      <td>Need a hug</td>\n",
       "      <td>Need a hug</td>\n",
       "    </tr>\n",
       "    <tr>\n",
       "      <th>7</th>\n",
       "      <td>0</td>\n",
       "      <td>@LOLTrish hey  long time no see! Yes.. Rains a bit ,only a bit  LOL , I'm fine thanks , how's you ?</td>\n",
       "      <td>hey long time no see! Yes.. Rains a bit ,only a bit LOL , I'm fine thanks , how's you ?</td>\n",
       "    </tr>\n",
       "    <tr>\n",
       "      <th>8</th>\n",
       "      <td>0</td>\n",
       "      <td>@Tatiana_K nope they didn't have it</td>\n",
       "      <td>nope they didn't have it</td>\n",
       "    </tr>\n",
       "    <tr>\n",
       "      <th>9</th>\n",
       "      <td>0</td>\n",
       "      <td>@twittera que me muera ?</td>\n",
       "      <td>que me muera ?</td>\n",
       "    </tr>\n",
       "  </tbody>\n",
       "</table>\n",
       "</div>"
      ],
      "text/plain": [
       "   sentiment  \\\n",
       "0  0           \n",
       "1  0           \n",
       "2  0           \n",
       "3  0           \n",
       "4  0           \n",
       "5  0           \n",
       "6  0           \n",
       "7  0           \n",
       "8  0           \n",
       "9  0           \n",
       "\n",
       "                                                                                                                 tweet  \\\n",
       "0  @switchfoot http://twitpic.com/2y1zl - Awww, that's a bummer.  You shoulda got David Carr of Third Day to do it. ;D   \n",
       "1  is upset that he can't update his Facebook by texting it... and might cry as a result  School today also. Blah!       \n",
       "2  @Kenichan I dived many times for the ball. Managed to save 50%  The rest go out of bounds                             \n",
       "3  my whole body feels itchy and like its on fire                                                                        \n",
       "4  @nationwideclass no, it's not behaving at all. i'm mad. why am i here? because I can't see you all over there.        \n",
       "5  @Kwesidei not the whole crew                                                                                          \n",
       "6  Need a hug                                                                                                            \n",
       "7  @LOLTrish hey  long time no see! Yes.. Rains a bit ,only a bit  LOL , I'm fine thanks , how's you ?                   \n",
       "8  @Tatiana_K nope they didn't have it                                                                                   \n",
       "9  @twittera que me muera ?                                                                                              \n",
       "\n",
       "                                                                                                      clean_tweet  \n",
       "0  - Awww, that's a bummer. You shoulda got David Carr of Third Day to do it.                                      \n",
       "1  is upset that he can't update his Facebook by texting it... and might cry as a result School today also. Blah!  \n",
       "2  I dived many times for the ball. Managed to save % The rest go out of bounds                                    \n",
       "3  my whole body feels itchy and like its on fire                                                                  \n",
       "4  no, it's not behaving at all. i'm mad. why am i here? because I can't see you all over there.                   \n",
       "5  not the whole crew                                                                                              \n",
       "6  Need a hug                                                                                                      \n",
       "7  hey long time no see! Yes.. Rains a bit ,only a bit LOL , I'm fine thanks , how's you ?                         \n",
       "8  nope they didn't have it                                                                                        \n",
       "9  que me muera ?                                                                                                  "
      ]
     },
     "execution_count": 23,
     "metadata": {},
     "output_type": "execute_result"
    }
   ],
   "source": [
    "data['clean_tweet'] = data.apply(preprocess_tweet, axis=1)\n",
    "data[:10]"
   ]
  },
  {
   "cell_type": "code",
   "execution_count": 24,
   "id": "24214370",
   "metadata": {},
   "outputs": [
    {
     "data": {
      "text/plain": [
       "\"- awww, that's a bummer. you shoulda got david carr of third day to do it.\""
      ]
     },
     "execution_count": 24,
     "metadata": {},
     "output_type": "execute_result"
    }
   ],
   "source": [
    "str=\"- Awww, that's a bummer. You shoulda got David Carr of Third Day to do it.\"\n",
    "test1 = str.lower()\n",
    "test1"
   ]
  },
  {
   "cell_type": "code",
   "execution_count": 25,
   "id": "fb0c81c3",
   "metadata": {},
   "outputs": [
    {
     "data": {
      "text/plain": [
       "0        - awww, that's a bummer. you shoulda got david carr of third day to do it.                                    \n",
       "1        is upset that he can't update his facebook by texting it... and might cry as a result school today also. blah!\n",
       "2        i dived many times for the ball. managed to save % the rest go out of bounds                                  \n",
       "3        my whole body feels itchy and like its on fire                                                                \n",
       "4        no, it's not behaving at all. i'm mad. why am i here? because i can't see you all over there.                 \n",
       "                                                     ...                                                               \n",
       "19995    just woke up. having no school is the best feeling ever                                                       \n",
       "19996    thewdb.com - very cool to hear old walt interviews!                                                           \n",
       "19997    are you ready for your mojo makeover? ask me for details                                                      \n",
       "19998    happy th birthday to my boo of alll time!!! tupac amaru shakur                                                \n",
       "19999    happy                                                                                                         \n",
       "Name: clean_tweet, Length: 20000, dtype: object"
      ]
     },
     "execution_count": 25,
     "metadata": {},
     "output_type": "execute_result"
    }
   ],
   "source": [
    "data[\"clean_tweet\"]=data[\"clean_tweet\"].apply(lowercase)\n",
    "data[\"clean_tweet\"]"
   ]
  },
  {
   "cell_type": "code",
   "execution_count": 26,
   "id": "9f4929b4",
   "metadata": {},
   "outputs": [],
   "source": [
    "#!pip install contractions"
   ]
  },
  {
   "cell_type": "code",
   "execution_count": 27,
   "id": "89a4b8f4",
   "metadata": {},
   "outputs": [
    {
     "data": {
      "text/plain": [
       "\"that is a bummer.  he cannot update. i am okay. He would do that. Trump's car\""
      ]
     },
     "execution_count": 27,
     "metadata": {},
     "output_type": "execute_result"
    }
   ],
   "source": [
    " # Checking how contractions work\n",
    "example = \"that's a bummer.  he can't update. i'm okay. He'd do that. Trump's car\"\n",
    "example = contractions.fix(example)\n",
    "example"
   ]
  },
  {
   "cell_type": "code",
   "execution_count": 28,
   "id": "8957cb1c",
   "metadata": {},
   "outputs": [
    {
     "data": {
      "text/plain": [
       "0        - awww, that is a bummer. you shoulda got david carr of third day to do it.                                    \n",
       "1        is upset that he cannot update his facebook by texting it... and might cry as a result school today also. blah!\n",
       "2        i dived many times for the ball. managed to save % the rest go out of bounds                                   \n",
       "3        my whole body feels itchy and like its on fire                                                                 \n",
       "4        no, it is not behaving at all. i am mad. why am i here? because i cannot see you all over there.               \n",
       "                                                       ...                                                              \n",
       "19995    just woke up. having no school is the best feeling ever                                                        \n",
       "19996    thewdb.com - very cool to hear old walt interviews!                                                            \n",
       "19997    are you ready for your mojo makeover? ask me for details                                                       \n",
       "19998    happy th birthday to my boo of alll time!!! tupac amaru shakur                                                 \n",
       "19999    happy                                                                                                          \n",
       "Name: clean_tweet, Length: 20000, dtype: object"
      ]
     },
     "execution_count": 28,
     "metadata": {},
     "output_type": "execute_result"
    }
   ],
   "source": [
    "data[\"clean_tweet\"]=data[\"clean_tweet\"].apply(expand_contractions)\n",
    "data[\"clean_tweet\"]"
   ]
  },
  {
   "cell_type": "code",
   "execution_count": 29,
   "id": "4be3f2d2",
   "metadata": {},
   "outputs": [
    {
     "data": {
      "text/plain": [
       "0         awww that is a bummer you shoulda got david carr of third day to do it                                   \n",
       "1        is upset that he cannot update his facebook by texting it and might cry as a result school today also blah\n",
       "2        i dived many times for the ball managed to save  the rest go out of bounds                                \n",
       "3        my whole body feels itchy and like its on fire                                                            \n",
       "4        no it is not behaving at all i am mad why am i here because i cannot see you all over there               \n",
       "                                                    ...                                                            \n",
       "19995    just woke up having no school is the best feeling ever                                                    \n",
       "19996    thewdbcom  very cool to hear old walt interviews                                                          \n",
       "19997    are you ready for your mojo makeover ask me for details                                                   \n",
       "19998    happy th birthday to my boo of alll time tupac amaru shakur                                               \n",
       "19999    happy                                                                                                     \n",
       "Name: clean_tweet, Length: 20000, dtype: object"
      ]
     },
     "execution_count": 29,
     "metadata": {},
     "output_type": "execute_result"
    }
   ],
   "source": [
    "# We will remove punctuations using string package\n",
    "\n",
    "# Apply to the DF series\n",
    "data['clean_tweet'] = data['clean_tweet'].apply(remove_punctuations)\n",
    "data['clean_tweet']    "
   ]
  },
  {
   "cell_type": "code",
   "execution_count": 30,
   "id": "c42f8e0f",
   "metadata": {},
   "outputs": [
    {
     "data": {
      "text/plain": [
       "0         awww that is a bummer you shoulda got david carr of third day to do it                                   \n",
       "1        is upset that he cannot update his facebook by texting it and might cry as a result school today also blah\n",
       "2        i dived many times for the ball managed to save  the rest go out of bounds                                \n",
       "3        my whole body feels itchy and like its on fire                                                            \n",
       "4        no it is not behaving at all i am mad why am i here because i cannot see you all over there               \n",
       "                                                    ...                                                            \n",
       "19995    just woke up having no school is the best feeling ever                                                    \n",
       "19996    thewdbcom  very cool to hear old walt interviews                                                          \n",
       "19997    are you ready for your mojo makeover ask me for details                                                   \n",
       "19998    happy th birthday to my boo of alll time tupac amaru shakur                                               \n",
       "19999    happy                                                                                                     \n",
       "Name: clean_tweet, Length: 20000, dtype: object"
      ]
     },
     "execution_count": 30,
     "metadata": {},
     "output_type": "execute_result"
    }
   ],
   "source": [
    "data['clean_tweet'] = data['clean_tweet'].apply(remove_digits)\n",
    "data['clean_tweet']    "
   ]
  },
  {
   "cell_type": "code",
   "execution_count": 31,
   "id": "25d915d8",
   "metadata": {},
   "outputs": [
    {
     "data": {
      "text/plain": [
       "sentiment      0                                                                                                                \n",
       "tweet          Bed. Class 8-12. Work 12-3. Gym 3-5 or 6. Then class 6-10. Another day that's gonna fly by. I miss my girlfriend \n",
       "clean_tweet    bed class  work  gym  or  then class  another day that is going to fly by i miss my girlfriend                   \n",
       "Name: 39, dtype: object"
      ]
     },
     "execution_count": 31,
     "metadata": {},
     "output_type": "execute_result"
    }
   ],
   "source": [
    "# Checking if numbers are removed\n",
    "data.iloc[39]"
   ]
  },
  {
   "cell_type": "code",
   "execution_count": 32,
   "id": "a8155b84",
   "metadata": {},
   "outputs": [],
   "source": [
    "#nltk.download('punkt')"
   ]
  },
  {
   "cell_type": "code",
   "execution_count": 33,
   "id": "9f413c4d",
   "metadata": {},
   "outputs": [
    {
     "data": {
      "text/plain": [
       "'awww bummer shoulda got david carr third day'"
      ]
     },
     "execution_count": 33,
     "metadata": {},
     "output_type": "execute_result"
    }
   ],
   "source": [
    "# testing how tokenizer works\n",
    "\n",
    "stop_words = set(stopwords.words('english'))\n",
    "example = \"awww that is a bummer you shoulda got david carr of third day to do it \"\n",
    "example2 = stopwords_removal(example)\n",
    "example2"
   ]
  },
  {
   "cell_type": "code",
   "execution_count": 34,
   "id": "22c8e965",
   "metadata": {},
   "outputs": [
    {
     "data": {
      "text/plain": [
       "0        awww bummer shoulda got david carr third day                                \n",
       "1        upset cannot update facebook texting might cry result school today also blah\n",
       "2        dived many times ball managed save rest go bounds                           \n",
       "3        whole body feels itchy like fire                                            \n",
       "4        behaving mad cannot see                                                     \n",
       "                  ...                                                                \n",
       "19995    woke school best feeling ever                                               \n",
       "19996    thewdbcom cool hear old walt interviews                                     \n",
       "19997    ready mojo makeover ask details                                             \n",
       "19998    happy th birthday boo alll time tupac amaru shakur                          \n",
       "19999    happy                                                                       \n",
       "Name: clean_tweet, Length: 20000, dtype: object"
      ]
     },
     "execution_count": 34,
     "metadata": {},
     "output_type": "execute_result"
    }
   ],
   "source": [
    "data[\"clean_tweet\"]=data[\"clean_tweet\"].apply(stopwords_removal)\n",
    "data[\"clean_tweet\"]"
   ]
  },
  {
   "cell_type": "code",
   "execution_count": 35,
   "id": "76d7b471",
   "metadata": {},
   "outputs": [],
   "source": [
    "# Dividing data into features and target variable\n",
    "X= data[\"clean_tweet\"]\n",
    "y= data[\"sentiment\"]"
   ]
  },
  {
   "cell_type": "code",
   "execution_count": 36,
   "id": "fa5087da",
   "metadata": {},
   "outputs": [],
   "source": [
    "xtrain,xtest,ytrain,ytest = train_test_split(X,y,test_size=0.3, random_state=43)"
   ]
  },
  {
   "cell_type": "markdown",
   "id": "18953d97",
   "metadata": {},
   "source": [
    "## Text Vectorization - Keras Tokenizer"
   ]
  },
  {
   "cell_type": "code",
   "execution_count": 37,
   "id": "959f6cb4",
   "metadata": {},
   "outputs": [
    {
     "data": {
      "text/plain": [
       "18822    looking forward lunch broncos sweetheart                                                \n",
       "17415    waiting omnia ii                                                                        \n",
       "12240    going pick cousins school today beyond excited                                          \n",
       "5588     bus school boo making biology test today                                                \n",
       "12022    yea knows may next get bailout know ask live make                                       \n",
       "                               ...                                                               \n",
       "18448    glad got hang learned danger tweeting peoples names without space context startin rumors\n",
       "7985     ok official feel like crap know allergies cold hate feeling phlem back throat           \n",
       "18687    interesting mean us dirty something hehehehe                                            \n",
       "19776    betcha                                                                                  \n",
       "14148    giving calves break wearing flats todayonly downside realize short really               \n",
       "Name: clean_tweet, Length: 14000, dtype: object"
      ]
     },
     "execution_count": 37,
     "metadata": {},
     "output_type": "execute_result"
    }
   ],
   "source": [
    "xtrain"
   ]
  },
  {
   "cell_type": "code",
   "execution_count": 38,
   "id": "edf67836",
   "metadata": {},
   "outputs": [
    {
     "name": "stdout",
     "output_type": "stream",
     "text": [
      "Found 17449 unique tokens.\n"
     ]
    }
   ],
   "source": [
    "tokenizer = Tokenizer()\n",
    "tokenizer.fit_on_texts(xtrain) \n",
    "word_index = tokenizer.word_index\n",
    "vocab_size=len(word_index)\n",
    "print('Found %s unique tokens.' % vocab_size)"
   ]
  },
  {
   "cell_type": "code",
   "execution_count": 39,
   "id": "1415184f",
   "metadata": {},
   "outputs": [],
   "source": [
    "train_sequence = tokenizer.texts_to_sequences(xtrain)\n",
    "testing_sequence = tokenizer.texts_to_sequences(xtest)"
   ]
  },
  {
   "cell_type": "code",
   "execution_count": 40,
   "id": "81262656",
   "metadata": {},
   "outputs": [
    {
     "data": {
      "text/plain": [
       "132"
      ]
     },
     "execution_count": 40,
     "metadata": {},
     "output_type": "execute_result"
    }
   ],
   "source": [
    "# finding the maximum length of reviews\n",
    "review_lengths = []\n",
    "for i in X:\n",
    "    for word in i.split():\n",
    "        \n",
    "max_length = max(review_lengths)\n",
    "max_length"
   ]
  },
  {
   "cell_type": "code",
   "execution_count": 41,
   "id": "4e2e78d8",
   "metadata": {},
   "outputs": [],
   "source": [
    "# So, the longest review is 132 characters in length. We will set maxlength for padding to be 132\n",
    "padded_xtrain = pad_sequences(train_sequence, maxlen=max_length) \n",
    "padded_xtest= pad_sequences(testing_sequence, maxlen=max_length) \n"
   ]
  },
  {
   "cell_type": "code",
   "execution_count": 42,
   "id": "393fa7fc",
   "metadata": {},
   "outputs": [
    {
     "data": {
      "text/plain": [
       "array([   0,    0,    0,    0,    0,    0,    0,    0,    0,    0,    0,\n",
       "          0,    0,    0,    0,    0,    0,    0,    0,    0,    0,    0,\n",
       "          0,    0,    0,    0,    0,    0,    0,    0,    0,    0,    0,\n",
       "          0,    0,    0,    0,    0,    0,    0,    0,    0,    0,    0,\n",
       "          0,    0,    0,    0,    0,    0,    0,    0,    0,    0,    0,\n",
       "          0,    0,    0,    0,    0,    0,    0,    0,    0,    0,    0,\n",
       "          0,    0,    0,    0,    0,    0,    0,    0,    0,    0,    0,\n",
       "          0,    0,    0,    0,    0,    0,    0,    0,    0,    0,    0,\n",
       "          0,    0,    0,    0,    0,    0,    0,    0,    0,    0,    0,\n",
       "          0,    0,    0,    0,    0,    0,    0,    0,    0,    0,    0,\n",
       "          0,    0,    0,    0,    0,    0,    0,    0,    0,    0,    0,\n",
       "          0,    0,    0,    0,    0,    0,  101,  220,  221, 4186, 2564],\n",
       "      dtype=int32)"
      ]
     },
     "execution_count": 42,
     "metadata": {},
     "output_type": "execute_result"
    }
   ],
   "source": [
    "padded_xtrain[0]"
   ]
  },
  {
   "cell_type": "code",
   "execution_count": 43,
   "id": "31c13e44",
   "metadata": {},
   "outputs": [
    {
     "data": {
      "text/plain": [
       "(14000, 132)"
      ]
     },
     "execution_count": 43,
     "metadata": {},
     "output_type": "execute_result"
    }
   ],
   "source": [
    "padded_xtrain.shape\n"
   ]
  },
  {
   "cell_type": "code",
   "execution_count": 44,
   "id": "35deaaba",
   "metadata": {},
   "outputs": [
    {
     "name": "stderr",
     "output_type": "stream",
     "text": [
      "Using TensorFlow backend.\n"
     ]
    }
   ],
   "source": [
    "from keras.models import Sequential\n",
    "from keras.layers import Dense\n",
    "mlp = Sequential()\n",
    "mlp.add(Dense(100, activation='relu', input_dim=max_length))\n",
    "mlp.add(Dense(1,activation='sigmoid'))\n",
    "mlp.compile(loss='binary_crossentropy', optimizer='adam', metrics=['accuracy'])"
   ]
  },
  {
   "cell_type": "code",
   "execution_count": 45,
   "id": "15407fce",
   "metadata": {},
   "outputs": [
    {
     "name": "stdout",
     "output_type": "stream",
     "text": [
      "Model: \"sequential\"\n",
      "_________________________________________________________________\n",
      "Layer (type)                 Output Shape              Param #   \n",
      "=================================================================\n",
      "dense (Dense)                (None, 100)               13300     \n",
      "_________________________________________________________________\n",
      "dense_1 (Dense)              (None, 1)                 101       \n",
      "=================================================================\n",
      "Total params: 13,401\n",
      "Trainable params: 13,401\n",
      "Non-trainable params: 0\n",
      "_________________________________________________________________\n"
     ]
    }
   ],
   "source": [
    "mlp.summary()"
   ]
  },
  {
   "cell_type": "code",
   "execution_count": 46,
   "id": "e3e48a44",
   "metadata": {},
   "outputs": [
    {
     "name": "stdout",
     "output_type": "stream",
     "text": [
      "Epoch 1/50\n",
      "438/438 [==============================] - 1s 1ms/step - loss: 40.3932 - accuracy: 0.4998 - val_loss: 14.1851 - val_accuracy: 0.4878\n",
      "Epoch 2/50\n",
      "438/438 [==============================] - 1s 1ms/step - loss: 24.6351 - accuracy: 0.5077 - val_loss: 11.5582 - val_accuracy: 0.5037\n",
      "Epoch 3/50\n",
      "438/438 [==============================] - 1s 1ms/step - loss: 21.1585 - accuracy: 0.5116 - val_loss: 9.6036 - val_accuracy: 0.4992\n",
      "Epoch 4/50\n",
      "438/438 [==============================] - 1s 1ms/step - loss: 18.0661 - accuracy: 0.5112 - val_loss: 9.7920 - val_accuracy: 0.4957\n",
      "Epoch 5/50\n",
      "438/438 [==============================] - 1s 1ms/step - loss: 15.8948 - accuracy: 0.5181 - val_loss: 8.4775 - val_accuracy: 0.4983\n",
      "Epoch 6/50\n",
      "438/438 [==============================] - 1s 1ms/step - loss: 14.5860 - accuracy: 0.5184 - val_loss: 8.8643 - val_accuracy: 0.5118\n",
      "Epoch 7/50\n",
      "438/438 [==============================] - 1s 1ms/step - loss: 13.0247 - accuracy: 0.5133 - val_loss: 7.8739 - val_accuracy: 0.4868\n",
      "Epoch 8/50\n",
      "438/438 [==============================] - 1s 1ms/step - loss: 12.2257 - accuracy: 0.5298 - val_loss: 9.0806 - val_accuracy: 0.4873\n",
      "Epoch 9/50\n",
      "438/438 [==============================] - 1s 1ms/step - loss: 10.9908 - accuracy: 0.5284 - val_loss: 7.3379 - val_accuracy: 0.4872\n",
      "Epoch 10/50\n",
      "438/438 [==============================] - 1s 1ms/step - loss: 10.6229 - accuracy: 0.5254 - val_loss: 7.2576 - val_accuracy: 0.5117\n",
      "Epoch 11/50\n",
      "438/438 [==============================] - 1s 1ms/step - loss: 10.3959 - accuracy: 0.5221 - val_loss: 5.6010 - val_accuracy: 0.5063\n",
      "Epoch 12/50\n",
      "438/438 [==============================] - 1s 1ms/step - loss: 9.0294 - accuracy: 0.5228 - val_loss: 6.0750 - val_accuracy: 0.5042\n",
      "Epoch 13/50\n",
      "438/438 [==============================] - 1s 1ms/step - loss: 8.0416 - accuracy: 0.5290 - val_loss: 6.4266 - val_accuracy: 0.5047\n",
      "Epoch 14/50\n",
      "438/438 [==============================] - 1s 1ms/step - loss: 7.4741 - accuracy: 0.5248 - val_loss: 5.8078 - val_accuracy: 0.4957\n",
      "Epoch 15/50\n",
      "438/438 [==============================] - 1s 1ms/step - loss: 6.8996 - accuracy: 0.5242 - val_loss: 4.6356 - val_accuracy: 0.4920\n",
      "Epoch 16/50\n",
      "438/438 [==============================] - 1s 1ms/step - loss: 6.6620 - accuracy: 0.5244 - val_loss: 3.6241 - val_accuracy: 0.4807\n",
      "Epoch 17/50\n",
      "438/438 [==============================] - 1s 1ms/step - loss: 6.2343 - accuracy: 0.5301 - val_loss: 4.9557 - val_accuracy: 0.4873\n",
      "Epoch 18/50\n",
      "438/438 [==============================] - 1s 1ms/step - loss: 5.5439 - accuracy: 0.5278 - val_loss: 3.9436 - val_accuracy: 0.5110\n",
      "Epoch 19/50\n",
      "438/438 [==============================] - 1s 1ms/step - loss: 5.6169 - accuracy: 0.5226 - val_loss: 4.9344 - val_accuracy: 0.4947\n",
      "Epoch 20/50\n",
      "438/438 [==============================] - 1s 1ms/step - loss: 5.2788 - accuracy: 0.5162 - val_loss: 4.9246 - val_accuracy: 0.5022\n",
      "Epoch 21/50\n",
      "438/438 [==============================] - 1s 1ms/step - loss: 4.2867 - accuracy: 0.5219 - val_loss: 3.7449 - val_accuracy: 0.5067\n",
      "Epoch 22/50\n",
      "438/438 [==============================] - 1s 1ms/step - loss: 4.0787 - accuracy: 0.5247 - val_loss: 3.4634 - val_accuracy: 0.5048\n",
      "Epoch 23/50\n",
      "438/438 [==============================] - 1s 1ms/step - loss: 3.5316 - accuracy: 0.5261 - val_loss: 2.6566 - val_accuracy: 0.5047\n",
      "Epoch 24/50\n",
      "438/438 [==============================] - 1s 1ms/step - loss: 3.3355 - accuracy: 0.5283 - val_loss: 2.4519 - val_accuracy: 0.5018\n",
      "Epoch 25/50\n",
      "438/438 [==============================] - 1s 1ms/step - loss: 3.3200 - accuracy: 0.5189 - val_loss: 1.9035 - val_accuracy: 0.4958\n",
      "Epoch 26/50\n",
      "438/438 [==============================] - 1s 1ms/step - loss: 2.5484 - accuracy: 0.5250 - val_loss: 2.1157 - val_accuracy: 0.4785\n",
      "Epoch 27/50\n",
      "438/438 [==============================] - 1s 1ms/step - loss: 2.6751 - accuracy: 0.5251 - val_loss: 2.3447 - val_accuracy: 0.5073\n",
      "Epoch 28/50\n",
      "438/438 [==============================] - 1s 1ms/step - loss: 2.3979 - accuracy: 0.5166 - val_loss: 1.4919 - val_accuracy: 0.4887\n",
      "Epoch 29/50\n",
      "438/438 [==============================] - 1s 1ms/step - loss: 2.0975 - accuracy: 0.5110 - val_loss: 1.2120 - val_accuracy: 0.4897\n",
      "Epoch 30/50\n",
      "438/438 [==============================] - 1s 1ms/step - loss: 2.1759 - accuracy: 0.5108 - val_loss: 1.3105 - val_accuracy: 0.4848\n",
      "Epoch 31/50\n",
      "438/438 [==============================] - 1s 1ms/step - loss: 1.8728 - accuracy: 0.5126 - val_loss: 1.0244 - val_accuracy: 0.4903\n",
      "Epoch 32/50\n",
      "438/438 [==============================] - 1s 1ms/step - loss: 1.5985 - accuracy: 0.5181 - val_loss: 1.0759 - val_accuracy: 0.4833\n",
      "Epoch 33/50\n",
      "438/438 [==============================] - 1s 1ms/step - loss: 1.6976 - accuracy: 0.5064 - val_loss: 0.9659 - val_accuracy: 0.4922\n",
      "Epoch 34/50\n",
      "438/438 [==============================] - 1s 1ms/step - loss: 1.4708 - accuracy: 0.5126 - val_loss: 0.9368 - val_accuracy: 0.4965\n",
      "Epoch 35/50\n",
      "438/438 [==============================] - 1s 1ms/step - loss: 1.2634 - accuracy: 0.5139 - val_loss: 0.9171 - val_accuracy: 0.4872\n",
      "Epoch 36/50\n",
      "438/438 [==============================] - 1s 1ms/step - loss: 1.3534 - accuracy: 0.5105 - val_loss: 0.9657 - val_accuracy: 0.4953\n",
      "Epoch 37/50\n",
      "438/438 [==============================] - 1s 1ms/step - loss: 1.1458 - accuracy: 0.5051 - val_loss: 0.8689 - val_accuracy: 0.4983\n",
      "Epoch 38/50\n",
      "438/438 [==============================] - 1s 1ms/step - loss: 1.1196 - accuracy: 0.5059 - val_loss: 1.0577 - val_accuracy: 0.4953\n",
      "Epoch 39/50\n",
      "438/438 [==============================] - 1s 1ms/step - loss: 0.9752 - accuracy: 0.5059 - val_loss: 0.7885 - val_accuracy: 0.5002\n",
      "Epoch 40/50\n",
      "438/438 [==============================] - 1s 1ms/step - loss: 0.9906 - accuracy: 0.5053 - val_loss: 0.9469 - val_accuracy: 0.4887\n",
      "Epoch 41/50\n",
      "438/438 [==============================] - 1s 1ms/step - loss: 0.8920 - accuracy: 0.5106 - val_loss: 0.7458 - val_accuracy: 0.5067\n",
      "Epoch 42/50\n",
      "438/438 [==============================] - 1s 2ms/step - loss: 0.8397 - accuracy: 0.5081 - val_loss: 0.8371 - val_accuracy: 0.4955\n",
      "Epoch 43/50\n",
      "438/438 [==============================] - 1s 2ms/step - loss: 0.8561 - accuracy: 0.5113 - val_loss: 0.7569 - val_accuracy: 0.4918\n",
      "Epoch 44/50\n",
      "438/438 [==============================] - 1s 1ms/step - loss: 0.8602 - accuracy: 0.5087 - val_loss: 0.8139 - val_accuracy: 0.4977\n",
      "Epoch 45/50\n",
      "438/438 [==============================] - 1s 1ms/step - loss: 0.8172 - accuracy: 0.5057 - val_loss: 0.7901 - val_accuracy: 0.4897\n",
      "Epoch 46/50\n",
      "438/438 [==============================] - 1s 1ms/step - loss: 0.8450 - accuracy: 0.5110 - val_loss: 0.7313 - val_accuracy: 0.4970\n",
      "Epoch 47/50\n",
      "438/438 [==============================] - 1s 1ms/step - loss: 0.7730 - accuracy: 0.5129 - val_loss: 0.7669 - val_accuracy: 0.4920\n",
      "Epoch 48/50\n",
      "438/438 [==============================] - 1s 1ms/step - loss: 0.7789 - accuracy: 0.5080 - val_loss: 0.7630 - val_accuracy: 0.4952\n",
      "Epoch 49/50\n",
      "438/438 [==============================] - 1s 1ms/step - loss: 0.7560 - accuracy: 0.5139 - val_loss: 0.7303 - val_accuracy: 0.4952\n",
      "Epoch 50/50\n",
      "438/438 [==============================] - 1s 1ms/step - loss: 0.7537 - accuracy: 0.5072 - val_loss: 0.7273 - val_accuracy: 0.4960\n"
     ]
    },
    {
     "data": {
      "text/plain": [
       "<tensorflow.python.keras.callbacks.History at 0x7efef600ffd0>"
      ]
     },
     "execution_count": 46,
     "metadata": {},
     "output_type": "execute_result"
    }
   ],
   "source": [
    "mlp.fit(padded_xtrain,ytrain,epochs=50,validation_data=(padded_xtest, ytest ))"
   ]
  },
  {
   "cell_type": "code",
   "execution_count": 47,
   "id": "a47af599",
   "metadata": {},
   "outputs": [
    {
     "data": {
      "image/png": "[encoded data removed]",
      "text/plain": [
       "<Figure size 864x432 with 1 Axes>"
      ]
     },
     "metadata": {
      "needs_background": "light"
     },
     "output_type": "display_data"
    }
   ],
   "source": [
    "# we can plot loss per epoch too\n",
    "loss_per_epoch = mlp.history.history['loss']\n",
    "fig = plt.figure(1, figsize=(12,6))\n",
    "plt.plot(range(len(loss_per_epoch)),loss_per_epoch)\n",
    "plt.title('Loss per Epoch')\n",
    "plt.xlabel('Num of Epochs')\n",
    "plt.ylabel('Loss')\n",
    "plt.show()\n"
   ]
  },
  {
   "cell_type": "code",
   "execution_count": 48,
   "id": "cd8d64d2",
   "metadata": {},
   "outputs": [
    {
     "name": "stdout",
     "output_type": "stream",
     "text": [
      "188/188 [==============================] - 0s 632us/step - loss: 0.7273 - accuracy: 0.4960\n"
     ]
    },
    {
     "data": {
      "text/plain": [
       "[0.7272889614105225, 0.4959999918937683]"
      ]
     },
     "execution_count": 48,
     "metadata": {},
     "output_type": "execute_result"
    }
   ],
   "source": [
    "mlp.evaluate(padded_xtest,ytest)"
   ]
  },
  {
   "cell_type": "code",
   "execution_count": 69,
   "id": "ebddd4d0",
   "metadata": {},
   "outputs": [
    {
     "name": "stdout",
     "output_type": "stream",
     "text": [
      "Accuracy is 0.496\n",
      "F1 Score is 0.4473684210526316\n",
      "              precision    recall  f1-score   support\n",
      "\n",
      "           0       0.49      0.59      0.54      2984\n",
      "           1       0.50      0.41      0.45      3016\n",
      "\n",
      "    accuracy                           0.50      6000\n",
      "   macro avg       0.50      0.50      0.49      6000\n",
      "weighted avg       0.50      0.50      0.49      6000\n",
      "\n",
      "[[1752 1232]\n",
      " [1792 1224]]\n"
     ]
    }
   ],
   "source": [
    "model_Evaluate(mlp)"
   ]
  },
  {
   "cell_type": "markdown",
   "id": "69e15e7c",
   "metadata": {},
   "source": [
    "## LSTM Model"
   ]
  },
  {
   "cell_type": "code",
   "execution_count": 50,
   "id": "fa4bf419",
   "metadata": {},
   "outputs": [],
   "source": [
    "from keras.models import Sequential\n",
    "from keras.layers import Dense\n",
    "from keras.layers import Embedding\n",
    "from keras.layers import LSTM\n",
    "lstm_model = Sequential()\n",
    "lstm_model.add(Embedding((vocab_size+1),100,input_length=max_length))\n",
    "lstm_model.add(LSTM(50, activation='relu'))\n",
    "lstm_model.add(Dense(20, activation='relu'))\n",
    "lstm_model.add(Dense(1,activation='sigmoid'))\n",
    "lstm_model.compile(loss='binary_crossentropy', optimizer='adam', metrics=['accuracy'])"
   ]
  },
  {
   "cell_type": "code",
   "execution_count": 51,
   "id": "d2326302",
   "metadata": {},
   "outputs": [
    {
     "name": "stdout",
     "output_type": "stream",
     "text": [
      "Model: \"sequential_1\"\n",
      "_________________________________________________________________\n",
      "Layer (type)                 Output Shape              Param #   \n",
      "=================================================================\n",
      "embedding (Embedding)        (None, 132, 100)          1745000   \n",
      "_________________________________________________________________\n",
      "lstm (LSTM)                  (None, 50)                30200     \n",
      "_________________________________________________________________\n",
      "dense_2 (Dense)              (None, 20)                1020      \n",
      "_________________________________________________________________\n",
      "dense_3 (Dense)              (None, 1)                 21        \n",
      "=================================================================\n",
      "Total params: 1,776,241\n",
      "Trainable params: 1,776,241\n",
      "Non-trainable params: 0\n",
      "_________________________________________________________________\n"
     ]
    }
   ],
   "source": [
    "lstm_model.summary()"
   ]
  },
  {
   "cell_type": "code",
   "execution_count": 52,
   "id": "37449d82",
   "metadata": {},
   "outputs": [
    {
     "name": "stdout",
     "output_type": "stream",
     "text": [
      "Epoch 1/10\n",
      "438/438 [==============================] - 24s 55ms/step - loss: 23260604.0000 - accuracy: 0.6721 - val_loss: 0.5427 - val_accuracy: 0.7327\n",
      "Epoch 2/10\n",
      "438/438 [==============================] - 25s 57ms/step - loss: 0.3990 - accuracy: 0.8296 - val_loss: 0.5703 - val_accuracy: 0.7240\n",
      "Epoch 3/10\n",
      "438/438 [==============================] - 23s 53ms/step - loss: 0.2592 - accuracy: 0.8944 - val_loss: 0.7110 - val_accuracy: 0.7178\n",
      "Epoch 4/10\n",
      "438/438 [==============================] - 24s 56ms/step - loss: 0.1804 - accuracy: 0.9270 - val_loss: 0.8218 - val_accuracy: 0.7115\n",
      "Epoch 5/10\n",
      "438/438 [==============================] - 23s 53ms/step - loss: 0.1257 - accuracy: 0.9484 - val_loss: 1.0633 - val_accuracy: 0.7063\n",
      "Epoch 6/10\n",
      "438/438 [==============================] - 22s 51ms/step - loss: 0.0971 - accuracy: 0.9596 - val_loss: 1.2728 - val_accuracy: 0.7053\n",
      "Epoch 7/10\n",
      "438/438 [==============================] - 23s 53ms/step - loss: 0.0762 - accuracy: 0.9693 - val_loss: 1.6650 - val_accuracy: 0.6920\n",
      "Epoch 8/10\n",
      "438/438 [==============================] - 22s 51ms/step - loss: 0.0693 - accuracy: 0.9718 - val_loss: 1.4903 - val_accuracy: 0.6968\n",
      "Epoch 9/10\n",
      "438/438 [==============================] - 22s 50ms/step - loss: 0.0579 - accuracy: 0.9759 - val_loss: 1.9394 - val_accuracy: 0.6893\n",
      "Epoch 10/10\n",
      "438/438 [==============================] - 23s 52ms/step - loss: 0.0503 - accuracy: 0.9786 - val_loss: 2.1121 - val_accuracy: 0.6927\n"
     ]
    },
    {
     "data": {
      "text/plain": [
       "<tensorflow.python.keras.callbacks.History at 0x7efedfb5d668>"
      ]
     },
     "execution_count": 52,
     "metadata": {},
     "output_type": "execute_result"
    }
   ],
   "source": [
    "lstm_model.fit(padded_xtrain,ytrain,epochs=10,validation_data=(padded_xtest, ytest))"
   ]
  },
  {
   "cell_type": "code",
   "execution_count": 53,
   "id": "a24ac834",
   "metadata": {},
   "outputs": [
    {
     "data": {
      "image/png": "[encoded data removed]",
      "text/plain": [
       "<Figure size 864x432 with 1 Axes>"
      ]
     },
     "metadata": {
      "needs_background": "light"
     },
     "output_type": "display_data"
    }
   ],
   "source": [
    "# we can plot loss per epoch too\n",
    "loss_per_epoch = lstm_model.history.history['loss']\n",
    "fig = plt.figure(1, figsize=(12,6))\n",
    "plt.plot(range(len(loss_per_epoch)),loss_per_epoch)\n",
    "plt.title('Loss per Epoch')\n",
    "plt.xlabel('Num of Epochs')\n",
    "plt.ylabel('Loss')\n",
    "plt.show()"
   ]
  },
  {
   "cell_type": "code",
   "execution_count": 70,
   "id": "a4343699",
   "metadata": {},
   "outputs": [
    {
     "name": "stdout",
     "output_type": "stream",
     "text": [
      "Accuracy is 0.6926666666666667\n",
      "F1 Score is 0.6895622895622896\n",
      "              precision    recall  f1-score   support\n",
      "\n",
      "           0       0.69      0.71      0.70      2984\n",
      "           1       0.70      0.68      0.69      3016\n",
      "\n",
      "    accuracy                           0.69      6000\n",
      "   macro avg       0.69      0.69      0.69      6000\n",
      "weighted avg       0.69      0.69      0.69      6000\n",
      "\n",
      "[[2108  876]\n",
      " [ 968 2048]]\n"
     ]
    }
   ],
   "source": [
    "model_Evaluate(lstm_model) \n"
   ]
  },
  {
   "cell_type": "code",
   "execution_count": 62,
   "id": "f296b3e5",
   "metadata": {},
   "outputs": [
    {
     "name": "stdout",
     "output_type": "stream",
     "text": [
      "188/188 [==============================] - 2s 9ms/step - loss: 2.1121 - accuracy: 0.6927\n"
     ]
    },
    {
     "data": {
      "text/plain": [
       "[2.112123727798462, 0.6926666498184204]"
      ]
     },
     "execution_count": 62,
     "metadata": {},
     "output_type": "execute_result"
    }
   ],
   "source": [
    "lstm_model.evaluate(padded_xtest,ytest)"
   ]
  },
  {
   "cell_type": "code",
   "execution_count": 71,
   "id": "79c7789e",
   "metadata": {},
   "outputs": [],
   "source": [
    "from keras.layers import Bidirectional\n",
    "Bilstm_model = Sequential()\n",
    "Bilstm_model.add(Embedding((vocab_size+1),100,input_length=max_length))\n",
    "Bilstm_model.add(Bidirectional(LSTM(50, activation='relu')))\n",
    "Bilstm_model.add(Dense(20, activation='relu'))\n",
    "Bilstm_model.add(Dense(1,activation='sigmoid'))\n",
    "Bilstm_model.compile(loss='binary_crossentropy', optimizer='adam', metrics=['accuracy'])"
   ]
  },
  {
   "cell_type": "code",
   "execution_count": 72,
   "id": "1b26ef18",
   "metadata": {},
   "outputs": [
    {
     "name": "stdout",
     "output_type": "stream",
     "text": [
      "Model: \"sequential_3\"\n",
      "_________________________________________________________________\n",
      "Layer (type)                 Output Shape              Param #   \n",
      "=================================================================\n",
      "embedding_2 (Embedding)      (None, 132, 100)          1745000   \n",
      "_________________________________________________________________\n",
      "bidirectional_1 (Bidirection (None, 100)               60400     \n",
      "_________________________________________________________________\n",
      "dense_6 (Dense)              (None, 20)                2020      \n",
      "_________________________________________________________________\n",
      "dense_7 (Dense)              (None, 1)                 21        \n",
      "=================================================================\n",
      "Total params: 1,807,441\n",
      "Trainable params: 1,807,441\n",
      "Non-trainable params: 0\n",
      "_________________________________________________________________\n"
     ]
    }
   ],
   "source": [
    "Bilstm_model.summary()"
   ]
  },
  {
   "cell_type": "code",
   "execution_count": 73,
   "id": "14ad5a9e",
   "metadata": {},
   "outputs": [
    {
     "name": "stdout",
     "output_type": "stream",
     "text": [
      "Epoch 1/10\n",
      "438/438 [==============================] - 35s 80ms/step - loss: 5184.4375 - accuracy: 0.6830 - val_loss: 0.5344 - val_accuracy: 0.7318\n",
      "Epoch 2/10\n",
      "438/438 [==============================] - 35s 79ms/step - loss: 0.3860 - accuracy: 0.8362 - val_loss: 0.5805 - val_accuracy: 0.7245\n",
      "Epoch 3/10\n",
      "438/438 [==============================] - 34s 77ms/step - loss: 0.3122 - accuracy: 0.8961 - val_loss: 0.7029 - val_accuracy: 0.7210\n",
      "Epoch 4/10\n",
      "438/438 [==============================] - 33s 76ms/step - loss: 67996624.0000 - accuracy: 0.9221 - val_loss: 0.7946 - val_accuracy: 0.7050\n",
      "Epoch 5/10\n",
      "438/438 [==============================] - 32s 73ms/step - loss: 0.1408 - accuracy: 0.9444 - val_loss: 1.0403 - val_accuracy: 0.7025\n",
      "Epoch 6/10\n",
      "438/438 [==============================] - 33s 74ms/step - loss: 0.1132 - accuracy: 0.9550 - val_loss: 1.2441 - val_accuracy: 0.6990\n",
      "Epoch 7/10\n",
      "438/438 [==============================] - 32s 73ms/step - loss: 0.0937 - accuracy: 0.9627 - val_loss: 1.2793 - val_accuracy: 0.6962\n",
      "Epoch 8/10\n",
      "438/438 [==============================] - 32s 73ms/step - loss: 0.0830 - accuracy: 0.9648 - val_loss: 1.4009 - val_accuracy: 0.6942\n",
      "Epoch 9/10\n",
      "438/438 [==============================] - 33s 75ms/step - loss: 0.0727 - accuracy: 0.9692 - val_loss: 1.8469 - val_accuracy: 0.6907\n",
      "Epoch 10/10\n",
      "438/438 [==============================] - 35s 79ms/step - loss: 0.0678 - accuracy: 0.9709 - val_loss: 1.8611 - val_accuracy: 0.6840\n"
     ]
    },
    {
     "data": {
      "text/plain": [
       "<tensorflow.python.keras.callbacks.History at 0x7efeacd46630>"
      ]
     },
     "execution_count": 73,
     "metadata": {},
     "output_type": "execute_result"
    }
   ],
   "source": [
    "Bilstm_model.fit(padded_xtrain,ytrain,epochs=10,validation_data=(padded_xtest, ytest))"
   ]
  },
  {
   "cell_type": "code",
   "execution_count": 74,
   "id": "71955450",
   "metadata": {},
   "outputs": [
    {
     "data": {
      "image/png": "[encoded data removed]",
      "text/plain": [
       "<Figure size 864x432 with 1 Axes>"
      ]
     },
     "metadata": {
      "needs_background": "light"
     },
     "output_type": "display_data"
    }
   ],
   "source": [
    "# we can plot loss per epoch too\n",
    "loss_per_epoch = Bilstm_model.history.history['loss']\n",
    "fig = plt.figure(1, figsize=(12,6))\n",
    "plt.plot(range(len(loss_per_epoch)),loss_per_epoch)\n",
    "plt.title('Loss per Epoch')\n",
    "plt.xlabel('Num of Epochs')\n",
    "plt.ylabel('Loss')\n",
    "plt.show()"
   ]
  },
  {
   "cell_type": "code",
   "execution_count": 75,
   "id": "7c168c32",
   "metadata": {},
   "outputs": [
    {
     "name": "stdout",
     "output_type": "stream",
     "text": [
      "188/188 [==============================] - 2s 11ms/step - loss: 1.8611 - accuracy: 0.6840\n"
     ]
    },
    {
     "data": {
      "text/plain": [
       "[1.8611154556274414, 0.6840000152587891]"
      ]
     },
     "execution_count": 75,
     "metadata": {},
     "output_type": "execute_result"
    }
   ],
   "source": [
    "Bilstm_model.evaluate(padded_xtest,ytest)"
   ]
  },
  {
   "cell_type": "code",
   "execution_count": 76,
   "id": "de4ca3c5",
   "metadata": {},
   "outputs": [
    {
     "name": "stdout",
     "output_type": "stream",
     "text": [
      "Accuracy is 0.684\n",
      "F1 Score is 0.6824120603015075\n",
      "              precision    recall  f1-score   support\n",
      "\n",
      "           0       0.68      0.69      0.69      2984\n",
      "           1       0.69      0.68      0.68      3016\n",
      "\n",
      "    accuracy                           0.68      6000\n",
      "   macro avg       0.68      0.68      0.68      6000\n",
      "weighted avg       0.68      0.68      0.68      6000\n",
      "\n",
      "[[2067  917]\n",
      " [ 979 2037]]\n"
     ]
    }
   ],
   "source": [
    "model_Evaluate(Bilstm_model)"
   ]
  },
  {
   "cell_type": "code",
   "execution_count": null,
   "id": "a8c20307",
   "metadata": {},
   "outputs": [],
   "source": []
  }
 ],
 "metadata": {
  "kernelspec": {
   "display_name": "Python 3.6 - AzureML",
   "language": "python",
   "name": "python3-azureml"
  },
  "language_info": {
   "codemirror_mode": {
    "name": "ipython",
    "version": 3
   },
   "file_extension": ".py",
   "mimetype": "text/x-python",
   "name": "python",
   "nbconvert_exporter": "python",
   "pygments_lexer": "ipython3",
   "version": "3.6.9"
  }
 },
 "nbformat": 4,
 "nbformat_minor": 5
}
