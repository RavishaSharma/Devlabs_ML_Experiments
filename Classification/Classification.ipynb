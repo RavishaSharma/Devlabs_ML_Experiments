{
 "cells": [
  {
   "cell_type": "code",
   "execution_count": 90,
   "id": "7a8ae93e",
   "metadata": {},
   "outputs": [],
   "source": [
    "import pandas as pd\n",
    "import numpy as np\n",
    "import matplotlib\n",
    "import matplotlib.pyplot as plt\n",
    "import seaborn as sns\n",
    "from sklearn.model_selection import train_test_split\n",
    "from sklearn.linear_model import LogisticRegression\n",
    "from sklearn.metrics import accuracy_score,f1_score\n",
    "from imblearn.over_sampling import SMOTE"
   ]
  },
  {
   "cell_type": "code",
   "execution_count": 91,
   "id": "c85dead5",
   "metadata": {},
   "outputs": [
    {
     "data": {
      "text/html": [
       "<div>\n",
       "<style scoped>\n",
       "    .dataframe tbody tr th:only-of-type {\n",
       "        vertical-align: middle;\n",
       "    }\n",
       "\n",
       "    .dataframe tbody tr th {\n",
       "        vertical-align: top;\n",
       "    }\n",
       "\n",
       "    .dataframe thead th {\n",
       "        text-align: right;\n",
       "    }\n",
       "</style>\n",
       "<table border=\"1\" class=\"dataframe\">\n",
       "  <thead>\n",
       "    <tr style=\"text-align: right;\">\n",
       "      <th></th>\n",
       "      <th>Age</th>\n",
       "      <th>Sex</th>\n",
       "      <th>ChestPainType</th>\n",
       "      <th>RestingBloodPressure</th>\n",
       "      <th>SerumCholestoral</th>\n",
       "      <th>fastingBloodSugar</th>\n",
       "      <th>RestingECGResults</th>\n",
       "      <th>MaxHeartRate</th>\n",
       "      <th>ExerciseInducedAngina</th>\n",
       "      <th>ST_Depression</th>\n",
       "      <th>Slope</th>\n",
       "      <th>ColoredVessels</th>\n",
       "      <th>Thal_level</th>\n",
       "      <th>target</th>\n",
       "    </tr>\n",
       "  </thead>\n",
       "  <tbody>\n",
       "    <tr>\n",
       "      <th>0</th>\n",
       "      <td>0.952197</td>\n",
       "      <td>0.681005</td>\n",
       "      <td>1.973123</td>\n",
       "      <td>0.763956</td>\n",
       "      <td>-0.256334</td>\n",
       "      <td>2.394438</td>\n",
       "      <td>-1.005832</td>\n",
       "      <td>0.015443</td>\n",
       "      <td>-0.696631</td>\n",
       "      <td>1.087338</td>\n",
       "      <td>-2.274579</td>\n",
       "      <td>-0.714429</td>\n",
       "      <td>-2.148873</td>\n",
       "      <td>1</td>\n",
       "    </tr>\n",
       "    <tr>\n",
       "      <th>1</th>\n",
       "      <td>-1.915313</td>\n",
       "      <td>0.681005</td>\n",
       "      <td>1.002577</td>\n",
       "      <td>-0.092738</td>\n",
       "      <td>0.072199</td>\n",
       "      <td>-0.417635</td>\n",
       "      <td>0.898962</td>\n",
       "      <td>1.633471</td>\n",
       "      <td>-0.696631</td>\n",
       "      <td>2.122573</td>\n",
       "      <td>-2.274579</td>\n",
       "      <td>-0.714429</td>\n",
       "      <td>-0.512922</td>\n",
       "      <td>1</td>\n",
       "    </tr>\n",
       "    <tr>\n",
       "      <th>2</th>\n",
       "      <td>-1.474158</td>\n",
       "      <td>-1.468418</td>\n",
       "      <td>0.032031</td>\n",
       "      <td>-0.092738</td>\n",
       "      <td>-0.816773</td>\n",
       "      <td>-0.417635</td>\n",
       "      <td>-1.005832</td>\n",
       "      <td>0.977514</td>\n",
       "      <td>-0.696631</td>\n",
       "      <td>0.310912</td>\n",
       "      <td>0.976352</td>\n",
       "      <td>-0.714429</td>\n",
       "      <td>-0.512922</td>\n",
       "      <td>1</td>\n",
       "    </tr>\n",
       "    <tr>\n",
       "      <th>3</th>\n",
       "      <td>0.180175</td>\n",
       "      <td>0.681005</td>\n",
       "      <td>0.032031</td>\n",
       "      <td>-0.663867</td>\n",
       "      <td>-0.198357</td>\n",
       "      <td>-0.417635</td>\n",
       "      <td>0.898962</td>\n",
       "      <td>1.239897</td>\n",
       "      <td>-0.696631</td>\n",
       "      <td>-0.206705</td>\n",
       "      <td>0.976352</td>\n",
       "      <td>-0.714429</td>\n",
       "      <td>-0.512922</td>\n",
       "      <td>1</td>\n",
       "    </tr>\n",
       "    <tr>\n",
       "      <th>4</th>\n",
       "      <td>0.290464</td>\n",
       "      <td>-1.468418</td>\n",
       "      <td>-0.938515</td>\n",
       "      <td>-0.663867</td>\n",
       "      <td>2.082050</td>\n",
       "      <td>-0.417635</td>\n",
       "      <td>0.898962</td>\n",
       "      <td>0.583939</td>\n",
       "      <td>1.435481</td>\n",
       "      <td>-0.379244</td>\n",
       "      <td>0.976352</td>\n",
       "      <td>-0.714429</td>\n",
       "      <td>-0.512922</td>\n",
       "      <td>1</td>\n",
       "    </tr>\n",
       "  </tbody>\n",
       "</table>\n",
       "</div>"
      ],
      "text/plain": [
       "        Age       Sex  ChestPainType  RestingBloodPressure  SerumCholestoral  \\\n",
       "0  0.952197  0.681005       1.973123              0.763956         -0.256334   \n",
       "1 -1.915313  0.681005       1.002577             -0.092738          0.072199   \n",
       "2 -1.474158 -1.468418       0.032031             -0.092738         -0.816773   \n",
       "3  0.180175  0.681005       0.032031             -0.663867         -0.198357   \n",
       "4  0.290464 -1.468418      -0.938515             -0.663867          2.082050   \n",
       "\n",
       "   fastingBloodSugar  RestingECGResults  MaxHeartRate  ExerciseInducedAngina  \\\n",
       "0           2.394438          -1.005832      0.015443              -0.696631   \n",
       "1          -0.417635           0.898962      1.633471              -0.696631   \n",
       "2          -0.417635          -1.005832      0.977514              -0.696631   \n",
       "3          -0.417635           0.898962      1.239897              -0.696631   \n",
       "4          -0.417635           0.898962      0.583939               1.435481   \n",
       "\n",
       "   ST_Depression     Slope  ColoredVessels  Thal_level  target  \n",
       "0       1.087338 -2.274579       -0.714429   -2.148873       1  \n",
       "1       2.122573 -2.274579       -0.714429   -0.512922       1  \n",
       "2       0.310912  0.976352       -0.714429   -0.512922       1  \n",
       "3      -0.206705  0.976352       -0.714429   -0.512922       1  \n",
       "4      -0.379244  0.976352       -0.714429   -0.512922       1  "
      ]
     },
     "execution_count": 91,
     "metadata": {},
     "output_type": "execute_result"
    }
   ],
   "source": [
    "df=pd.read_pickle(\"./pickle_file/PreprocessedHeartDataset.pkl\")\n",
    "df.head()"
   ]
  },
  {
   "cell_type": "markdown",
   "id": "5a4da05d",
   "metadata": {},
   "source": [
    "## Functions"
   ]
  },
  {
   "cell_type": "code",
   "execution_count": 92,
   "id": "0c0d8e48",
   "metadata": {},
   "outputs": [],
   "source": [
    "def get_scores(y_pred,y_test):\n",
    "    acc = accuracy_score(y_test,y_pred)\n",
    "    f1=f1_score(y_test,y_pred)\n",
    "    print(\"Accuracy\",acc)\n",
    "    print(\"F1- Score:\",f1)\n",
    "    return acc,f1"
   ]
  },
  {
   "cell_type": "code",
   "execution_count": 93,
   "id": "f5a2cb27",
   "metadata": {},
   "outputs": [],
   "source": [
    "#!pip install scikit-learn==0.23.1\n",
    "#!pip install imbalanced-learn==0.7.0"
   ]
  },
  {
   "cell_type": "code",
   "execution_count": 94,
   "id": "96910327",
   "metadata": {},
   "outputs": [],
   "source": [
    "def balance(xtrain,ytrain):\n",
    "    print(\"Initial class distribution in training set\")\n",
    "    print(\"-------------------------------------------\")\n",
    "    unique,count=np.unique(ytrain,return_counts=True)\n",
    "    class_dist = {k:v for (k,v) in zip(unique,count)}\n",
    "    print(class_dist)\n",
    "    #for key,value in class_dist:\n",
    "        #print(\"{}:{}\".format(key,value))\n",
    "    print(\"Balancing using SMOTE\")\n",
    "    print(\"-\"*20)\n",
    "    smt=SMOTE()\n",
    "    xtrain_sm,ytrain_sm=smt.fit_resample(xtrain,ytrain)\n",
    "    print(\"Balancing COMPLETE!\\n Distribution after balancing\")\n",
    "    print(\"-\"*20)\n",
    "    unique2,count2=np.unique(ytrain_sm,return_counts=True)\n",
    "    class_dist2 = {k:v for (k,v) in zip(unique2,count2)}\n",
    "    print(class_dist2)\n",
    "    #for key,value in class_dist2:\n",
    "        #print(\"{}:{}\".format(key,value))\n",
    "    return xtrain_sm,ytrain_sm\n",
    "    "
   ]
  },
  {
   "cell_type": "markdown",
   "id": "deada2c3",
   "metadata": {},
   "source": [
    "### Dividing the data into test and train sets"
   ]
  },
  {
   "cell_type": "code",
   "execution_count": 95,
   "id": "aa75eaff",
   "metadata": {},
   "outputs": [],
   "source": [
    "x=df.iloc[:,0:13].values\n",
    "y=df.iloc[:,13].values"
   ]
  },
  {
   "cell_type": "code",
   "execution_count": 96,
   "id": "dcb189e4",
   "metadata": {},
   "outputs": [],
   "source": [
    "# Dividing data into train and test split\n",
    "xtrain,xtest,ytrain,ytest=train_test_split(x,y,test_size=0.3,random_state=1)"
   ]
  },
  {
   "cell_type": "code",
   "execution_count": 97,
   "id": "85add3eb",
   "metadata": {},
   "outputs": [
    {
     "data": {
      "text/plain": [
       "(91, 13)"
      ]
     },
     "execution_count": 97,
     "metadata": {},
     "output_type": "execute_result"
    }
   ],
   "source": [
    "xtest.shape"
   ]
  },
  {
   "cell_type": "markdown",
   "id": "3ae8c0df",
   "metadata": {},
   "source": [
    "## Models"
   ]
  },
  {
   "cell_type": "markdown",
   "id": "e348141c",
   "metadata": {},
   "source": [
    "### Logistic Regression"
   ]
  },
  {
   "cell_type": "code",
   "execution_count": 98,
   "id": "d229a2d6",
   "metadata": {},
   "outputs": [],
   "source": [
    "log_reg=LogisticRegression()\n"
   ]
  },
  {
   "cell_type": "code",
   "execution_count": 99,
   "id": "8ad3f91a",
   "metadata": {},
   "outputs": [
    {
     "data": {
      "text/plain": [
       "LogisticRegression()"
      ]
     },
     "execution_count": 99,
     "metadata": {},
     "output_type": "execute_result"
    }
   ],
   "source": [
    "log_reg.fit(xtrain,ytrain)"
   ]
  },
  {
   "cell_type": "code",
   "execution_count": 100,
   "id": "7b1ad7b3",
   "metadata": {},
   "outputs": [],
   "source": [
    "y_pred=log_reg.predict(xtest)"
   ]
  },
  {
   "cell_type": "code",
   "execution_count": 101,
   "id": "58cd3fc4",
   "metadata": {},
   "outputs": [
    {
     "name": "stdout",
     "output_type": "stream",
     "text": [
      "Evaluating Logistic Regression \n",
      "----------\n",
      "Accuracy 0.7802197802197802\n",
      "F1- Score: 0.803921568627451\n"
     ]
    }
   ],
   "source": [
    "print(\"Evaluating Logistic Regression \")\n",
    "print(\"-\"*10)\n",
    "acc_lr,f1_lr = get_scores(ytest,y_pred)"
   ]
  },
  {
   "cell_type": "markdown",
   "id": "dd4cebae",
   "metadata": {},
   "source": [
    "### Random Forest Classifier"
   ]
  },
  {
   "cell_type": "code",
   "execution_count": 102,
   "id": "cb18909e",
   "metadata": {},
   "outputs": [],
   "source": [
    "from sklearn.ensemble import RandomForestClassifier\n"
   ]
  },
  {
   "cell_type": "code",
   "execution_count": 103,
   "id": "905258f2",
   "metadata": {},
   "outputs": [
    {
     "data": {
      "text/plain": [
       "RandomForestClassifier(random_state=0)"
      ]
     },
     "execution_count": 103,
     "metadata": {},
     "output_type": "execute_result"
    }
   ],
   "source": [
    "rf=RandomForestClassifier(n_estimators=100,random_state=0)\n",
    "rf.fit(xtrain,ytrain)"
   ]
  },
  {
   "cell_type": "code",
   "execution_count": 104,
   "id": "f9cb7740",
   "metadata": {},
   "outputs": [],
   "source": [
    "y_pred_rf=rf.predict(xtest)"
   ]
  },
  {
   "cell_type": "code",
   "execution_count": 105,
   "id": "d5e2c128",
   "metadata": {},
   "outputs": [
    {
     "name": "stdout",
     "output_type": "stream",
     "text": [
      "Evaluating Random Forest Classifier \n",
      "----------\n",
      "Accuracy 0.7362637362637363\n",
      "F1- Score: 0.76\n"
     ]
    }
   ],
   "source": [
    "print(\"Evaluating Random Forest Classifier \")\n",
    "print(\"-\"*10)\n",
    "acc_rf,f1_rf = get_scores(ytest,y_pred_rf)"
   ]
  },
  {
   "cell_type": "markdown",
   "id": "bf1f94dd",
   "metadata": {},
   "source": [
    "### Support Vector Classifier"
   ]
  },
  {
   "cell_type": "code",
   "execution_count": 106,
   "id": "b1792fb6",
   "metadata": {},
   "outputs": [
    {
     "data": {
      "text/plain": [
       "SVC(kernel='linear', probability=True)"
      ]
     },
     "execution_count": 106,
     "metadata": {},
     "output_type": "execute_result"
    }
   ],
   "source": [
    "from sklearn.svm import SVC\n",
    "sv_classifier = SVC(kernel=\"linear\",probability=True)\n",
    "sv_classifier.fit(xtrain,ytrain)"
   ]
  },
  {
   "cell_type": "code",
   "execution_count": 107,
   "id": "d51e1976",
   "metadata": {},
   "outputs": [],
   "source": [
    "y_pred_svc=sv_classifier.predict(xtest)"
   ]
  },
  {
   "cell_type": "code",
   "execution_count": 108,
   "id": "be0350b6",
   "metadata": {},
   "outputs": [
    {
     "name": "stdout",
     "output_type": "stream",
     "text": [
      "Evaluating Support Vector Classifier \n",
      "----------\n",
      "Accuracy 0.7802197802197802\n",
      "F1- Score: 0.8076923076923077\n"
     ]
    }
   ],
   "source": [
    "print(\"Evaluating Support Vector Classifier \")\n",
    "print(\"-\"*10)\n",
    "acc_svc,f1_svc = get_scores(ytest,y_pred_svc)"
   ]
  },
  {
   "cell_type": "markdown",
   "id": "9871a129",
   "metadata": {},
   "source": [
    "### K-Nearest Neighbours"
   ]
  },
  {
   "cell_type": "code",
   "execution_count": 109,
   "id": "bf8e35c8",
   "metadata": {},
   "outputs": [
    {
     "data": {
      "text/plain": [
       "KNeighborsClassifier(n_neighbors=7)"
      ]
     },
     "execution_count": 109,
     "metadata": {},
     "output_type": "execute_result"
    }
   ],
   "source": [
    "from sklearn.neighbors import KNeighborsClassifier\n",
    "knn=KNeighborsClassifier(n_neighbors=7)\n",
    "knn.fit(xtrain,ytrain)\n"
   ]
  },
  {
   "cell_type": "code",
   "execution_count": 110,
   "id": "2ae3d065",
   "metadata": {},
   "outputs": [],
   "source": [
    "y_pred_knn=knn.predict(xtest)"
   ]
  },
  {
   "cell_type": "code",
   "execution_count": 111,
   "id": "6f85137e",
   "metadata": {},
   "outputs": [
    {
     "name": "stdout",
     "output_type": "stream",
     "text": [
      "Evaluating KNN Classifier \n",
      "----------\n",
      "Accuracy 0.8241758241758241\n",
      "F1- Score: 0.8399999999999999\n"
     ]
    }
   ],
   "source": [
    "print(\"Evaluating KNN Classifier \")\n",
    "print(\"-\"*10)\n",
    "acc_knn,f1_knn = get_scores(ytest,y_pred_knn)"
   ]
  },
  {
   "cell_type": "markdown",
   "id": "e8272ec6",
   "metadata": {},
   "source": [
    "## Balancing Classes using SMOTE"
   ]
  },
  {
   "cell_type": "code",
   "execution_count": 112,
   "id": "90f1bddf",
   "metadata": {},
   "outputs": [
    {
     "name": "stdout",
     "output_type": "stream",
     "text": [
      "Initial class distribution in training set\n",
      "-------------------------------------------\n",
      "{0: 97, 1: 115}\n",
      "Balancing using SMOTE\n",
      "--------------------\n",
      "Balancing COMPLETE!\n",
      " Distribution after balancing\n",
      "--------------------\n",
      "{0: 115, 1: 115}\n"
     ]
    }
   ],
   "source": [
    "xtrain_sm,ytrain_sm=balance(xtrain,ytrain)"
   ]
  },
  {
   "cell_type": "markdown",
   "id": "51b507c4",
   "metadata": {},
   "source": [
    "### Retraining the models on balanced data"
   ]
  },
  {
   "cell_type": "code",
   "execution_count": 113,
   "id": "05d73773",
   "metadata": {},
   "outputs": [
    {
     "data": {
      "text/plain": [
       "LogisticRegression()"
      ]
     },
     "execution_count": 113,
     "metadata": {},
     "output_type": "execute_result"
    }
   ],
   "source": [
    "log_reg_bal=LogisticRegression()\n",
    "log_reg_bal.fit(xtrain_sm,ytrain_sm)"
   ]
  },
  {
   "cell_type": "code",
   "execution_count": 114,
   "id": "9314b6b0",
   "metadata": {},
   "outputs": [],
   "source": [
    "ypred_bal=log_reg_bal.predict(xtest)"
   ]
  },
  {
   "cell_type": "code",
   "execution_count": 115,
   "id": "9bcdaeb1",
   "metadata": {},
   "outputs": [
    {
     "name": "stdout",
     "output_type": "stream",
     "text": [
      "Evaluating Logical Regression on Balanced Dataset \n",
      "----------\n",
      "Accuracy 0.7692307692307693\n",
      "F1- Score: 0.796116504854369\n"
     ]
    }
   ],
   "source": [
    "print(\"Evaluating Logical Regression on Balanced Dataset \")\n",
    "print(\"-\"*10)\n",
    "acc_lr_bal,f1_lr_bal = get_scores(ytest,ypred_bal)"
   ]
  },
  {
   "cell_type": "code",
   "execution_count": 116,
   "id": "174510c9",
   "metadata": {},
   "outputs": [
    {
     "data": {
      "text/plain": [
       "RandomForestClassifier(random_state=0)"
      ]
     },
     "execution_count": 116,
     "metadata": {},
     "output_type": "execute_result"
    }
   ],
   "source": [
    "rf_bal=RandomForestClassifier(n_estimators=100,random_state=0)\n",
    "rf_bal.fit(xtrain_sm,ytrain_sm)"
   ]
  },
  {
   "cell_type": "code",
   "execution_count": 117,
   "id": "1f1cbf48",
   "metadata": {},
   "outputs": [],
   "source": [
    "ypred_bal_rf=rf_bal.predict(xtest)"
   ]
  },
  {
   "cell_type": "code",
   "execution_count": 118,
   "id": "991342bb",
   "metadata": {},
   "outputs": [
    {
     "name": "stdout",
     "output_type": "stream",
     "text": [
      "Evaluating Random Forest Classifier on Balanced Dataset \n",
      "----------\n",
      "Accuracy 0.7362637362637363\n",
      "F1- Score: 0.7551020408163266\n"
     ]
    }
   ],
   "source": [
    "print(\"Evaluating Random Forest Classifier on Balanced Dataset \")\n",
    "print(\"-\"*10)\n",
    "acc_rf_bal,f1_rf_bal = get_scores(ytest,ypred_bal_rf)"
   ]
  },
  {
   "cell_type": "code",
   "execution_count": 119,
   "id": "4a858052",
   "metadata": {},
   "outputs": [
    {
     "data": {
      "text/plain": [
       "SVC(kernel='linear', probability=True)"
      ]
     },
     "execution_count": 119,
     "metadata": {},
     "output_type": "execute_result"
    }
   ],
   "source": [
    "sv_classifier_bal = SVC(kernel=\"linear\",probability=True)\n",
    "sv_classifier_bal.fit(xtrain_sm,ytrain_sm)"
   ]
  },
  {
   "cell_type": "code",
   "execution_count": 120,
   "id": "b7ada3bb",
   "metadata": {},
   "outputs": [],
   "source": [
    "ypred_svc_bal = sv_classifier_bal.predict(xtest)"
   ]
  },
  {
   "cell_type": "code",
   "execution_count": 121,
   "id": "33496a5d",
   "metadata": {},
   "outputs": [
    {
     "name": "stdout",
     "output_type": "stream",
     "text": [
      "Evaluating Support Vector Classifier on Balanced Dataset \n",
      "----------\n",
      "Accuracy 0.7912087912087912\n",
      "F1- Score: 0.8155339805825242\n"
     ]
    }
   ],
   "source": [
    "print(\"Evaluating Support Vector Classifier on Balanced Dataset \")\n",
    "print(\"-\"*10)\n",
    "acc_svc_bal,f1_svc_bal = get_scores(ytest,ypred_svc_bal)"
   ]
  },
  {
   "cell_type": "code",
   "execution_count": 128,
   "id": "1bbbddbc",
   "metadata": {},
   "outputs": [
    {
     "data": {
      "text/plain": [
       "KNeighborsClassifier(n_neighbors=7)"
      ]
     },
     "execution_count": 128,
     "metadata": {},
     "output_type": "execute_result"
    }
   ],
   "source": [
    "knn_bal=KNeighborsClassifier(n_neighbors=7)\n",
    "knn_bal.fit(xtrain_sm,ytrain_sm)"
   ]
  },
  {
   "cell_type": "code",
   "execution_count": 129,
   "id": "fca462d7",
   "metadata": {},
   "outputs": [],
   "source": [
    "ypred_knn_bal=knn_bal.predict(xtest)"
   ]
  },
  {
   "cell_type": "code",
   "execution_count": 130,
   "id": "f7adb729",
   "metadata": {},
   "outputs": [
    {
     "name": "stdout",
     "output_type": "stream",
     "text": [
      "Evaluating Logical Regression on Balanced Dataset \n",
      "----------\n",
      "Accuracy 0.8021978021978022\n",
      "F1- Score: 0.816326530612245\n"
     ]
    }
   ],
   "source": [
    "print(\"Evaluating Logical Regression on Balanced Dataset \")\n",
    "print(\"-\"*10)\n",
    "acc_knn_bal,f1_knn_bal = get_scores(ytest,ypred_knn_bal)"
   ]
  },
  {
   "cell_type": "markdown",
   "id": "9867b50d",
   "metadata": {},
   "source": [
    "### Results"
   ]
  },
  {
   "cell_type": "code",
   "execution_count": 132,
   "id": "d7466043",
   "metadata": {},
   "outputs": [
    {
     "data": {
      "text/plain": [
       "[0.7692307692307693,\n",
       " 0.7362637362637363,\n",
       " 0.7912087912087912,\n",
       " 0.8021978021978022]"
      ]
     },
     "execution_count": 132,
     "metadata": {},
     "output_type": "execute_result"
    }
   ],
   "source": [
    "acc=[]\n",
    "acc_bal=[]\n",
    "acc.append(acc_lr)\n",
    "acc.append(acc_rf)\n",
    "acc.append(acc_svc)\n",
    "acc.append(acc_knn)\n",
    "acc_bal.append(acc_lr_bal)\n",
    "acc_bal.append(acc_rf_bal)\n",
    "acc_bal.append(acc_svc_bal)\n",
    "acc_bal.append(acc_knn_bal)\n",
    "acc_bal"
   ]
  },
  {
   "cell_type": "code",
   "execution_count": 134,
   "id": "b86ebe05",
   "metadata": {},
   "outputs": [
    {
     "data": {
      "text/plain": [
       "[0.796116504854369, 0.7551020408163266, 0.8155339805825242, 0.816326530612245]"
      ]
     },
     "execution_count": 134,
     "metadata": {},
     "output_type": "execute_result"
    }
   ],
   "source": [
    "f1=[]\n",
    "f1_bal=[]\n",
    "f1.append(f1_lr)\n",
    "f1.append(f1_rf)\n",
    "f1.append(f1_svc)\n",
    "f1.append(f1_knn)\n",
    "f1_bal.append(f1_lr_bal)\n",
    "f1_bal.append(f1_rf_bal)\n",
    "f1_bal.append(f1_svc_bal)\n",
    "f1_bal.append(f1_knn_bal)\n",
    "f1_bal\n"
   ]
  },
  {
   "cell_type": "code",
   "execution_count": 136,
   "id": "ff7e67ce",
   "metadata": {},
   "outputs": [
    {
     "data": {
      "text/html": [
       "<div>\n",
       "<style scoped>\n",
       "    .dataframe tbody tr th:only-of-type {\n",
       "        vertical-align: middle;\n",
       "    }\n",
       "\n",
       "    .dataframe tbody tr th {\n",
       "        vertical-align: top;\n",
       "    }\n",
       "\n",
       "    .dataframe thead th {\n",
       "        text-align: right;\n",
       "    }\n",
       "</style>\n",
       "<table border=\"1\" class=\"dataframe\">\n",
       "  <thead>\n",
       "    <tr style=\"text-align: right;\">\n",
       "      <th></th>\n",
       "      <th>Accuracy</th>\n",
       "      <th>f1_Score</th>\n",
       "    </tr>\n",
       "  </thead>\n",
       "  <tbody>\n",
       "    <tr>\n",
       "      <th>Logical Regression</th>\n",
       "      <td>0.780220</td>\n",
       "      <td>0.803922</td>\n",
       "    </tr>\n",
       "    <tr>\n",
       "      <th>Random Forest Classifier</th>\n",
       "      <td>0.736264</td>\n",
       "      <td>0.760000</td>\n",
       "    </tr>\n",
       "    <tr>\n",
       "      <th>Support Vector Classifier</th>\n",
       "      <td>0.780220</td>\n",
       "      <td>0.807692</td>\n",
       "    </tr>\n",
       "    <tr>\n",
       "      <th>KNN Classifier</th>\n",
       "      <td>0.824176</td>\n",
       "      <td>0.840000</td>\n",
       "    </tr>\n",
       "  </tbody>\n",
       "</table>\n",
       "</div>"
      ],
      "text/plain": [
       "                           Accuracy  f1_Score\n",
       "Logical Regression         0.780220  0.803922\n",
       "Random Forest Classifier   0.736264  0.760000\n",
       "Support Vector Classifier  0.780220  0.807692\n",
       "KNN Classifier             0.824176  0.840000"
      ]
     },
     "execution_count": 136,
     "metadata": {},
     "output_type": "execute_result"
    }
   ],
   "source": [
    "results = pd.DataFrame(list(zip(acc,f1)), columns = [\"Accuracy\",\"f1_Score\"], index=[\"Logical Regression\",\"Random Forest Classifier\",\"Support Vector Classifier\",\"KNN Classifier\"])\n",
    "results"
   ]
  },
  {
   "cell_type": "code",
   "execution_count": 137,
   "id": "57d58cb0",
   "metadata": {},
   "outputs": [
    {
     "data": {
      "text/html": [
       "<div>\n",
       "<style scoped>\n",
       "    .dataframe tbody tr th:only-of-type {\n",
       "        vertical-align: middle;\n",
       "    }\n",
       "\n",
       "    .dataframe tbody tr th {\n",
       "        vertical-align: top;\n",
       "    }\n",
       "\n",
       "    .dataframe thead th {\n",
       "        text-align: right;\n",
       "    }\n",
       "</style>\n",
       "<table border=\"1\" class=\"dataframe\">\n",
       "  <thead>\n",
       "    <tr style=\"text-align: right;\">\n",
       "      <th></th>\n",
       "      <th>Accuracy</th>\n",
       "      <th>f1_Score</th>\n",
       "    </tr>\n",
       "  </thead>\n",
       "  <tbody>\n",
       "    <tr>\n",
       "      <th>Logical Regression</th>\n",
       "      <td>0.769231</td>\n",
       "      <td>0.796117</td>\n",
       "    </tr>\n",
       "    <tr>\n",
       "      <th>Random Forest Classifier</th>\n",
       "      <td>0.736264</td>\n",
       "      <td>0.755102</td>\n",
       "    </tr>\n",
       "    <tr>\n",
       "      <th>Support Vector Classifier</th>\n",
       "      <td>0.791209</td>\n",
       "      <td>0.815534</td>\n",
       "    </tr>\n",
       "    <tr>\n",
       "      <th>KNN Classifier</th>\n",
       "      <td>0.802198</td>\n",
       "      <td>0.816327</td>\n",
       "    </tr>\n",
       "  </tbody>\n",
       "</table>\n",
       "</div>"
      ],
      "text/plain": [
       "                           Accuracy  f1_Score\n",
       "Logical Regression         0.769231  0.796117\n",
       "Random Forest Classifier   0.736264  0.755102\n",
       "Support Vector Classifier  0.791209  0.815534\n",
       "KNN Classifier             0.802198  0.816327"
      ]
     },
     "execution_count": 137,
     "metadata": {},
     "output_type": "execute_result"
    }
   ],
   "source": [
    "results_bal = pd.DataFrame(list(zip(acc_bal,f1_bal)), columns = [\"Accuracy\",\"f1_Score\"], index=[\"Logical Regression\",\"Random Forest Classifier\",\"Support Vector Classifier\",\"KNN Classifier\"])\n",
    "results_bal"
   ]
  },
  {
   "cell_type": "code",
   "execution_count": null,
   "id": "7db81fa5",
   "metadata": {},
   "outputs": [],
   "source": []
  }
 ],
 "metadata": {
  "kernelspec": {
   "display_name": "Python 3.6 - AzureML",
   "language": "python",
   "name": "python3-azureml"
  },
  "language_info": {
   "codemirror_mode": {
    "name": "ipython",
    "version": 3
   },
   "file_extension": ".py",
   "mimetype": "text/x-python",
   "name": "python",
   "nbconvert_exporter": "python",
   "pygments_lexer": "ipython3",
   "version": "3.6.9"
  }
 },
 "nbformat": 4,
 "nbformat_minor": 5
}
